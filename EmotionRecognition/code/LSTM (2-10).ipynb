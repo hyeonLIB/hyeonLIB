{
 "cells": [
  {
   "cell_type": "markdown",
   "metadata": {},
   "source": [
    "## Import library"
   ]
  },
  {
   "cell_type": "code",
   "execution_count": 1,
   "metadata": {},
   "outputs": [],
   "source": [
    "import os\n",
    "import pickle\n",
    "\n",
    "import numpy as np\n",
    "import seaborn as sns\n",
    "import pandas as pd\n",
    "import scipy\n",
    "from matplotlib import pyplot as plt\n",
    "\n",
    "import tensorflow as tf\n",
    "from tensorflow import keras\n",
    "from tensorflow.keras import Sequential, layers, callbacks\n",
    "from tensorflow.keras.layers import Dense, LSTM, Dropout, GRU, Bidirectional\n",
    "from tensorflow.keras.optimizers import RMSprop, Adam\n",
    "import np_utils\n",
    "from tensorflow.keras.utils import to_categorical\n",
    "\n",
    "from sklearn.preprocessing import MinMaxScaler\n",
    "from sklearn.preprocessing import StandardScaler\n",
    "from sklearn.model_selection import train_test_split\n",
    "\n",
    "from IPython.core.pylabtools import figsize"
   ]
  },
  {
   "cell_type": "markdown",
   "metadata": {},
   "source": [
    "#### - load features data"
   ]
  },
  {
   "cell_type": "code",
   "execution_count": 2,
   "metadata": {},
   "outputs": [
    {
     "name": "stdout",
     "output_type": "stream",
     "text": [
      "800\n",
      "length of features data : 800\n"
     ]
    }
   ],
   "source": [
    "# for natural sorting\n",
    "import re\n",
    "\n",
    "def tryint(s):\n",
    "    try:\n",
    "        return int(s)\n",
    "    except:\n",
    "        return s\n",
    "def alphanum_key(s):\n",
    "    \"\"\" Turn a string into a list of string and number chunks.\n",
    "        \"z23a\" -> [\"z\", 23, \"a\"]\n",
    "    \"\"\"\n",
    "    return [ tryint(c) for c in re.split('([0-9]+)', s) ]\n",
    "def sort_nicely(l):\n",
    "    \"\"\" Sort the given list in the way that humans expect.\n",
    "    \"\"\"\n",
    "    l.sort(key=alphanum_key)\n",
    "    \n",
    "    \n",
    "dir_path = \"/tmp/elias/emotion_recognition/features\"\n",
    "\n",
    "dir_list = os.listdir(dir_path)\n",
    "dir_list.sort()\n",
    "dir_list.pop(0)\n",
    "sort_nicely(dir_list)\n",
    "\n",
    "dir_list = dir_list[:800]\n",
    "print(len(dir_list))\n",
    "\n",
    "path = \"/tmp/elias/emotion_recognition/features/\"\n",
    "features_data = []\n",
    "count = 0\n",
    "for file in dir_list:\n",
    "    data = np.loadtxt(path+file, delimiter=',',skiprows=1, usecols=range(1,13))\n",
    "    features_data.append(data)\n",
    "#     print(count)\n",
    "#     count +=1\n",
    "\n",
    "print(\"length of features data :\", len(features_data))"
   ]
  },
  {
   "cell_type": "markdown",
   "metadata": {},
   "source": [
    "#### - load labels data"
   ]
  },
  {
   "cell_type": "raw",
   "metadata": {},
   "source": [
    "dir_list_ = os.listdir(\"/tmp/elias/emotion_recognition/data\")\n",
    "dir_list_.sort()\n",
    "dir_list_ = dir_list_[:20]\n",
    "\n",
    "labels_Arousal = []\n",
    "labels_Valence = []\n",
    "for file in dir_list_:\n",
    "    dat_file = '/tmp/elias/emotion_recognition/data/' + file\n",
    "    with open(dat_file, 'rb') as f:\n",
    "        Channel_data =pickle.load(f,encoding='latin1')\n",
    "    labels = Channel_data[\"labels\"]\n",
    "    for value in labels:\n",
    "        if value[0] < 5:\n",
    "            labels_Valence.append(0)\n",
    "        if value[0] >= 5:\n",
    "            labels_Valence.append(1)\n",
    "        if value[1] < 5:\n",
    "            labels_Arousal.append(0)\n",
    "        if value[1] >= 5:\n",
    "            labels_Arousal.append(1)\n",
    "\n",
    "print(\"length of Arousal labels data :\", len(labels_Arousal), \"length of Valence labels data :\", len(labels_Valence))"
   ]
  },
  {
   "cell_type": "raw",
   "metadata": {},
   "source": [
    "dir_list_ = os.listdir(\"/tmp/elias/emotion_recognition/data\")\n",
    "dir_list_.sort()\n",
    "dir_list_ = dir_list_[:20]\n",
    "label = []\n",
    "\n",
    "for file in dir_list_:\n",
    "    dat_file = '/tmp/elias/emotion_recognition/data/' + file\n",
    "    with open(dat_file, 'rb') as f:\n",
    "        Channel_data =pickle.load(f,encoding='latin1')\n",
    "    labels = Channel_data[\"labels\"]\n",
    "    for value in labels:\n",
    "        if value[0] < 5:\n",
    "            Valence = 0\n",
    "        if value[0] >= 5:\n",
    "            Valence = 1\n",
    "        if value[1] < 5:\n",
    "            Arousal = 0\n",
    "        if value[1] >= 5:\n",
    "            Arousal = 1\n",
    "        label.append([Valence, Arousal])\n",
    "                \n",
    "# print(\"length of Arousal labels data :\", len(labels_Arousal), \"length of Valence labels data :\", len(labels_Valence))"
   ]
  },
  {
   "cell_type": "code",
   "execution_count": 3,
   "metadata": {},
   "outputs": [],
   "source": [
    "dir_list_ = os.listdir(\"/tmp/elias/emotion_recognition/data\")\n",
    "dir_list_.sort()\n",
    "dir_list_ = dir_list_[:20]\n",
    "label = []\n",
    "\n",
    "# for file in dir_list_:\n",
    "#     dat_file = '/tmp/elias/emotion_recognition/data/' + file\n",
    "#     with open(dat_file, 'rb') as f:\n",
    "#         Channel_data =pickle.load(f,encoding='latin1')\n",
    "#     labels = Channel_data[\"labels\"]\n",
    "#     for value in labels:\n",
    "#         if value[0] < 5:\n",
    "#             Valence=0\n",
    "#             if value[1] < 5:\n",
    "#                 Aroucal=0\n",
    "#                 tmp = [1,0,0,0]\n",
    "#             else:\n",
    "#                 Aroucal=1\n",
    "#                 tmp = [0,0,1,0]\n",
    "#         if value[0] >= 5:\n",
    "#             Valence=1\n",
    "#             if value[1] < 5:\n",
    "#                 Arousal=0\n",
    "#                 tmp = [0,1,0,0]\n",
    "#             else:\n",
    "#                 Aroucal=1\n",
    "#                 tmp = [0,0,0,1]\n",
    "#         label.append(tmp)\n",
    "\n",
    "for file in dir_list_:\n",
    "    dat_file = '/tmp/elias/emotion_recognition/data/' + file\n",
    "    with open(dat_file, 'rb') as f:\n",
    "        Channel_data =pickle.load(f,encoding='latin1')\n",
    "    labels = Channel_data[\"labels\"]\n",
    "    for value in labels:\n",
    "        if value[0] < 5:\n",
    "            if value[1] < 5:\n",
    "                label.append(0) # [0 0 0 0] V=0, A=0\n",
    "            else:\n",
    "                label.append(1) # [0 1 0 0] V=0, A=1\n",
    "        else:\n",
    "            if value[1] < 5:\n",
    "                label.append(2) # [0 0 1 0] V=1, A=0\n",
    "            else:\n",
    "                label.append(3) # [0 0 0 0] V=1, A=1\n",
    "                \n",
    "# print(\"length of Arousal labels data :\", len(labels_Arousal), \"length of Valence labels data :\", len(labels_Valence))"
   ]
  },
  {
   "cell_type": "markdown",
   "metadata": {},
   "source": [
    "## Load data"
   ]
  },
  {
   "cell_type": "raw",
   "metadata": {},
   "source": [
    "# make sure you loaded data with no error\n",
    "print(dir_list[0])\n",
    "print(features_data[0])\n",
    "print(labels_Arousal[0])\n",
    "print(labels_Valence[0])"
   ]
  },
  {
   "cell_type": "raw",
   "metadata": {},
   "source": [
    "# data = pd.read_csv('/tmp/elias/emotion_recognition/features/0vid_1_1.csv', header = None)\n",
    "# import csv\n",
    "# file = open(\"/tmp/elias/emotion_recognition/features/0vid_1_1.csv\", \"r\")\n",
    "# csv_reader = csv.reader(file)\n",
    "\n",
    "# lists_from_csv = []\n",
    "# for row in csv_reader:\n",
    "#     lists_from_csv.append(row)\n",
    "# lists_from_csv.pop(0)\n",
    "# print(lists_from_csv)\n",
    "# print(len(lists_from_csv[0]))"
   ]
  },
  {
   "cell_type": "markdown",
   "metadata": {},
   "source": [
    "## Assign GPU memory"
   ]
  },
  {
   "cell_type": "code",
   "execution_count": 4,
   "metadata": {},
   "outputs": [
    {
     "name": "stdout",
     "output_type": "stream",
     "text": [
      "1 Physical GPUs, 1 Logical GPUs\n"
     ]
    },
    {
     "name": "stderr",
     "output_type": "stream",
     "text": [
      "2022-02-10 23:44:10.292558: I tensorflow/stream_executor/platform/default/dso_loader.cc:44] Successfully opened dynamic library libcuda.so.1\n",
      "2022-02-10 23:44:10.325369: I tensorflow/core/common_runtime/gpu/gpu_device.cc:1555] Found device 0 with properties: \n",
      "pciBusID: 0000:02:00.0 name: NVIDIA GeForce RTX 2080 Ti computeCapability: 7.5\n",
      "coreClock: 1.545GHz coreCount: 68 deviceMemorySize: 10.76GiB deviceMemoryBandwidth: 573.69GiB/s\n",
      "2022-02-10 23:44:10.325725: I tensorflow/stream_executor/platform/default/dso_loader.cc:44] Successfully opened dynamic library libcudart.so.10.1\n",
      "2022-02-10 23:44:10.328082: I tensorflow/stream_executor/platform/default/dso_loader.cc:44] Successfully opened dynamic library libcublas.so.10\n",
      "2022-02-10 23:44:10.330130: I tensorflow/stream_executor/platform/default/dso_loader.cc:44] Successfully opened dynamic library libcufft.so.10\n",
      "2022-02-10 23:44:10.330459: I tensorflow/stream_executor/platform/default/dso_loader.cc:44] Successfully opened dynamic library libcurand.so.10\n",
      "2022-02-10 23:44:10.332781: I tensorflow/stream_executor/platform/default/dso_loader.cc:44] Successfully opened dynamic library libcusolver.so.10\n",
      "2022-02-10 23:44:10.334071: I tensorflow/stream_executor/platform/default/dso_loader.cc:44] Successfully opened dynamic library libcusparse.so.10\n",
      "2022-02-10 23:44:10.339269: I tensorflow/stream_executor/platform/default/dso_loader.cc:44] Successfully opened dynamic library libcudnn.so.7\n",
      "2022-02-10 23:44:10.340586: I tensorflow/core/common_runtime/gpu/gpu_device.cc:1697] Adding visible gpu devices: 0\n",
      "2022-02-10 23:44:10.341479: I tensorflow/core/platform/cpu_feature_guard.cc:142] Your CPU supports instructions that this TensorFlow binary was not compiled to use: SSE4.1 SSE4.2 AVX AVX2 FMA\n",
      "2022-02-10 23:44:10.368272: I tensorflow/core/platform/profile_utils/cpu_utils.cc:94] CPU Frequency: 2099990000 Hz\n",
      "2022-02-10 23:44:10.370438: I tensorflow/compiler/xla/service/service.cc:168] XLA service 0x55c40eecfb10 initialized for platform Host (this does not guarantee that XLA will be used). Devices:\n",
      "2022-02-10 23:44:10.370479: I tensorflow/compiler/xla/service/service.cc:176]   StreamExecutor device (0): Host, Default Version\n",
      "2022-02-10 23:44:10.371605: I tensorflow/core/common_runtime/gpu/gpu_device.cc:1555] Found device 0 with properties: \n",
      "pciBusID: 0000:02:00.0 name: NVIDIA GeForce RTX 2080 Ti computeCapability: 7.5\n",
      "coreClock: 1.545GHz coreCount: 68 deviceMemorySize: 10.76GiB deviceMemoryBandwidth: 573.69GiB/s\n",
      "2022-02-10 23:44:10.371682: I tensorflow/stream_executor/platform/default/dso_loader.cc:44] Successfully opened dynamic library libcudart.so.10.1\n",
      "2022-02-10 23:44:10.371712: I tensorflow/stream_executor/platform/default/dso_loader.cc:44] Successfully opened dynamic library libcublas.so.10\n",
      "2022-02-10 23:44:10.371738: I tensorflow/stream_executor/platform/default/dso_loader.cc:44] Successfully opened dynamic library libcufft.so.10\n",
      "2022-02-10 23:44:10.371764: I tensorflow/stream_executor/platform/default/dso_loader.cc:44] Successfully opened dynamic library libcurand.so.10\n",
      "2022-02-10 23:44:10.371800: I tensorflow/stream_executor/platform/default/dso_loader.cc:44] Successfully opened dynamic library libcusolver.so.10\n",
      "2022-02-10 23:44:10.371826: I tensorflow/stream_executor/platform/default/dso_loader.cc:44] Successfully opened dynamic library libcusparse.so.10\n",
      "2022-02-10 23:44:10.371852: I tensorflow/stream_executor/platform/default/dso_loader.cc:44] Successfully opened dynamic library libcudnn.so.7\n",
      "2022-02-10 23:44:10.373331: I tensorflow/core/common_runtime/gpu/gpu_device.cc:1697] Adding visible gpu devices: 0\n",
      "2022-02-10 23:44:10.373389: I tensorflow/stream_executor/platform/default/dso_loader.cc:44] Successfully opened dynamic library libcudart.so.10.1\n",
      "2022-02-10 23:44:10.580402: I tensorflow/core/common_runtime/gpu/gpu_device.cc:1096] Device interconnect StreamExecutor with strength 1 edge matrix:\n",
      "2022-02-10 23:44:10.580440: I tensorflow/core/common_runtime/gpu/gpu_device.cc:1102]      0 \n",
      "2022-02-10 23:44:10.580450: I tensorflow/core/common_runtime/gpu/gpu_device.cc:1115] 0:   N \n",
      "2022-02-10 23:44:10.582522: I tensorflow/core/common"
     ]
    }
   ],
   "source": [
    "gpus = tf.config.experimental.list_physical_devices('GPU')\n",
    "if gpus:\n",
    "  # Restrict TensorFlow to only allocate 2 GB of memory on the first GPU\n",
    "  try:\n",
    "    tf.config.experimental.set_virtual_device_configuration(\n",
    "        gpus[0],\n",
    "        [tf.config.experimental.VirtualDeviceConfiguration(memory_limit=6000)]) # limit in megabytes\n",
    "    logical_gpus = tf.config.experimental.list_logical_devices('GPU')\n",
    "    print(len(gpus), \"Physical GPUs,\", len(logical_gpus), \"Logical GPUs\")\n",
    "  except RuntimeError as e:\n",
    "    # Virtual devices must be set before GPUs have been initialized\n",
    "    print(e)"
   ]
  },
  {
   "cell_type": "markdown",
   "metadata": {},
   "source": [
    "## Split data into train and test\n",
    "- what we have to do for this\n",
    " - 동영상 기준? ㅁ\n",
    " - 샘플 기준?"
   ]
  },
  {
   "cell_type": "raw",
   "metadata": {},
   "source": [
    "# train 80%, test 20%\n",
    "train_data = features_data[:672]\n",
    "test_data = features_data[672:]\n",
    "train_data_Vlabels = labels_Valence[:672]\n",
    "train_data_Alabels = labels_Arousal[:672]\n",
    "test_data_Vlabels = labels_Valence[672:]\n",
    "test_data_Alabels = labels_Arousal[672:]\n",
    "print(len(train_data))\n",
    "print(len(test_data))"
   ]
  },
  {
   "cell_type": "code",
   "execution_count": 5,
   "metadata": {},
   "outputs": [
    {
     "name": "stdout",
     "output_type": "stream",
     "text": [
      "672\n",
      "128\n",
      "800\n",
      "672\n"
     ]
    },
    {
     "name": "stderr",
     "output_type": "stream",
     "text": [
      "_runtime/gpu/gpu_device.cc:1241] Created TensorFlow device (/job:localhost/replica:0/task:0/device:GPU:0 with 6000 MB memory) -> physical GPU (device: 0, name: NVIDIA GeForce RTX 2080 Ti, pci bus id: 0000:02:00.0, compute capability: 7.5)\n",
      "2022-02-10 23:44:10.585108: I tensorflow/compiler/xla/service/service.cc:168] XLA service 0x55c40c8e9700 initialized for platform CUDA (this does not guarantee that XLA will be used). Devices:\n",
      "2022-02-10 23:44:10.585129: I tensorflow/compiler/xla/service/service.cc:176]   StreamExecutor device (0): NVIDIA GeForce RTX 2080 Ti, Compute Capability 7.5\n"
     ]
    }
   ],
   "source": [
    "# train 80%, test 20%\n",
    "train_data = features_data[:672]\n",
    "test_data = features_data[672:]\n",
    "train_data_labels = label[:672]\n",
    "test_data_labels = label[672:]\n",
    "print(len(train_data))\n",
    "print(len(test_data))\n",
    "print(len(label))\n",
    "print(len(train_data_labels))"
   ]
  },
  {
   "cell_type": "markdown",
   "metadata": {},
   "source": [
    "## Set train and test data"
   ]
  },
  {
   "cell_type": "raw",
   "metadata": {},
   "source": [
    "x_train_data = np.array(train_data)\n",
    "y_train_data = np.array(train_data_Vlabels)\n",
    "x_test_data = np.array(test_data)\n",
    "y_test_data = np.array(test_data_Vlabels)\n",
    "print(x_train_data.shape , y_train_data.shape)\n",
    "\n",
    "# normalize data\n",
    "Train_nsamples, Train_nx, Train_ny = x_train_data.shape\n",
    "train_dataset = x_train_data.reshape((Train_nsamples,Train_nx*Train_ny))\n",
    "Test_nsamples, Test_nx, Test_ny = x_test_data.shape\n",
    "test_dataset = x_test_data.reshape((Test_nsamples,Test_nx*Test_ny))\n",
    "scaler = MinMaxScaler(feature_range=(0, 1))\n",
    "x_train_data = scaler.fit_transform(train_dataset)\n",
    "x_test_data = scaler.fit_transform(test_dataset)\n",
    "\n",
    "###\n",
    "# X_train = x_train_data.reshape((x_train_data.shape[0], x_train_data.shape[1], 18))\n",
    "X_train = x_train_data.reshape((Train_nsamples, Train_nx, Train_ny))\n",
    "X_test = x_test_data.reshape((Test_nsamples, Test_nx, Test_ny))\n",
    "Y_train = y_train_data.reshape((y_train_data.shape[0], 1))\n",
    "Y_test = y_test_data.reshape((y_test_data.shape[0], 1))\n",
    "# array([[a],[b],[c]...])\n",
    "\n",
    "print(X_train.shape)\n",
    "print(X_test.shape)\n",
    "print(Y_train.shape)"
   ]
  },
  {
   "cell_type": "raw",
   "metadata": {},
   "source": [
    "x_train_data = np.array(train_data)\n",
    "y_train_data = np.array(train_data_Vlabels)\n",
    "x_test_data = np.array(test_data)\n",
    "y_test_data = np.array(test_data_Vlabels)\n",
    "print(x_train_data.shape , y_train_data.shape)\n",
    "\n",
    "# normalize data\n",
    "Train_nsamples, Train_nx, Train_ny = x_train_data.shape\n",
    "train_dataset = x_train_data.reshape((Train_nsamples,Train_nx*Train_ny))\n",
    "Test_nsamples, Test_nx, Test_ny = x_test_data.shape\n",
    "test_dataset = x_test_data.reshape((Test_nsamples,Test_nx*Test_ny))\n",
    "scaler = MinMaxScaler(feature_range=(0, 1))\n",
    "x_train_data = scaler.fit_transform(train_dataset)\n",
    "x_test_data = scaler.fit_transform(test_dataset)\n",
    "\n",
    "###\n",
    "# X_train = x_train_data.reshape((x_train_data.shape[0], x_train_data.shape[1], 18))\n",
    "X_train = x_train_data.reshape((Train_nsamples, Train_nx, Train_ny))\n",
    "X_test = x_test_data.reshape((Test_nsamples, Test_nx, Test_ny))\n",
    "Y_train = y_train_data.reshape((y_train_data.shape[0], 1))\n",
    "Y_test = y_test_data.reshape((y_test_data.shape[0], 1))\n",
    "# array([[a],[b],[c]...])\n",
    "\n",
    "print(X_train.shape)\n",
    "print(X_test.shape)\n",
    "print(Y_train.shape)"
   ]
  },
  {
   "cell_type": "raw",
   "metadata": {},
   "source": [
    "x_train_data = np.array(train_data)\n",
    "y_train_data = np.array(train_data_labels)\n",
    "x_test_data = np.array(test_data)\n",
    "y_test_data = np.array(test_data_labels)\n",
    "print(x_train_data.shape , y_train_data.shape)\n",
    "\n",
    "# normalize data\n",
    "Train_nsamples, Train_nx, Train_ny = x_train_data.shape\n",
    "train_dataset = x_train_data.reshape((Train_nsamples,Train_nx*Train_ny))\n",
    "Test_nsamples, Test_nx, Test_ny = x_test_data.shape\n",
    "test_dataset = x_test_data.reshape((Test_nsamples,Test_nx*Test_ny))\n",
    "scaler = MinMaxScaler(feature_range=(0, 1))\n",
    "x_train_data = scaler.fit_transform(train_dataset)\n",
    "x_test_data = scaler.fit_transform(test_dataset)\n",
    "\n",
    "###\n",
    "X_train = x_train_data.reshape((Train_nsamples, Train_nx, Train_ny))\n",
    "X_test = x_test_data.reshape((Test_nsamples, Test_nx, Test_ny))\n",
    "Y_train = y_train_data.reshape((y_train_data.shape[0], 2))\n",
    "Y_test = y_test_data.reshape((y_test_data.shape[0], 2))\n",
    "\n",
    "# print(X_train.shape)\n",
    "# print(X_test.shape)\n",
    "# print(Y_train.shape)"
   ]
  },
  {
   "cell_type": "code",
   "execution_count": 6,
   "metadata": {},
   "outputs": [
    {
     "name": "stdout",
     "output_type": "stream",
     "text": [
      "(672, 6337, 12)\n",
      "(128, 6337, 12)\n",
      "(672, 4)\n"
     ]
    }
   ],
   "source": [
    "x_train_data = np.array(train_data)\n",
    "y_train_data = np.array(train_data_labels)\n",
    "x_test_data = np.array(test_data)\n",
    "y_test_data = np.array(test_data_labels)\n",
    "x_train_data.shape , y_train_data.shape\n",
    "\n",
    "# normalize data\n",
    "Train_nsamples, Train_nx, Train_ny = x_train_data.shape\n",
    "train_dataset = x_train_data.reshape((Train_nsamples,Train_nx*Train_ny))\n",
    "Test_nsamples, Test_nx, Test_ny = x_test_data.shape\n",
    "test_dataset = x_test_data.reshape((Test_nsamples,Test_nx*Test_ny))\n",
    "scaler = MinMaxScaler(feature_range=(0, 1))\n",
    "x_train_data = scaler.fit_transform(train_dataset)\n",
    "x_test_data = scaler.fit_transform(test_dataset)\n",
    "\n",
    "###\n",
    "X_train = x_train_data.reshape((Train_nsamples, Train_nx, Train_ny))\n",
    "X_test = x_test_data.reshape((Test_nsamples, Test_nx, Test_ny))\n",
    "Y_train = to_categorical(np.reshape(y_train_data,(len(y_train_data),1)))\n",
    "Y_test = to_categorical(np.reshape(y_test_data,(len(y_test_data),1)))\n",
    "\n",
    "print(X_train.shape)\n",
    "print(X_test.shape)\n",
    "print(Y_train.shape)"
   ]
  },
  {
   "cell_type": "markdown",
   "metadata": {},
   "source": [
    "## Build RNN, LSTM, GRU model"
   ]
  },
  {
   "cell_type": "code",
   "execution_count": 7,
   "metadata": {},
   "outputs": [],
   "source": [
    "# Set Hyperparameters of the model\n",
    "learning_rate = 0.001\n",
    "epochs = 200\n",
    "batch_size=64"
   ]
  },
  {
   "cell_type": "code",
   "execution_count": 8,
   "metadata": {},
   "outputs": [
    {
     "data": {
      "text/plain": [
       "(6337, 12)"
      ]
     },
     "execution_count": 8,
     "metadata": {},
     "output_type": "execute_result"
    }
   ],
   "source": [
    "X_train[0].shape"
   ]
  },
  {
   "cell_type": "markdown",
   "metadata": {},
   "source": [
    "### Binary Classification"
   ]
  },
  {
   "cell_type": "raw",
   "metadata": {},
   "source": [
    "model = Sequential()\n",
    "model.add(Bidirectional(LSTM(128,\n",
    "                             dropout=0.25,\n",
    "                             recurrent_dropout=0.25,\n",
    "                             return_sequences=True,\n",
    "                             input_shape=X_train[0].shape)))\n",
    "model.add(Dropout(0.3))\n",
    "model.add(Bidirectional(LSTM(256,\n",
    "                             dropout=0.25,\n",
    "                             recurrent_dropout=0.25,\n",
    "                             return_sequences=False)))\n",
    "model.add(Dropout(0.3))\n",
    "model.add(Dense(128, activation='relu'))\n",
    "model.add(Dropout(0.3))\n",
    "model.add(Dense(1, activation='sigmoid'))\n",
    "model.compile(optimizer=Adam(lr=0.001), loss='binary_crossentropy', metrics=['accuracy'])\n",
    "# model.summary()\n",
    "\n",
    "history = model.fit(X_train,\n",
    "                    Y_train,\n",
    "                    epochs=epochs,\n",
    "                    batch_size=64,\n",
    "#                     validation_split=0.2,\n",
    "                    validation_data=(X_test, Y_test),\n",
    "                    verbose=2)"
   ]
  },
  {
   "cell_type": "raw",
   "metadata": {},
   "source": [
    "# one GRU layers with three dense layers-> IT WORKS !\n",
    "model = Sequential()\n",
    "model.add(GRU(units=128,\n",
    "              dropout=0.25,\n",
    "              recurrent_dropout=0.25,\n",
    "              return_sequences=False,\n",
    "              input_shape=X_train[0].shape))\n",
    "\n",
    "# Dense net\n",
    "model.add(Dropout(0.2))\n",
    "model.add(Dense(256, activation='relu'))\n",
    "model.add(Dropout(0.2))\n",
    "model.add(Dense(2, activation='sigmoid'))\n",
    "\n",
    "model.compile(loss='binary_crossentropy', optimizer=Adam(lr=learning_rate), metrics=['accuracy'])\n",
    "model.summary()"
   ]
  },
  {
   "cell_type": "raw",
   "metadata": {},
   "source": [
    "# two GRU layers with four dense layers-> IT WORKS !\n",
    "model = Sequential()\n",
    "model.add(GRU(units=128,\n",
    "              dropout=0.25,\n",
    "              recurrent_dropout=0.25,\n",
    "              return_sequences=True,\n",
    "              input_shape=X_train[0].shape))\n",
    "\n",
    "# model.add(GRU(units=128,\n",
    "#               dropout=0.25,\n",
    "#               recurrent_dropout=0.25,\n",
    "#               return_sequences =True))\n",
    "\n",
    "model.add(GRU(units=256,\n",
    "              return_sequences =False))\n",
    "\n",
    "# Dense net\n",
    "# model.add(Dense(256))\n",
    "model.add(Dropout(0.2))\n",
    "model.add(Dense(128, activation='relu'))\n",
    "model.add(Dropout(0.2))\n",
    "model.add(Dense(64, activation='relu'))\n",
    "model.add(Dropout(0.2))\n",
    "model.add(Dense(1, activation='sigmoid'))\n",
    "\n",
    "model.compile(loss='binary_crossentropy', optimizer=Adam(lr=learning_rate), metrics=['accuracy'])\n",
    "model.summary()"
   ]
  },
  {
   "cell_type": "raw",
   "metadata": {},
   "source": [
    "# two GRU layers with five dense layers-> IT WORKS !\n",
    "model = Sequential()\n",
    "model.add(GRU(units=128,\n",
    "              dropout=0.25,\n",
    "              recurrent_dropout=0.25,\n",
    "              return_sequences=True,\n",
    "              input_shape=X_train[0].shape))\n",
    "\n",
    "model.add(GRU(units=256,\n",
    "              return_sequences =False))\n",
    "\n",
    "## gotta add dropout!\n",
    "\n",
    "# Dense net\n",
    "model.add(Dropout(0.2))\n",
    "model.add(Dense(256))\n",
    "model.add(Dropout(0.2))\n",
    "model.add(Dense(256, activation='relu'))\n",
    "model.add(Dropout(0.1))\n",
    "model.add(Dense(64, activation='relu'))\n",
    "model.add(Dropout(0.1))\n",
    "model.add(Dense(1, activation='sigmoid'))\n",
    "\n",
    "model.compile(loss='binary_crossentropy', optimizer=Adam(lr=learning_rate), metrics=['accuracy'])\n",
    "model.summary()"
   ]
  },
  {
   "cell_type": "raw",
   "metadata": {},
   "source": [
    " been# three GRU layers -> It doesn't work...\n",
    "model = Sequential()\n",
    "model.add(GRU(units=64,\n",
    "              dropout=0.25,\n",
    "              recurrent_dropout=0.25,\n",
    "              return_sequences=True,\n",
    "              input_shape=X_train[0].shape))\n",
    "\n",
    "model.add(GRU(units=128,\n",
    "              dropout=0.25,\n",
    "              recurrent_dropout=0.25,\n",
    "              return_sequences =True))\n",
    "\n",
    "model.add(GRU(units=256,\n",
    "              return_sequences =False))\n",
    "\n",
    "## gotta add dropout!\n",
    "\n",
    "# Dense net\n",
    "# model.add(Dense(256))\n",
    "model.add(Dropout(0.2))\n",
    "model.add(Dense(128, activation='relu'))\n",
    "model.add(Dropout(0.2))\n",
    "model.add(Dense(64, activation='relu'))\n",
    "model.add(Dropout(0.2))\n",
    "model.add(Dense(1, activation='sigmoid'))\n",
    "\n",
    "model.compile(loss='binary_crossentropy', optimizer=Adam(lr=learning_rate), metrics=['accuracy'])\n",
    "model.summary()"
   ]
  },
  {
   "cell_type": "raw",
   "metadata": {},
   "source": [
    " been# two bidirectional GRU layers -> it doesn't work..\n",
    "model = Sequential()\n",
    "model.add(Bidirectional(GRU(units=128,\n",
    "                            dropout=0.25,\n",
    "                            recurrent_dropout=0.25,\n",
    "                            return_sequences=True,\n",
    "                            input_shape=X_train[0].shape)))\n",
    "\n",
    "# model.add(GRU(units=128,\n",
    "#               dropout=0.25,\n",
    "#               recurrent_dropout=0.25,\n",
    "#               return_sequences =True))\n",
    "\n",
    "model.add(Bidirectional(GRU(units=256,\n",
    "                            dropout=0.25,\n",
    "                            recurrent_dropout=0.25,\n",
    "                            return_sequences=False)))\n",
    "\n",
    "## gotta add dropout!\n",
    "\n",
    "# Dense net\n",
    "# model.add(Dense(256))\n",
    "model.add(Dropout(0.2))\n",
    "model.add(Dense(128, activation='relu'))\n",
    "model.add(Dropout(0.2))\n",
    "model.add(Dense(64, activation='relu'))\n",
    "model.add(Dropout(0.2))\n",
    "model.add(Dense(1, activation='sigmoid'))\n",
    "\n",
    "model.compile(loss='binary_crossentropy', optimizer=Adam(lr=learning_rate), metrics=['accuracy'])\n",
    "# model.summary()"
   ]
  },
  {
   "cell_type": "raw",
   "metadata": {},
   "source": [
    "model1 = Sequential()\n",
    "# model1.add(GRU(units=64, activation='relu', input_shape=X_train[0].shape))\n",
    "model1.add(GRU(units=64, activation='relu', input_shape=(6400,18),return_sequences=True))\n",
    "# model1.add(GRU(units=128, return_sequences = True))\n",
    "# model1.add(GRU(units=128, return_sequences =True))\n",
    "model1.add(GRU(units=256))\n",
    "\n",
    "## gotta add dropout!\n",
    "# model.add(GRU(units=128, return_sequences=True, return_state=True,dropout=0.2))\n",
    "\n",
    "# Dense net\n",
    "model1.add(Dense(256))\n",
    "# model.dropout(0.2)\n",
    "model1.add(Dense(128))\n",
    "model1.add(Dense(64))\n",
    "model1.add(Dense(1))\n",
    "\n",
    "model1.compile(loss='binary_crossentropy',optimizer=Adam(lr=learning_rate),metrics=['mae'])\n",
    "model1.summary()"
   ]
  },
  {
   "cell_type": "raw",
   "metadata": {},
   "source": [
    "inputs = keras.Input(shape=(6400,18))\n",
    "model = GRU(units=64,return_sequences=True,activation='relu')(inputs)\n",
    "model = GRU(units=128,return_sequences=True,activation='relu')(model)\n",
    "model = GRU(units=256,return_sequences=True,activation='relu')(model)\n",
    "model = GRU(units=128,activation='relu')(model)\n",
    "model = layers.Dense(64,activation='relu')(model)\n",
    "outputs = layers.Dense(1,activation='sigmoid')(model)\n",
    "\n",
    "model1 = keras.Model(inputs,outputs)\n",
    "model1.summary()\n",
    "# model.compile(loss='binary_crossentropy', optimizer='adam', metrics=['accuracy'])\n",
    "# model.summary()"
   ]
  },
  {
   "cell_type": "raw",
   "metadata": {},
   "source": [
    "model1.compile(loss='binary_crossentropy', optimizer='adam', metrics=['accuracy'])\n",
    "hist=model1.fit(X_train,Y_train,epochs=epochs,batch_size=batch_size)"
   ]
  },
  {
   "cell_type": "raw",
   "metadata": {},
   "source": [
    "## bidirectional\n",
    "model1 = Sequential([\n",
    "Bidirectional(layers.LSTM(units=100,activation='relu', return_sequences=True, return_state=True, input_shape=(1, 50))),\n",
    "Bidirectional(layers.LSTM(units=100,activation='relu', return_sequences=True, return_state=True)),\n",
    "Bidirectional(layers.LSTM(units=100,activation='relu', return_sequences=True, return_state=False)),\n",
    "Dense(units=100,activation='relu'),\n",
    "Dropout(0.1),\n",
    "Dense(units=100,activation='relu'),\n",
    "Dense(1)\n",
    "])\n",
    "\n",
    "##\n",
    "# model = Sequential()\n",
    "# # model.add(GRU(units=64, activation='relu', input_shape=X_train[0].shape))\n",
    "# model.add(GRU(units=64, activation='relu', input_shape=(672,18)))\n",
    "# model.add(GRU(units=128, return_sequences = True, return_state = True))\n",
    "# # model.add(GRU(units=128, return_sequences =True, return_state=True, statefull=True))\n",
    "# model.add(GRU(units=128))\n",
    "\n",
    "\n",
    "# ## gotta add dropout!\n",
    "# # model.add(GRU(units=128, return_sequences=True, return_state=True,dropout=0.2))\n",
    "\n",
    "# # Dense net\n",
    "# # model.add(Dense(128))\n",
    "# # model.add(Dense(256))\n",
    "# # model.add(Dense(512))\n",
    "# # model.add(Dense(1024))\n",
    "# # model.add(Dense(512))\n",
    "# model.add(Dense(128))\n",
    "# model.add(Dense(64))\n",
    "# model.add(Dense(1))\n",
    "\n",
    "model1.compile(loss='binary_crossentropy',optimizer=Adam(lr=learning_rate),metrics=['mae'])\n",
    "history = model1.fit(X_train,Y_train, epochs=epochs,validation_split=0.1)\n",
    "model1.evaluate(test_input,test_output)\n",
    "# model1.summary()"
   ]
  },
  {
   "cell_type": "raw",
   "metadata": {},
   "source": [
    "history=model.fit(X_train,\n",
    "                  Y_train,\n",
    "                  epochs=epochs,\n",
    "                  batch_size=batch_size,\n",
    "                  validation_data=(X_test,Y_test),\n",
    "                  verbose=1)"
   ]
  },
  {
   "cell_type": "markdown",
   "metadata": {},
   "source": [
    "### Softmax"
   ]
  },
  {
   "cell_type": "code",
   "execution_count": 9,
   "metadata": {},
   "outputs": [
    {
     "name": "stdout",
     "output_type": "stream",
     "text": [
      "Model: \"sequential\"\n",
      "_________________________________________________________________\n",
      "Layer (type)                 Output Shape              Param #   \n",
      "=================================================================\n",
      "gru (GRU)                    (None, 128)               54528     \n",
      "_________________________________________________________________\n",
      "dropout (Dropout)            (None, 128)               0         \n",
      "_________________________________________________________________\n",
      "dense (Dense)                (None, 256)               33024     \n",
      "_________________________________________________________________\n",
      "dropout_1 (Dropout)          (None, 256)               0         \n",
      "_________________________________________________________________\n",
      "dense_1 (Dense)              (None, 4)                 1028      \n",
      "=================================================================\n",
      "Total params: 88,580\n",
      "Trainable params: 88,580\n",
      "Non-trainable params: 0\n",
      "_________________________________________________________________\n"
     ]
    }
   ],
   "source": [
    "# one GRU layers with three dense layers-> IT WORKS !\n",
    "model = Sequential()\n",
    "model.add(GRU(units=128,\n",
    "              dropout=0.25,\n",
    "              recurrent_dropout=0.25,\n",
    "              return_sequences=False,\n",
    "              input_shape=X_train[0].shape))\n",
    "\n",
    "# Dense net\n",
    "model.add(Dropout(0.2))\n",
    "model.add(Dense(256, activation='relu'))\n",
    "model.add(Dropout(0.2))\n",
    "model.add(Dense(4, activation='softmax'))\n",
    "\n",
    "callback_list = [tf.keras.callbacks.ModelCheckpoint(filepath='BinaryClassification_Dense3-callback.h5', monitor='val_accuracy', save_best_only=True),\n",
    "                tf.keras.callbacks.EarlyStopping(patience=120)]\n",
    "\n",
    "model.compile(loss='categorical_crossentropy', optimizer=Adam(lr=learning_rate), metrics=['accuracy'])\n",
    "model.summary()"
   ]
  },
  {
   "cell_type": "code",
   "execution_count": 10,
   "metadata": {},
   "outputs": [
    {
     "name": "stdout",
     "output_type": "stream",
     "text": [
      "Train on 672 samples, validate on 128 samples\n",
      "Epoch 1/200\n"
     ]
    },
    {
     "name": "stderr",
     "output_type": "stream",
     "text": [
      "2022-02-10 23:44:14.523148: I tensorflow/stream_executor/platform/default/dso_loader.cc:44] Successfully opened dynamic library libcublas.so.10\n"
     ]
    },
    {
     "name": "stdout",
     "output_type": "stream",
     "text": [
      "672/672 [==============================] - 158s 235ms/sample - loss: 1.3794 - accuracy: 0.3065 - val_loss: 1.3272 - val_accuracy: 0.4297\n",
      "Epoch 2/200\n",
      "672/672 [==============================] - 153s 227ms/sample - loss: 1.3809 - accuracy: 0.3214 - val_loss: 1.3178 - val_accuracy: 0.4375\n",
      "Epoch 3/200\n",
      "672/672 [==============================] - 165s 246ms/sample - loss: 1.3741 - accuracy: 0.3259 - val_loss: 1.3390 - val_accuracy: 0.4219\n",
      "Epoch 4/200\n",
      "672/672 [==============================] - 160s 239ms/sample - loss: 1.3719 - accuracy: 0.3274 - val_loss: 1.3379 - val_accuracy: 0.4453\n",
      "Epoch 5/200\n",
      "672/672 [==============================] - 156s 232ms/sample - loss: 1.3746 - accuracy: 0.3155 - val_loss: 1.3469 - val_accuracy: 0.4453\n",
      "Epoch 6/200\n",
      "672/672 [==============================] - 152s 226ms/sample - loss: 1.3714 - accuracy: 0.3155 - val_loss: 1.3493 - val_accuracy: 0.4453\n",
      "Epoch 7/200\n",
      "672/672 [==============================] - 153s 227ms/sample - loss: 1.3696 - accuracy: 0.3229 - val_loss: 1.3381 - val_accuracy: 0.4219\n",
      "Epoch 8/200\n",
      "672/672 [==============================] - 152s 226ms/sample - loss: 1.3721 - accuracy: 0.3185 - val_loss: 1.3330 - val_accuracy: 0.4219\n",
      "Epoch 9/200\n",
      "672/672 [==============================] - 152s 226ms/sample - loss: 1.3743 - accuracy: 0.3229 - val_loss: 1.3384 - val_accuracy: 0.4219\n",
      "Epoch 10/200\n",
      "672/672 [==============================] - 157s 233ms/sample - loss: 1.3664 - accuracy: 0.3199 - val_loss: 1.3491 - val_accuracy: 0.4219\n",
      "Epoch 11/200\n",
      "672/672 [==============================] - 152s 227ms/sample - loss: 1.3694 - accuracy: 0.3229 - val_loss: 1.3291 - val_accuracy: 0.4141\n",
      "Epoch 12/200\n",
      "672/672 [==============================] - 152s 226ms/sample - loss: 1.3736 - accuracy: 0.3140 - val_loss: 1.3406 - val_accuracy: 0.4219\n",
      "Epoch 13/200\n",
      "672/672 [==============================] - 153s 228ms/sample - loss: 1.3699 - accuracy: 0.3185 - val_loss: 1.3432 - val_accuracy: 0.4375\n",
      "Epoch 14/200\n",
      "672/672 [==============================] - 155s 231ms/sample - loss: 1.3727 - accuracy: 0.3199 - val_loss: 1.3430 - val_accuracy: 0.4219\n",
      "Epoch 15/200\n",
      "672/672 [==============================] - 151s 225ms/sample - loss: 1.3696 - accuracy: 0.3304 - val_loss: 1.3458 - val_accuracy: 0.4219\n",
      "Epoch 16/200\n",
      "672/672 [==============================] - 152s 226ms/sample - loss: 1.3676 - accuracy: 0.3229 - val_loss: 1.3443 - val_accuracy: 0.4219\n",
      "Epoch 17/200\n",
      "672/672 [==============================] - 152s 226ms/sample - loss: 1.3686 - accuracy: 0.3274 - val_loss: 1.3373 - val_accuracy: 0.4297\n",
      "Epoch 18/200\n",
      "672/672 [==============================] - 151s 224ms/sample - loss: 1.3711 - accuracy: 0.3170 - val_loss: 1.3464 - val_accuracy: 0.4141\n",
      "Epoch 19/200\n",
      "672/672 [==============================] - 152s 226ms/sample - loss: 1.3721 - accuracy: 0.3199 - val_loss: 1.3458 - val_accuracy: 0.4141\n",
      "Epoch 20/200\n",
      "672/672 [==============================] - 152s 227ms/sample - loss: 1.3663 - accuracy: 0.3274 - val_loss: 1.3337 - val_accuracy: 0.4141\n",
      "Epoch 21/200\n",
      "672/672 [==============================] - 157s 233ms/sample - loss: 1.3695 - accuracy: 0.3289 - val_loss: 1.3397 - val_accuracy: 0.4219\n",
      "Epoch 22/200\n",
      "672/672 [==============================] - 154s 228ms/sample - loss: 1.3637 - accuracy: 0.3214 - val_loss: 1.3510 - val_accuracy: 0.4219\n",
      "Epoch 23/200\n",
      "672/672 [==============================] - 153s 227ms/sample - loss: 1.3651 - accuracy: 0.3304 - val_loss: 1.3420 - val_accuracy: 0.4219\n",
      "Epoch 24/200\n",
      "672/672 [==============================] - 152s 226ms/sample - loss: 1.3629 - accuracy: 0.3274 - val_loss: 1.3478 - val_accuracy: 0.4297\n",
      "Epoch 25/200\n",
      "672/672 [==============================] - 152s 226ms/sample - loss: 1.3652 - accuracy: 0.3378 - val_loss: 1.3447 - val_accuracy: 0.4141\n",
      "Epoch 26/200\n",
      "672/672 [==============================] - 152s 226ms/sample - loss: 1.3656 - accuracy: 0.3274 - val_loss: 1.3488 - val_accuracy: 0.4141\n",
      "Epoch 27/200\n",
      "672/672 [==============================] - 151s 224ms/sample - loss: 1.3591 - accuracy: 0.3318 - val_loss: 1.3528 - val_accuracy: 0.4297\n",
      "Epoch 28/200\n",
      "672/672 [==============================] - 150s 223ms/sample - loss: 1.3658 - accuracy: 0.3363 - val_loss: 1.3473 - val_accuracy: 0.4297\n",
      "Epoch 29/200\n",
      "672/672 [==============================] - 153s 227ms/sample - loss: 1.3625 - accuracy: 0.3408 - val_loss: 1.3499 - val_accuracy: 0.4141\n",
      "Epoch 30/200\n",
      "672/672 [==============================] - 151s 225ms/sample - loss: 1.3666 - accuracy: 0.3274 - val_loss: 1.3540 - val_accuracy: 0.4062\n",
      "Epoch 31/200\n",
      "672/672 [==============================] - 151s 225ms/sample - loss: 1.3628 - accuracy: 0.3318 - val_loss: 1.3416 - val_accuracy: 0.4375\n",
      "Epoch 32/200\n",
      "672/672 [==============================] - 151s 225ms/sample - loss: 1.3559 - accuracy: 0.3363 - val_loss: 1.3492 - val_accuracy: 0.4141\n",
      "Epoch 33/200\n",
      "672/672 [==============================] - 153s 228ms/sample - loss: 1.3690 - accuracy: 0.3229 - val_loss: 1.3473 - val_accuracy: 0.4297\n",
      "Epoch 34/200\n",
      "672/672 [==============================] - 151s 225ms/sample - loss: 1.3601 - accuracy: 0.3259 - val_loss: 1.3462 - val_accuracy: 0.3984\n",
      "Epoch 35/200\n",
      "672/672 [==============================] - 151s 225ms/sample - loss: 1.3712 - accuracy: 0.3140 - val_loss: 1.3458 - val_accuracy: 0.4141\n",
      "Epoch 36/200\n",
      "672/672 [==============================] - 151s 224ms/sample - loss: 1.3651 - accuracy: 0.3170 - val_loss: 1.3496 - val_accuracy: 0.4219\n",
      "Epoch 37/200\n",
      "672/672 [==============================] - 150s 223ms/sample - loss: 1.3652 - accuracy: 0.3229 - val_loss: 1.3486 - val_accuracy: 0.4219\n",
      "Epoch 38/200\n",
      "672/672 [==============================] - 152s 226ms/sample - loss: 1.3598 - accuracy: 0.3274 - val_loss: 1.3552 - val_accuracy: 0.4297\n",
      "Epoch 39/200\n",
      "672/672 [==============================] - 153s 227ms/sample - loss: 1.3654 - accuracy: 0.3304 - val_loss: 1.3415 - val_accuracy: 0.4141\n",
      "Epoch 40/200\n",
      "672/672 [==============================] - 151s 225ms/sample - loss: 1.3611 - accuracy: 0.3259 - val_loss: 1.3380 - val_accuracy: 0.4141\n",
      "Epoch 41/200\n",
      "672/672 [==============================] - 153s 228ms/sample - loss: 1.3639 - accuracy: 0.3318 - val_loss: 1.3403 - val_accuracy: 0.4375\n",
      "Epoch 42/200\n",
      "672/672 [==============================] - 151s 225ms/sample - loss: 1.3578 - accuracy: 0.3318 - val_loss: 1.3445 - val_accuracy: 0.4375\n",
      "Epoch 43/200\n",
      "672/672 [==============================] - 153s 227ms/sample - loss: 1.3602 - accuracy: 0.3155 - val_loss: 1.3560 - val_accuracy: 0.4062\n",
      "Epoch 44/200\n",
      "672/672 [==============================] - 151s 224ms/sample - loss: 1.3578 - accuracy: 0.3333 - val_loss: 1.3544 - val_accuracy: 0.4297\n",
      "Epoch 45/200\n",
      "672/672 [==============================] - 151s 225ms/sample - loss: 1.3521 - accuracy: 0.3452 - val_loss: 1.3501 - val_accuracy: 0.4062\n",
      "Epoch 46/200\n",
      "672/672 [==============================] - 152s 226ms/sample - loss: 1.3585 - accuracy: 0.3274 - val_loss: 1.3498 - val_accuracy: 0.4219\n",
      "Epoch 47/200\n",
      "672/672 [==============================] - 152s 226ms/sample - loss: 1.3642 - accuracy: 0.3333 - val_loss: 1.3657 - val_accuracy: 0.4141\n",
      "Epoch 48/200\n",
      "672/672 [==============================] - 150s 223ms/sample - loss: 1.3504 - accuracy: 0.3408 - val_loss: 1.3529 - val_accuracy: 0.4297\n",
      "Epoch 49/200\n",
      "672/672 [==============================] - 151s 224ms/sample - loss: 1.3668 - accuracy: 0.3333 - val_loss: 1.3532 - val_accuracy: 0.4062\n",
      "Epoch 50/200\n",
      "672/672 [==============================] - 151s 225ms/sample - loss: 1.3583 - accuracy: 0.3467 - val_loss: 1.3721 - val_accuracy: 0.3984\n",
      "Epoch 51/200\n",
      "672/672 [==============================] - 150s 224ms/sample - loss: 1.3594 - accuracy: 0.3304 - val_loss: 1.3692 - val_accuracy: 0.3828\n",
      "Epoch 52/200\n",
      "672/672 [==============================] - 151s 224ms/sample - loss: 1.3564 - accuracy: 0.3348 - val_loss: 1.3626 - val_accuracy: 0.4297\n",
      "Epoch 53/200\n",
      "672/672 [==============================] - 152s 226ms/sample - loss: 1.3590 - accuracy: 0.3214 - val_loss: 1.3599 - val_accuracy: 0.4297\n",
      "Epoch 54/200\n",
      "672/672 [==============================] - 150s 224ms/sample - loss: 1.3472 - accuracy: 0.3452 - val_loss: 1.3575 - val_accuracy: 0.4219\n",
      "Epoch 55/200\n",
      "672/672 [==============================] - 150s 223ms/sample - loss: 1.3511 - accuracy: 0.3408 - val_loss: 1.3582 - val_accuracy: 0.4375\n",
      "Epoch 56/200\n",
      "672/672 [==============================] - 150s 223ms/sample - loss: 1.3606 - accuracy: 0.3348 - val_loss: 1.3451 - val_accuracy: 0.4375\n",
      "Epoch 57/200\n",
      "672/672 [==============================] - 150s 223ms/sample - loss: 1.3617 - accuracy: 0.3408 - val_loss: 1.3613 - val_accuracy: 0.4219\n",
      "Epoch 58/200\n",
      "672/672 [==============================] - 152s 226ms/sample - loss: 1.3552 - accuracy: 0.3467 - val_loss: 1.3626 - val_accuracy: 0.4297\n",
      "Epoch 59/200\n",
      "672/672 [==============================] - 152s 227ms/sample - loss: 1.3520 - accuracy: 0.3378 - val_loss: 1.3529 - val_accuracy: 0.4141\n",
      "Epoch 60/200\n",
      "672/672 [==============================] - 151s 224ms/sample - loss: 1.3589 - accuracy: 0.3304 - val_loss: 1.3596 - val_accuracy: 0.4141\n",
      "Epoch 61/200\n",
      "672/672 [==============================] - 150s 224ms/sample - loss: 1.3588 - accuracy: 0.3333 - val_loss: 1.3639 - val_accuracy: 0.4141\n",
      "Epoch 62/200\n",
      "672/672 [==============================] - 152s 226ms/sample - loss: 1.3584 - accuracy: 0.3438 - val_loss: 1.3543 - val_accuracy: 0.4375\n",
      "Epoch 63/200\n",
      "672/672 [==============================] - 151s 225ms/sample - loss: 1.3584 - accuracy: 0.3378 - val_loss: 1.3607 - val_accuracy: 0.4297\n",
      "Epoch 64/200\n",
      "672/672 [==============================] - 152s 226ms/sample - loss: 1.3544 - accuracy: 0.3393 - val_loss: 1.3534 - val_accuracy: 0.4297\n",
      "Epoch 65/200\n",
      "672/672 [==============================] - 151s 224ms/sample - loss: 1.3531 - accuracy: 0.3512 - val_loss: 1.3678 - val_accuracy: 0.4141\n",
      "Epoch 66/200\n",
      "672/672 [==============================] - 152s 226ms/sample - loss: 1.3624 - accuracy: 0.3229 - val_loss: 1.3619 - val_accuracy: 0.3906\n",
      "Epoch 67/200\n",
      "672/672 [==============================] - 152s 227ms/sample - loss: 1.3464 - accuracy: 0.3467 - val_loss: 1.3510 - val_accuracy: 0.4141\n",
      "Epoch 68/200\n",
      "672/672 [==============================] - 151s 225ms/sample - loss: 1.3544 - accuracy: 0.3199 - val_loss: 1.3687 - val_accuracy: 0.4062\n",
      "Epoch 69/200\n",
      "672/672 [==============================] - 149s 222ms/sample - loss: 1.3480 - accuracy: 0.3512 - val_loss: 1.3671 - val_accuracy: 0.3984\n",
      "Epoch 70/200\n",
      "672/672 [==============================] - 152s 225ms/sample - loss: 1.3505 - accuracy: 0.3348 - val_loss: 1.3639 - val_accuracy: 0.4219\n",
      "Epoch 71/200\n",
      "672/672 [==============================] - 150s 224ms/sample - loss: 1.3488 - accuracy: 0.3393 - val_loss: 1.3585 - val_accuracy: 0.4375\n",
      "Epoch 72/200\n",
      "672/672 [==============================] - 149s 222ms/sample - loss: 1.3579 - accuracy: 0.3274 - val_loss: 1.3555 - val_accuracy: 0.4453\n",
      "Epoch 73/200\n",
      "672/672 [==============================] - 150s 223ms/sample - loss: 1.3464 - accuracy: 0.3199 - val_loss: 1.3612 - val_accuracy: 0.3906\n",
      "Epoch 74/200\n",
      "672/672 [==============================] - 149s 222ms/sample - loss: 1.3546 - accuracy: 0.3155 - val_loss: 1.3603 - val_accuracy: 0.4453\n",
      "Epoch 75/200\n",
      "672/672 [==============================] - 151s 225ms/sample - loss: 1.3454 - accuracy: 0.3393 - val_loss: 1.3820 - val_accuracy: 0.3984\n",
      "Epoch 76/200\n",
      "672/672 [==============================] - 151s 225ms/sample - loss: 1.3523 - accuracy: 0.3259 - val_loss: 1.3597 - val_accuracy: 0.4453\n",
      "Epoch 77/200\n",
      "672/672 [==============================] - 151s 225ms/sample - loss: 1.3462 - accuracy: 0.3363 - val_loss: 1.3602 - val_accuracy: 0.4453\n",
      "Epoch 78/200\n",
      "672/672 [==============================] - 151s 224ms/sample - loss: 1.3559 - accuracy: 0.3274 - val_loss: 1.3549 - val_accuracy: 0.4219\n",
      "Epoch 79/200\n",
      "672/672 [==============================] - 152s 226ms/sample - loss: 1.3529 - accuracy: 0.3438 - val_loss: 1.3701 - val_accuracy: 0.3750\n",
      "Epoch 80/200\n",
      "672/672 [==============================] - 151s 224ms/sample - loss: 1.3488 - accuracy: 0.3318 - val_loss: 1.3654 - val_accuracy: 0.3984\n",
      "Epoch 81/200\n",
      "672/672 [==============================] - 150s 224ms/sample - loss: 1.3454 - accuracy: 0.3467 - val_loss: 1.3588 - val_accuracy: 0.4141\n",
      "Epoch 82/200\n",
      "672/672 [==============================] - 149s 222ms/sample - loss: 1.3502 - accuracy: 0.3378 - val_loss: 1.3495 - val_accuracy: 0.3906\n",
      "Epoch 83/200\n",
      "672/672 [==============================] - 150s 224ms/sample - loss: 1.3460 - accuracy: 0.3571 - val_loss: 1.3674 - val_accuracy: 0.3750\n",
      "Epoch 84/200\n",
      "672/672 [==============================] - 153s 228ms/sample - loss: 1.3544 - accuracy: 0.3199 - val_loss: 1.3643 - val_accuracy: 0.3828\n",
      "Epoch 85/200\n",
      "672/672 [==============================] - 150s 223ms/sample - loss: 1.3508 - accuracy: 0.3348 - val_loss: 1.3657 - val_accuracy: 0.4375\n",
      "Epoch 86/200\n",
      "672/672 [==============================] - 150s 223ms/sample - loss: 1.3446 - accuracy: 0.3616 - val_loss: 1.3775 - val_accuracy: 0.3906\n",
      "Epoch 87/200\n",
      "672/672 [==============================] - 150s 223ms/sample - loss: 1.3447 - accuracy: 0.3408 - val_loss: 1.3673 - val_accuracy: 0.3984\n",
      "Epoch 88/200\n",
      "672/672 [==============================] - 149s 222ms/sample - loss: 1.3447 - accuracy: 0.3542 - val_loss: 1.3523 - val_accuracy: 0.4375\n",
      "Epoch 89/200\n",
      "672/672 [==============================] - 151s 224ms/sample - loss: 1.3568 - accuracy: 0.3318 - val_loss: 1.3695 - val_accuracy: 0.3984\n",
      "Epoch 90/200\n",
      "672/672 [==============================] - 151s 225ms/sample - loss: 1.3489 - accuracy: 0.3438 - val_loss: 1.3629 - val_accuracy: 0.4062\n",
      "Epoch 91/200\n",
      "672/672 [==============================] - 152s 226ms/sample - loss: 1.3451 - accuracy: 0.3438 - val_loss: 1.3572 - val_accuracy: 0.3906\n",
      "Epoch 92/200\n",
      "672/672 [==============================] - 152s 226ms/sample - loss: 1.3566 - accuracy: 0.3378 - val_loss: 1.3665 - val_accuracy: 0.4219\n",
      "Epoch 93/200\n",
      "672/672 [==============================] - 150s 223ms/sample - loss: 1.3426 - accuracy: 0.3452 - val_loss: 1.3797 - val_accuracy: 0.3906\n",
      "Epoch 94/200\n",
      "672/672 [==============================] - 151s 225ms/sample - loss: 1.3401 - accuracy: 0.3601 - val_loss: 1.3978 - val_accuracy: 0.3516\n",
      "Epoch 95/200\n",
      "672/672 [==============================] - 149s 221ms/sample - loss: 1.3426 - accuracy: 0.3586 - val_loss: 1.3798 - val_accuracy: 0.3906\n",
      "Epoch 96/200\n",
      "672/672 [==============================] - 149s 222ms/sample - loss: 1.3472 - accuracy: 0.3363 - val_loss: 1.3745 - val_accuracy: 0.4219\n",
      "Epoch 97/200\n",
      "672/672 [==============================] - 152s 226ms/sample - loss: 1.3399 - accuracy: 0.3497 - val_loss: 1.3719 - val_accuracy: 0.3828\n",
      "Epoch 98/200\n",
      "672/672 [==============================] - 151s 225ms/sample - loss: 1.3513 - accuracy: 0.3423 - val_loss: 1.3724 - val_accuracy: 0.4297\n",
      "Epoch 99/200\n",
      "672/672 [==============================] - 150s 224ms/sample - loss: 1.3426 - accuracy: 0.3452 - val_loss: 1.3743 - val_accuracy: 0.3906\n",
      "Epoch 100/200\n",
      "672/672 [==============================] - 152s 226ms/sample - loss: 1.3398 - accuracy: 0.3542 - val_loss: 1.3719 - val_accuracy: 0.3672\n",
      "Epoch 101/200\n",
      "672/672 [==============================] - 151s 225ms/sample - loss: 1.3625 - accuracy: 0.3140 - val_loss: 1.3791 - val_accuracy: 0.3672\n",
      "Epoch 102/200\n",
      "672/672 [==============================] - 152s 226ms/sample - loss: 1.3388 - accuracy: 0.3646 - val_loss: 1.3709 - val_accuracy: 0.3906\n",
      "Epoch 103/200\n",
      "672/672 [==============================] - 151s 225ms/sample - loss: 1.3370 - accuracy: 0.3378 - val_loss: 1.3839 - val_accuracy: 0.3516\n",
      "Epoch 104/200\n",
      "672/672 [==============================] - 152s 226ms/sample - loss: 1.3423 - accuracy: 0.3408 - val_loss: 1.3828 - val_accuracy: 0.3594\n",
      "Epoch 105/200\n",
      "672/672 [==============================] - 151s 225ms/sample - loss: 1.3426 - accuracy: 0.3571 - val_loss: 1.3820 - val_accuracy: 0.3828\n",
      "Epoch 106/200\n",
      "672/672 [==============================] - 149s 222ms/sample - loss: 1.3390 - accuracy: 0.3601 - val_loss: 1.3767 - val_accuracy: 0.3672\n",
      "Epoch 107/200\n",
      "672/672 [==============================] - 152s 225ms/sample - loss: 1.3394 - accuracy: 0.3571 - val_loss: 1.3743 - val_accuracy: 0.3594\n",
      "Epoch 108/200\n",
      "672/672 [==============================] - 154s 228ms/sample - loss: 1.3420 - accuracy: 0.3497 - val_loss: 1.3791 - val_accuracy: 0.3672\n",
      "Epoch 109/200\n",
      "672/672 [==============================] - 151s 225ms/sample - loss: 1.3380 - accuracy: 0.3527 - val_loss: 1.3739 - val_accuracy: 0.3828\n",
      "Epoch 110/200\n",
      "672/672 [==============================] - 150s 224ms/sample - loss: 1.3438 - accuracy: 0.3363 - val_loss: 1.3884 - val_accuracy: 0.3750\n",
      "Epoch 111/200\n",
      "672/672 [==============================] - 152s 226ms/sample - loss: 1.3232 - accuracy: 0.3467 - val_loss: 1.3988 - val_accuracy: 0.3594\n",
      "Epoch 112/200\n",
      "672/672 [==============================] - 150s 224ms/sample - loss: 1.3529 - accuracy: 0.3408 - val_loss: 1.3817 - val_accuracy: 0.3672\n",
      "Epoch 113/200\n",
      "672/672 [==============================] - 150s 223ms/sample - loss: 1.3442 - accuracy: 0.3423 - val_loss: 1.3780 - val_accuracy: 0.3516\n",
      "Epoch 114/200\n",
      "672/672 [==============================] - 151s 224ms/sample - loss: 1.3431 - accuracy: 0.3601 - val_loss: 1.3835 - val_accuracy: 0.3594\n",
      "Epoch 115/200\n",
      "672/672 [==============================] - 151s 225ms/sample - loss: 1.3418 - accuracy: 0.3408 - val_loss: 1.3866 - val_accuracy: 0.3438\n",
      "Epoch 116/200\n",
      "672/672 [==============================] - 151s 225ms/sample - loss: 1.3476 - accuracy: 0.3586 - val_loss: 1.3828 - val_accuracy: 0.3828\n",
      "Epoch 117/200\n",
      "672/672 [==============================] - 151s 225ms/sample - loss: 1.3388 - accuracy: 0.3512 - val_loss: 1.3941 - val_accuracy: 0.3516\n",
      "Epoch 118/200\n",
      "672/672 [==============================] - 149s 222ms/sample - loss: 1.3401 - accuracy: 0.3601 - val_loss: 1.3886 - val_accuracy: 0.3594\n",
      "Epoch 119/200\n",
      "672/672 [==============================] - 152s 225ms/sample - loss: 1.3277 - accuracy: 0.3601 - val_loss: 1.4047 - val_accuracy: 0.3438\n",
      "Epoch 120/200\n",
      "672/672 [==============================] - 148s 220ms/sample - loss: 1.3316 - accuracy: 0.3705 - val_loss: 1.4123 - val_accuracy: 0.3203\n",
      "Epoch 121/200\n",
      "672/672 [==============================] - 151s 225ms/sample - loss: 1.3476 - accuracy: 0.3616 - val_loss: 1.3754 - val_accuracy: 0.4062\n",
      "Epoch 122/200\n",
      "672/672 [==============================] - 152s 226ms/sample - loss: 1.3398 - accuracy: 0.3467 - val_loss: 1.3869 - val_accuracy: 0.3359\n"
     ]
    }
   ],
   "source": [
    "history=model.fit(X_train,\n",
    "                  Y_train,\n",
    "                  epochs=epochs,\n",
    "                  batch_size=batch_size,\n",
    "                  validation_data=(X_test,Y_test),\n",
    "                  callbacks=callback_list,\n",
    "                  verbose=1)"
   ]
  },
  {
   "cell_type": "markdown",
   "metadata": {},
   "source": [
    "## PLOT"
   ]
  },
  {
   "cell_type": "code",
   "execution_count": 12,
   "metadata": {},
   "outputs": [
    {
     "data": {
      "image/png": "[encoded data removed]",
      "text/plain": [
       "<Figure size 432x288 with 1 Axes>"
      ]
     },
     "metadata": {
      "needs_background": "light"
     },
     "output_type": "display_data"
    },
    {
     "data": {
      "text/plain": [
       "<Figure size 432x288 with 0 Axes>"
      ]
     },
     "metadata": {},
     "output_type": "display_data"
    }
   ],
   "source": [
    "epoch = np.arange(1,122+1)\n",
    "plt.plot(epoch, history.history['loss'], label='Training loss')\n",
    "plt.plot(epoch, history.history['val_loss'], label='Validation loss')\n",
    "plt.xlabel('Epochs')\n",
    "plt.ylabel('Loss')\n",
    "plt.legend()\n",
    "plt.show()\n",
    "plt.savefig('CategoricalCrossentropy_Dense2-Loss')"
   ]
  },
  {
   "cell_type": "code",
   "execution_count": 13,
   "metadata": {},
   "outputs": [
    {
     "data": {
      "image/png": "[encoded data removed]",
      "text/plain": [
       "<Figure size 432x288 with 1 Axes>"
      ]
     },
     "metadata": {
      "needs_background": "light"
     },
     "output_type": "display_data"
    },
    {
     "data": {
      "text/plain": [
       "<Figure size 432x288 with 0 Axes>"
      ]
     },
     "metadata": {},
     "output_type": "display_data"
    }
   ],
   "source": [
    "epoch = np.arange(1,122+1)\n",
    "plt.plot(epoch, history.history['accuracy'], label='Training accuracy')\n",
    "plt.plot(epoch, history.history['val_accuracy'], label='Validation accuracy')\n",
    "plt.xlabel('Epochs')\n",
    "plt.ylabel('Accuracy')\n",
    "plt.legend()\n",
    "plt.show()\n",
    "plt.savefig('CategoricalCrossentropy_Dense2-Accuracy')"
   ]
  },
  {
   "cell_type": "code",
   "execution_count": 14,
   "metadata": {},
   "outputs": [],
   "source": [
    "model.save('CategoricalCrossentropy_Dense2.h5')"
   ]
  },
  {
   "cell_type": "code",
   "execution_count": null,
   "metadata": {},
   "outputs": [],
   "source": []
  }
 ],
 "metadata": {
  "kernelspec": {
   "display_name": "Python 3",
   "language": "python",
   "name": "python3"
  },
  "language_info": {
   "codemirror_mode": {
    "name": "ipython",
    "version": 3
   },
   "file_extension": ".py",
   "mimetype": "text/x-python",
   "name": "python",
   "nbconvert_exporter": "python",
   "pygments_lexer": "ipython3",
   "version": "3.8.13"
  }
 },
 "nbformat": 4,
 "nbformat_minor": 4
}
