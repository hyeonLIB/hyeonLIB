{
 "cells": [
  {
   "cell_type": "code",
   "execution_count": 1,
   "id": "cc4bd1e0-98ef-4ed4-acb7-ec44d622566a",
   "metadata": {},
   "outputs": [],
   "source": [
    "import neurokit2 as nk\n",
    "import numpy as np\n",
    "import pandas as pd\n",
    "import matplotlib.pyplot as plt\n",
    "import seaborn as sns\n",
    "from scipy.signal import find_peaks\n",
    "from scipy import signal\n",
    "from scipy.integrate import trapz\n",
    "from scipy.interpolate import interp1d\n",
    "import seaborn as sns\n",
    "from matplotlib.patches import Ellipse\n",
    "import heartpy as hp\n",
    "import os\n",
    "import pickle\n",
    "import warnings\n",
    "warnings.simplefilter('ignore', np.RankWarning)"
   ]
  },
  {
   "cell_type": "code",
   "execution_count": 2,
   "id": "277521be-671d-4402-9b4e-52dfb21aaaab",
   "metadata": {},
   "outputs": [],
   "source": [
    "def plt_performance(history, path='./', filename=''):\n",
    "    epoch = list(range(0,len(history.history['loss'])))\n",
    "    \n",
    "    fig, (his_accuracy, his_loss) = plt.subplots(nrows=2,ncols=1,figsize=(10,8),sharex=True)\n",
    "    his_loss.plot(epoch, history.history['loss'], label='Training loss')\n",
    "    his_loss.plot(epoch, history.history['val_loss'], label='Validation loss')\n",
    "    his_loss.set_xlabel(\"Epochs\", fontsize=14)\n",
    "    his_loss.set_ylabel(\"Loss\", fontsize=14)\n",
    "    his_loss.set_title(\"Loss\", fontsize=14)\n",
    "    his_loss.legend(loc='best')\n",
    "    \n",
    "    his_accuracy.plot(epoch, history.history['acc'], label='Training accuracy')\n",
    "    his_accuracy.plot(epoch, history.history['val_acc'], label='Validation accuracy')\n",
    "    his_accuracy.set_xlabel(\"Epochs\", fontsize=14)\n",
    "    his_accuracy.set_ylabel(\"Accuracy\", fontsize=14)\n",
    "    his_accuracy.set_title(\"Accuracy\", fontsize=14)\n",
    "    his_accuracy.legend(loc='best')\n",
    "    \n",
    "    fig.tight_layout()\n",
    "    if filename == '':\n",
    "        plt.savefig(f'{path}/performance.png', bbox_inches='tight')\n",
    "    else:\n",
    "        plt.savefig(f'{path}/{filename}.png', bbox_inches='tight')\n",
    "        \n",
    "\n",
    "def preprocessing(PPG_data):\n",
    "    index = 0\n",
    "    x = list(range(0,len(PPG_data[0])))\n",
    "    for PPG in PPG_data:\n",
    "        poly = np.polyfit(x, PPG, deg=50)\n",
    "        polied = np.polyval(poly, x)\n",
    "        detrended = PPG - polied\n",
    "        PPG_data[index] = detrended\n",
    "        index += 1\n",
    "    return PPG_data\n",
    "    "
   ]
  },
  {
   "cell_type": "code",
   "execution_count": 3,
   "id": "dc59573a-f2ec-400e-8175-4cece7c678c0",
   "metadata": {
    "tags": []
   },
   "outputs": [],
   "source": [
    "dir_list_ = os.listdir(\"./data\")\n",
    "dir_list_.sort()\n",
    "count = 0\n",
    "dir_list = []\n",
    "# dir_list_.pop(0)\n",
    "dir_list = dir_list_\n",
    "\n",
    "df_PPG = pd.DataFrame(columns=['participant','video_number','ppg','valence','arousal'])\n",
    "\n",
    "file_num = 0\n",
    "for file in dir_list:\n",
    "    dat_file = f'./data/{file}'\n",
    "    with open(dat_file, 'rb') as f:\n",
    "        Channel_data = pickle.load(f,encoding='latin1')\n",
    "    data = Channel_data[\"data\"]\n",
    "    labels = Channel_data[\"labels\"]\n",
    "    for video_num in range(40):\n",
    "        dataP = data[video_num,38]\n",
    "        dataP = dataP[384:]\n",
    "        \n",
    "        label = labels[video_num]\n",
    "        if label[0] < 5:\n",
    "            Valence = 0\n",
    "        if label[0] >= 5:\n",
    "            Valence = 1\n",
    "        if label[1] < 5:\n",
    "            Arousal = 0\n",
    "        if label[1] >= 5:\n",
    "            Arousal = 1\n",
    "        instance = [(file_num, video_num, dataP, Valence, Arousal)]\n",
    "        new_instance = pd.DataFrame(instance, columns=['participant','video_number','ppg','valence','arousal'])\n",
    "        df_PPG = pd.concat([df_PPG, new_instance], ignore_index = True)\n",
    "    \n",
    "    file_num += 1"
   ]
  },
  {
   "cell_type": "code",
   "execution_count": 4,
   "id": "14222127-a03e-497e-92cd-4eef7a2d2f13",
   "metadata": {},
   "outputs": [],
   "source": [
    "PPG_data = df_PPG['ppg']\n",
    "Valence = df_PPG['valence']\n",
    "Arousal = df_PPG['arousal']"
   ]
  },
  {
   "cell_type": "code",
   "execution_count": 5,
   "id": "bc4370e1-8143-4f84-9621-0537411cb879",
   "metadata": {},
   "outputs": [
    {
     "name": "stderr",
     "output_type": "stream",
     "text": [
      "/home/sselab/anaconda3/envs/EmotionRecognition/lib/python3.8/site-packages/numpy/lib/polynomial.py:627: RuntimeWarning: overflow encountered in multiply\n",
      "  scale = NX.sqrt((lhs*lhs).sum(axis=0))\n",
      "/home/sselab/anaconda3/envs/EmotionRecognition/lib/python3.8/site-packages/numpy/core/_methods.py:47: RuntimeWarning: overflow encountered in reduce\n",
      "  return umr_sum(a, axis, dtype, out, keepdims, initial, where)\n"
     ]
    }
   ],
   "source": [
    "preprocessed = preprocessing(PPG_data)"
   ]
  },
  {
   "cell_type": "code",
   "execution_count": null,
   "id": "7ad24ab0-a39d-4445-93d1-bd8c42dec268",
   "metadata": {},
   "outputs": [],
   "source": []
  },
  {
   "cell_type": "code",
   "execution_count": null,
   "id": "96127c2e-e4c4-4485-9270-18684ca9b0df",
   "metadata": {},
   "outputs": [],
   "source": []
  },
  {
   "cell_type": "code",
   "execution_count": null,
   "id": "7cc33e26-0a03-4515-a2ed-9c1ca3dbddea",
   "metadata": {},
   "outputs": [],
   "source": []
  },
  {
   "cell_type": "code",
   "execution_count": 6,
   "id": "3b46a6ea-39b5-451d-93cf-99b55a62c200",
   "metadata": {},
   "outputs": [],
   "source": [
    "num_video = 12\n",
    "preprocessed = preprocessed[:-40*num_video]\n",
    "Valence = Valence[:-40*num_video]\n",
    "Arousal = Arousal[:-40*num_video]"
   ]
  },
  {
   "cell_type": "code",
   "execution_count": 7,
   "id": "e68f3924-34b9-4e75-a625-c6ceeda90753",
   "metadata": {},
   "outputs": [
    {
     "name": "stdout",
     "output_type": "stream",
     "text": [
      "(800,)\n",
      "40 40\n",
      "40 40\n",
      "40 40\n",
      "40 40\n",
      "40 40\n",
      "40 40\n",
      "40 40\n",
      "40 40\n",
      "40 40\n",
      "40 40\n",
      "40 40\n",
      "40 40\n",
      "40 40\n",
      "40 40\n",
      "40 40\n",
      "40 40\n",
      "40 40\n",
      "40 40\n",
      "40 40\n",
      "40 40\n",
      "20 40\n"
     ]
    }
   ],
   "source": [
    "from sklearn.preprocessing import MinMaxScaler\n",
    "\n",
    "# window = 1280\n",
    "timestep = 1280\n",
    "segmented = []\n",
    "valence_data = []\n",
    "arousal_data = []\n",
    "################################################\n",
    "preprocessed = np.array(preprocessed)\n",
    "idx = 0\n",
    "normalized = []\n",
    "print(preprocessed.shape)\n",
    "tmp = []\n",
    "for pre in preprocessed:\n",
    "    tmp.append(pre)\n",
    "    if idx == 39:\n",
    "        scaler = MinMaxScaler(feature_range=(0,1))\n",
    "        norm = scaler.fit_transform(tmp) * 1000\n",
    "        normalized.append(norm)\n",
    "        print(len(norm), len(tmp))\n",
    "        idx = -1\n",
    "        tmp = []\n",
    "    idx += 1\n",
    "    count += 1\n",
    "\n",
    "print(len(normalized), len(normalized[0]))"
   ]
  },
  {
   "cell_type": "code",
   "execution_count": 8,
   "id": "2d55c5a4-5270-424f-a734-0b021a9f6a73",
   "metadata": {},
   "outputs": [],
   "source": [
    "data = []\n",
    "for i in normalized:\n",
    "    for j in i:\n",
    "        data.append(j)"
   ]
  },
  {
   "cell_type": "code",
   "execution_count": 9,
   "id": "1d224b8d-d7d7-4f30-b47c-0286449df9d7",
   "metadata": {},
   "outputs": [
    {
     "name": "stdout",
     "output_type": "stream",
     "text": [
      "800\n"
     ]
    }
   ],
   "source": [
    "print(len(data))"
   ]
  },
  {
   "cell_type": "code",
   "execution_count": 10,
   "id": "249bb0a9-ac14-45a7-8e4c-742070286f3c",
   "metadata": {},
   "outputs": [
    {
     "name": "stdout",
     "output_type": "stream",
     "text": [
      "800\n"
     ]
    }
   ],
   "source": [
    "print(len(data))\n",
    "idx = 0\n",
    "for PPG in data:\n",
    "    for index in range(0, len(PPG) - timestep, 128):\n",
    "        segmented.append(PPG[index : index + timestep])\n",
    "        valence_data.append(Valence[idx])\n",
    "        arousal_data.append(Arousal[idx])\n",
    "    idx += 1"
   ]
  },
  {
   "cell_type": "code",
   "execution_count": 11,
   "id": "27780a13-df4b-4058-8567-8179fb169177",
   "metadata": {},
   "outputs": [],
   "source": [
    "import tensorflow as tf\n",
    "tf.config.experimental_run_functions_eagerly(True)\n",
    "from tensorflow import keras\n",
    "from tensorflow.keras import layers, callbacks\n",
    "# from tensorflow.keras import Sequential\n",
    "from tensorflow.keras.optimizers import RMSprop, Adam\n",
    "from tensorflow.keras.layers import Dense, Flatten, Dropout,BatchNormalization\n",
    "from tensorflow.keras.models import Sequential\n",
    "from sklearn.preprocessing import MinMaxScaler\n",
    "from sklearn.preprocessing import StandardScaler\n",
    "from sklearn.model_selection import train_test_split"
   ]
  },
  {
   "cell_type": "code",
   "execution_count": 12,
   "id": "0bd2f6d2-a7c6-4590-945b-ef1b99fd8cfb",
   "metadata": {},
   "outputs": [
    {
     "name": "stdout",
     "output_type": "stream",
     "text": [
      "1 Physical GPUs, 1 Logical GPUs\n"
     ]
    }
   ],
   "source": [
    "gpus = tf.config.experimental.list_physical_devices('GPU')\n",
    "if gpus:\n",
    "  # Restrict TensorFlow to only allocate 2 GB of memory on the first GPU\n",
    "  try:\n",
    "    tf.config.experimental.set_virtual_device_configuration(\n",
    "        gpus[0],\n",
    "        [tf.config.experimental.VirtualDeviceConfiguration(memory_limit=6000)]) # limit in megabytes\n",
    "    logical_gpus = tf.config.experimental.list_logical_devices('GPU')\n",
    "    print(len(gpus), \"Physical GPUs,\", len(logical_gpus), \"Logical GPUs\")\n",
    "  except RuntimeError as e:\n",
    "    # Virtual devices must be set before GPUs have been initialized\n",
    "    print(e)"
   ]
  },
  {
   "cell_type": "code",
   "execution_count": 13,
   "id": "3d2d1e30-ae8b-4c2e-93c1-f80298c20d4a",
   "metadata": {},
   "outputs": [
    {
     "name": "stdout",
     "output_type": "stream",
     "text": [
      "40000\n"
     ]
    }
   ],
   "source": [
    "print(len(segmented))"
   ]
  },
  {
   "cell_type": "code",
   "execution_count": 14,
   "id": "fcc4e0fc-e9a7-4ae9-a7c9-3ce9320ec36c",
   "metadata": {},
   "outputs": [],
   "source": [
    "train_x = segmented\n",
    "train_valence = valence_data\n",
    "train_arousal = arousal_data"
   ]
  },
  {
   "cell_type": "code",
   "execution_count": 15,
   "id": "963005d0-d0ab-4fce-8c09-4e142c64720e",
   "metadata": {},
   "outputs": [
    {
     "name": "stdout",
     "output_type": "stream",
     "text": [
      "(40000, 1280) (40000,)\n",
      "X_train shape : (40000, 1280, 1), Y_train shape : (40000, 1)\n"
     ]
    }
   ],
   "source": [
    "x_train_data = np.array(train_x)\n",
    "y_train_data = np.array(train_valence).astype(np.float32)\n",
    "print(x_train_data.shape, y_train_data.shape)\n",
    "\n",
    "X_train = x_train_data.reshape((x_train_data.shape[0], x_train_data.shape[1], 1))\n",
    "# X_train = x_train_data.reshape((x_train_data.shape[0], x_train_data.shape[1],1))\n",
    "Y_train = y_train_data.reshape((y_train_data.shape[0],1))\n",
    "\n",
    "print(f\"X_train shape : {X_train.shape}, Y_train shape : {Y_train.shape}\")"
   ]
  },
  {
   "cell_type": "code",
   "execution_count": 16,
   "id": "9fbe6e36-8e35-4e91-ad0e-f7f105e829cd",
   "metadata": {},
   "outputs": [],
   "source": [
    "# Set Hyperparameters of the model\n",
    "learning_rate = 0.0001\n",
    "epochs = 100\n",
    "batch_size=128"
   ]
  },
  {
   "cell_type": "code",
   "execution_count": 17,
   "id": "c05959cd-4f97-4392-bbee-460aae5598e4",
   "metadata": {},
   "outputs": [
    {
     "name": "stdout",
     "output_type": "stream",
     "text": [
      "WARNING:tensorflow:Layer gru will not use cuDNN kernel since it doesn't meet the cuDNN kernel criteria. It will use generic GPU kernel as fallback when running on GPU\n",
      "Model: \"sequential\"\n",
      "_________________________________________________________________\n",
      "Layer (type)                 Output Shape              Param #   \n",
      "=================================================================\n",
      "gru (GRU)                    (None, 256)               198912    \n",
      "_________________________________________________________________\n",
      "dense (Dense)                (None, 512)               131584    \n",
      "_________________________________________________________________\n",
      "dropout (Dropout)            (None, 512)               0         \n",
      "_________________________________________________________________\n",
      "dense_1 (Dense)              (None, 256)               131328    \n",
      "_________________________________________________________________\n",
      "dropout_1 (Dropout)          (None, 256)               0         \n",
      "_________________________________________________________________\n",
      "dense_2 (Dense)              (None, 1)                 257       \n",
      "=================================================================\n",
      "Total params: 462,081\n",
      "Trainable params: 462,081\n",
      "Non-trainable params: 0\n",
      "_________________________________________________________________\n"
     ]
    }
   ],
   "source": [
    "from tensorflow.keras.layers import LSTM, GRU\n",
    "\n",
    "\n",
    "# one GRU layers with three dense layers-> IT WORKS !\n",
    "model = Sequential()\n",
    "model.add(GRU(units=256,\n",
    "              dropout=0.25,\n",
    "              recurrent_dropout=0.25,\n",
    "              return_sequences=False,\n",
    "              input_shape=X_train[0].shape))\n",
    "\n",
    "# Dense net\n",
    "model.add(Dense(512, activation='relu'))\n",
    "model.add(Dropout(0.2))\n",
    "model.add(Dense(256, activation='relu'))\n",
    "model.add(Dropout(0.2))\n",
    "model.add(Dense(1, activation='sigmoid'))\n",
    "\n",
    "callback_list = [tf.keras.callbacks.ModelCheckpoint(filepath='BinaryClassification_Dense3-callback.h5', monitor='val_accuracy', save_best_only=True),\n",
    "                tf.keras.callbacks.EarlyStopping(patience=10)]\n",
    "\n",
    "model.compile(loss='binary_crossentropy', optimizer=Adam(lr=learning_rate), metrics=['acc'])\n",
    "model.summary()"
   ]
  },
  {
   "cell_type": "code",
   "execution_count": 18,
   "id": "7e4dee8a-9f6b-44f3-a3cb-0a32b9d6c16a",
   "metadata": {},
   "outputs": [
    {
     "name": "stdout",
     "output_type": "stream",
     "text": [
      "Epoch 1/100\n",
      "250/250 [==============================] - ETA: 0s - loss: 0.6970 - acc: 0.5211WARNING:tensorflow:Can save best model only with val_accuracy available, skipping.\n",
      "250/250 [==============================] - 2563s 10s/step - loss: 0.6970 - acc: 0.5211 - val_loss: 0.6840 - val_acc: 0.5875\n",
      "Epoch 2/100\n",
      "250/250 [==============================] - ETA: 0s - loss: 0.6934 - acc: 0.5254WARNING:tensorflow:Can save best model only with val_accuracy available, skipping.\n",
      "250/250 [==============================] - 2521s 10s/step - loss: 0.6934 - acc: 0.5254 - val_loss: 0.6905 - val_acc: 0.5393\n",
      "Epoch 3/100\n",
      "250/250 [==============================] - ETA: 0s - loss: 0.6914 - acc: 0.5309WARNING:tensorflow:Can save best model only with val_accuracy available, skipping.\n",
      "250/250 [==============================] - 2513s 10s/step - loss: 0.6914 - acc: 0.5309 - val_loss: 0.6808 - val_acc: 0.5875\n",
      "Epoch 4/100\n",
      "250/250 [==============================] - ETA: 0s - loss: 0.6911 - acc: 0.5332WARNING:tensorflow:Can save best model only with val_accuracy available, skipping.\n",
      "250/250 [==============================] - 2518s 10s/step - loss: 0.6911 - acc: 0.5332 - val_loss: 0.6829 - val_acc: 0.5875\n",
      "Epoch 5/100\n",
      "250/250 [==============================] - ETA: 0s - loss: 0.6909 - acc: 0.5343WARNING:tensorflow:Can save best model only with val_accuracy available, skipping.\n",
      "250/250 [==============================] - 2516s 10s/step - loss: 0.6909 - acc: 0.5343 - val_loss: 0.6871 - val_acc: 0.5875\n",
      "Epoch 6/100\n",
      "250/250 [==============================] - ETA: 0s - loss: 0.6904 - acc: 0.5365WARNING:tensorflow:Can save best model only with val_accuracy available, skipping.\n",
      "250/250 [==============================] - 2535s 10s/step - loss: 0.6904 - acc: 0.5365 - val_loss: 0.6904 - val_acc: 0.5274\n",
      "Epoch 7/100\n",
      "250/250 [==============================] - ETA: 0s - loss: 0.6906 - acc: 0.5350WARNING:tensorflow:Can save best model only with val_accuracy available, skipping.\n",
      "250/250 [==============================] - 2526s 10s/step - loss: 0.6906 - acc: 0.5350 - val_loss: 0.6828 - val_acc: 0.5875\n",
      "Epoch 8/100\n",
      "250/250 [==============================] - ETA: 0s - loss: 0.6906 - acc: 0.5351WARNING:tensorflow:Can save best model only with val_accuracy available, skipping.\n",
      "250/250 [==============================] - 2477s 10s/step - loss: 0.6906 - acc: 0.5351 - val_loss: 0.6916 - val_acc: 0.5166\n",
      "Epoch 9/100\n",
      "250/250 [==============================] - ETA: 0s - loss: 0.6903 - acc: 0.5358WARNING:tensorflow:Can save best model only with val_accuracy available, skipping.\n",
      "250/250 [==============================] - 2547s 10s/step - loss: 0.6903 - acc: 0.5358 - val_loss: 0.6823 - val_acc: 0.5875\n",
      "Epoch 10/100\n",
      "250/250 [==============================] - ETA: 0s - loss: 0.6901 - acc: 0.5368WARNING:tensorflow:Can save best model only with val_accuracy available, skipping.\n",
      "250/250 [==============================] - 2524s 10s/step - loss: 0.6901 - acc: 0.5368 - val_loss: 0.6871 - val_acc: 0.5857\n",
      "Epoch 11/100\n",
      "250/250 [==============================] - ETA: 0s - loss: 0.6899 - acc: 0.5381WARNING:tensorflow:Can save best model only with val_accuracy available, skipping.\n",
      "250/250 [==============================] - 2516s 10s/step - loss: 0.6899 - acc: 0.5381 - val_loss: 0.6858 - val_acc: 0.5875\n",
      "Epoch 12/100\n",
      "250/250 [==============================] - ETA: 0s - loss: 0.6901 - acc: 0.5394WARNING:tensorflow:Can save best model only with val_accuracy available, skipping.\n",
      "250/250 [==============================] - 2522s 10s/step - loss: 0.6901 - acc: 0.5394 - val_loss: 0.6857 - val_acc: 0.5875\n",
      "Epoch 13/100\n",
      "250/250 [==============================] - ETA: 0s - loss: 0.6902 - acc: 0.5381WARNING:tensorflow:Can save best model only with val_accuracy available, skipping.\n",
      "250/250 [==============================] - 2529s 10s/step - loss: 0.6902 - acc: 0.5381 - val_loss: 0.6844 - val_acc: 0.5872\n"
     ]
    }
   ],
   "source": [
    "history=model.fit(X_train,\n",
    "                  Y_train,\n",
    "                  epochs=epochs,\n",
    "                  batch_size=batch_size,\n",
    "                  validation_split=0.2,\n",
    "                  callbacks=callback_list,\n",
    "                  shuffle=True,\n",
    "                  verbose=1)"
   ]
  },
  {
   "cell_type": "code",
   "execution_count": 19,
   "id": "0268f77e-5156-4f51-8b58-10dbdc51339a",
   "metadata": {},
   "outputs": [
    {
     "data": {
      "image/png": "[encoded data removed]",
      "text/plain": [
       "<Figure size 720x576 with 2 Axes>"
      ]
     },
     "metadata": {
      "needs_background": "light"
     },
     "output_type": "display_data"
    }
   ],
   "source": [
    "plt_performance(history,path='./plot_performance',filename='GRU_performance0514(2)')"
   ]
  },
  {
   "cell_type": "code",
   "execution_count": null,
   "id": "71ce28bb-ec12-46bc-8f10-fe581cc94cc8",
   "metadata": {},
   "outputs": [],
   "source": []
  }
 ],
 "metadata": {
  "kernelspec": {
   "display_name": "Python 3",
   "language": "python",
   "name": "python3"
  },
  "language_info": {
   "codemirror_mode": {
    "name": "ipython",
    "version": 3
   },
   "file_extension": ".py",
   "mimetype": "text/x-python",
   "name": "python",
   "nbconvert_exporter": "python",
   "pygments_lexer": "ipython3",
   "version": "3.8.13"
  }
 },
 "nbformat": 4,
 "nbformat_minor": 5
}
