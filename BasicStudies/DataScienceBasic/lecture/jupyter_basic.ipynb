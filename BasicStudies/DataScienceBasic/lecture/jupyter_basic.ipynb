{
 "cells": [
  {
   "cell_type": "markdown",
   "metadata": {},
   "source": [
    "# Ten Jupyter/IPython essentials"
   ]
  },
  {
   "cell_type": "markdown",
   "metadata": {},
   "source": [
    "### Using IPython as an extended shell\n",
    "> 우리는 jupyter notebook을 마치 shell (cmd) 처럼 쓸 수 있다!!\n",
    "\n",
    "> 이렇게 shell처럼 사용하는것을 매직명령이라고 하고 앞에 %를 붙여서 사용함 (magic 명령은 뒤에서 다시 살펴볼 것임)\n",
    "\n",
    "> 그외에도 !를 앞에 붙여서 기본적인 명령을 수행할 수도 있음\n",
    "\n",
    "> %과 !의 차이 \n",
    "\n",
    "> > % 주피터에서 미리 정의되어 있는 몇가지 매직 명령을 사용\n",
    "\n",
    "> > ! 윈도우 (리눅스) 커멘드 창에서 실행할 수 있는 명령을 사용"
   ]
  },
  {
   "cell_type": "code",
   "execution_count": 1,
   "metadata": {},
   "outputs": [
    {
     "data": {
      "text/plain": [
       "'/Users/leewoongsup/Dropbox/Class/2022_class/Spring/데이터과학/CODE'"
      ]
     },
     "execution_count": 1,
     "metadata": {},
     "output_type": "execute_result"
    }
   ],
   "source": [
    "%pwd     # pwd는 미리 정의된 매직명령 "
   ]
  },
  {
   "cell_type": "markdown",
   "metadata": {},
   "source": [
    "> 아래의 코드는 잘 동작하지 않을 것임. 우리의 시스템이 윈도우 시스템이라서 wget이 돌아가지 않음. 리눅스를 베이스로 사용하는 사람은 한번 시도해 볼 것.\n",
    "> 윈도우를 쓰는 사람은 **아래의 링크에 직접 가서 파일을 다운**받을것!!"
   ]
  },
  {
   "cell_type": "code",
   "execution_count": 2,
   "metadata": {},
   "outputs": [
    {
     "name": "stdout",
     "output_type": "stream",
     "text": [
      "\u001b[34m==>\u001b[0m \u001b[1mDownloading https://ghcr.io/v2/homebrew/core/wget/manifests/1.21.3\u001b[0m\n",
      "Already downloaded: /Users/leewoongsup/Library/Caches/Homebrew/downloads/437ebf455b64657627cf9ebd6903f89959f093bda5110bc6b01589e4ddcf30af--wget-1.21.3.bottle_manifest.json\n",
      "\u001b[34m==>\u001b[0m \u001b[1mDownloading https://ghcr.io/v2/homebrew/core/wget/blobs/sha256:b90e0d7a4319c\u001b[0m\n",
      "Already downloaded: /Users/leewoongsup/Library/Caches/Homebrew/downloads/99a83668e2b870ceb4f52f7ab6408e0d9ff57e66b84b29f873d63085f2424ffa--wget--1.21.3.big_sur.bottle.tar.gz\n",
      "\u001b[32m==>\u001b[0m \u001b[1mReinstalling \u001b[32mwget\u001b[39m \u001b[0m\n",
      "\u001b[34m==>\u001b[0m \u001b[1mPouring wget--1.21.3.big_sur.bottle.tar.gz\u001b[0m\n",
      "🍺  /usr/local/Cellar/wget/1.21.3: 89 files, 4.2MB\n",
      "\u001b[34m==>\u001b[0m \u001b[1m`brew cleanup` has not been run in the last 30 days, running now...\u001b[0m\n",
      "Disable this behaviour by setting HOMEBREW_NO_INSTALL_CLEANUP.\n",
      "Hide these hints with HOMEBREW_NO_ENV_HINTS (see `man brew`).\n",
      "\u001b[31mError:\u001b[0m Permission denied @ apply2files - /usr/local/share/ghostscript/9.10/Resource/Font/logo10.pfb\n"
     ]
    }
   ],
   "source": [
    "!brew install wget"
   ]
  },
  {
   "cell_type": "code",
   "execution_count": 3,
   "metadata": {},
   "outputs": [
    {
     "name": "stdout",
     "output_type": "stream",
     "text": [
      "--2022-03-09 15:10:03--  https://raw.githubusercontent.com/ipython-books/minibook-2nd-data/master/facebook.zip\n",
      "raw.githubusercontent.com (raw.githubusercontent.com) 해석 중... 185.199.108.133, 185.199.110.133, 185.199.111.133, ...\n",
      "다음으로 연결 중: raw.githubusercontent.com (raw.githubusercontent.com)|185.199.108.133|:443... 연결했습니다.\n",
      "HTTP 요청을 보냈습니다. 응답 기다리는 중... 200 OK\n",
      "길이: 610785 (596K) [application/zip]\n",
      "저장 위치: `facebook.zip.1'\n",
      "\n",
      "facebook.zip.1      100%[===================>] 596.47K  3.04MB/s    /  0.2s    \n",
      "\n",
      "2022-03-09 15:10:04 (3.04 MB/s) - `facebook.zip.1' 저장함 [610785/610785]\n",
      "\n"
     ]
    }
   ],
   "source": [
    "!wget https://raw.githubusercontent.com/ipython-books/minibook-2nd-data/master/facebook.zip"
   ]
  },
  {
   "cell_type": "markdown",
   "metadata": {},
   "source": [
    "> 아래의 ls는 리눅스에서 현재 폴더의 파일 리스트를 출력하는 코드임."
   ]
  },
  {
   "cell_type": "code",
   "execution_count": 4,
   "metadata": {},
   "outputs": [
    {
     "name": "stdout",
     "output_type": "stream",
     "text": [
      "\u001b[34mfacebook\u001b[m\u001b[m/                     \u001b[34mminibook-2nd-code-master\u001b[m\u001b[m/\r\n",
      "facebook.zip                  minibook-2nd-code-master.zip\r\n",
      "facebook.zip.1                nyc_taxi.zip\r\n",
      "\u001b[34mimages\u001b[m\u001b[m/                       \u001b[31mpython_basic.ipynb\u001b[m\u001b[m*\r\n",
      "jupyter_basic.ipynb           test_1.ipynb\r\n"
     ]
    }
   ],
   "source": [
    "%ls"
   ]
  },
  {
   "cell_type": "markdown",
   "metadata": {},
   "source": [
    "> 리눅스나 OS X에서는 unzip을 이용해서 압축을 풀 수 있다. 리눅스 사용자는 직접 unzip으로 풀고 윈도우 유저는 직접 zip파일을 풀어주자!!"
   ]
  },
  {
   "cell_type": "code",
   "execution_count": 9,
   "metadata": {},
   "outputs": [
    {
     "name": "stdout",
     "output_type": "stream",
     "text": [
      "unzip:  cannot find or open facebook.zip, facebook.zip.zip or facebook.zip.ZIP.\r\n"
     ]
    }
   ],
   "source": [
    "!unzip facebook.zip"
   ]
  },
  {
   "cell_type": "markdown",
   "metadata": {},
   "source": [
    "> 실제 facebook 폴더 생성을 확인하자"
   ]
  },
  {
   "cell_type": "code",
   "execution_count": 10,
   "metadata": {},
   "outputs": [
    {
     "name": "stdout",
     "output_type": "stream",
     "text": [
      "0.circles     1684.edges    348.circles   414.edges     \u001b[34mtemptemp\u001b[m\u001b[m/\r\n",
      "0.edges       1912.circles  348.edges     686.circles\r\n",
      "107.circles   1912.edges    3980.circles  686.edges\r\n",
      "107.edges     3437.circles  3980.edges    698.circles\r\n",
      "1684.circles  3437.edges    414.circles   698.edges\r\n"
     ]
    }
   ],
   "source": [
    "%ls"
   ]
  },
  {
   "cell_type": "markdown",
   "metadata": {},
   "source": [
    "> 윈도우나 리눅스 모두 서브폴더에 접근하려면 cd명령을 이용한다"
   ]
  },
  {
   "cell_type": "code",
   "execution_count": 11,
   "metadata": {},
   "outputs": [
    {
     "name": "stdout",
     "output_type": "stream",
     "text": [
      "[Errno 2] No such file or directory: 'facebook/'\n",
      "/Users/leewoongsup/Dropbox/Class/2022_class/Spring/데이터과학/CODE/facebook\n"
     ]
    }
   ],
   "source": [
    "%cd facebook/"
   ]
  },
  {
   "cell_type": "markdown",
   "metadata": {},
   "source": [
    "> 여기서 cd 까지만 입력하고 tab을 눌러보자. 무슨일이 발생하는가??"
   ]
  },
  {
   "cell_type": "markdown",
   "metadata": {},
   "source": [
    "> 특정 폴더를 북마크 할 수 있다. 여기서는 facebook 폴더를 fbdata라는 북마크로 만들어 놓자"
   ]
  },
  {
   "cell_type": "code",
   "execution_count": 12,
   "metadata": {},
   "outputs": [],
   "source": [
    "%bookmark fbdata"
   ]
  },
  {
   "cell_type": "markdown",
   "metadata": {},
   "source": [
    "> 아래의 명령어로 fbdata 북마크로 디렉토리를 옮길 수 있음"
   ]
  },
  {
   "cell_type": "code",
   "execution_count": 13,
   "metadata": {},
   "outputs": [
    {
     "name": "stdout",
     "output_type": "stream",
     "text": [
      "(bookmark:fbdata) -> /Users/leewoongsup/Dropbox/Class/2022_class/Spring/데이터과학/CODE/facebook\n",
      "/Users/leewoongsup/Dropbox/Class/2022_class/Spring/데이터과학/CODE/facebook\n"
     ]
    }
   ],
   "source": [
    "%cd fbdata"
   ]
  },
  {
   "cell_type": "markdown",
   "metadata": {},
   "source": [
    "> facebook 폴더에 있는 파일은 페이스북 사용자들의 데이터를 나타냄\n",
    "\n",
    "> 파일의 숫자는 페이스북 사용자를 의미함. .edge파일은 소셜 그래프가 있으면 노드는 페이스북 사용자, edge는 사용자간의 관계이다. 또한 .circles파일은 친구 목록이다"
   ]
  },
  {
   "cell_type": "code",
   "execution_count": 14,
   "metadata": {},
   "outputs": [
    {
     "name": "stdout",
     "output_type": "stream",
     "text": [
      "0.circles     1684.edges    348.circles   414.edges     \u001b[34mtemptemp\u001b[m\u001b[m/\r\n",
      "0.edges       1912.circles  348.edges     686.circles\r\n",
      "107.circles   1912.edges    3980.circles  686.edges\r\n",
      "107.edges     3437.circles  3980.edges    698.circles\r\n",
      "1684.circles  3437.edges    414.circles   698.edges\r\n"
     ]
    }
   ],
   "source": [
    "%ls"
   ]
  },
  {
   "cell_type": "markdown",
   "metadata": {},
   "source": [
    "> 더 많은 명령어는 %bookmark?로 확인 가능. 아래의 명령을 실행해 보자!"
   ]
  },
  {
   "cell_type": "code",
   "execution_count": 15,
   "metadata": {},
   "outputs": [],
   "source": [
    "%bookmark?"
   ]
  },
  {
   "cell_type": "markdown",
   "metadata": {},
   "source": [
    "> 실제 폴더에 특정 파일들을 찾는 명령어들. "
   ]
  },
  {
   "cell_type": "code",
   "execution_count": 16,
   "metadata": {},
   "outputs": [],
   "source": [
    "files = !ls -S"
   ]
  },
  {
   "cell_type": "code",
   "execution_count": 17,
   "metadata": {},
   "outputs": [
    {
     "data": {
      "text/plain": [
       "['1912.edges',\n",
       " '107.edges',\n",
       " '1684.edges',\n",
       " '3437.edges',\n",
       " '348.edges',\n",
       " '0.edges',\n",
       " '414.edges',\n",
       " '686.edges',\n",
       " '1912.circles',\n",
       " '698.edges',\n",
       " '1684.circles',\n",
       " '3980.edges',\n",
       " '107.circles',\n",
       " '348.circles',\n",
       " '686.circles',\n",
       " '0.circles',\n",
       " '3437.circles',\n",
       " '414.circles',\n",
       " '698.circles',\n",
       " '3980.circles',\n",
       " 'temptemp']"
      ]
     },
     "execution_count": 17,
     "metadata": {},
     "output_type": "execute_result"
    }
   ],
   "source": [
    "files"
   ]
  },
  {
   "cell_type": "markdown",
   "metadata": {},
   "source": [
    "> 아래의 grep은 리눅스 명령으로 윈도우에서는 동작하지 않음"
   ]
  },
  {
   "cell_type": "code",
   "execution_count": 18,
   "metadata": {},
   "outputs": [],
   "source": [
    "files = !ls -1 -S | grep .edges"
   ]
  },
  {
   "cell_type": "code",
   "execution_count": 19,
   "metadata": {},
   "outputs": [
    {
     "data": {
      "text/plain": [
       "['1912.edges',\n",
       " '107.edges',\n",
       " '1684.edges',\n",
       " '3437.edges',\n",
       " '348.edges',\n",
       " '0.edges',\n",
       " '414.edges',\n",
       " '686.edges',\n",
       " '698.edges',\n",
       " '3980.edges']"
      ]
     },
     "execution_count": 19,
     "metadata": {},
     "output_type": "execute_result"
    }
   ],
   "source": [
    "files"
   ]
  },
  {
   "cell_type": "markdown",
   "metadata": {
    "collapsed": true
   },
   "source": [
    "files = !ls -1 -S | grep .edges"
   ]
  },
  {
   "cell_type": "markdown",
   "metadata": {},
   "source": [
    "> 위의 코드를 윈도우에서는 파이썬을 이용하여 다음과 같이 만들 수 있음"
   ]
  },
  {
   "cell_type": "code",
   "execution_count": 20,
   "metadata": {},
   "outputs": [],
   "source": [
    "import os\n",
    "from operator import itemgetter\n",
    "# Get the name and file size of all .edges files.\n",
    "files = [(file, os.stat(file).st_size)\n",
    "         for file in os.listdir('.')\n",
    "         if file.endswith('.edges')]\n",
    "# Sort the list with the second item (file size),\n",
    "# in decreasing order.\n",
    "files = sorted(files,\n",
    "               key=itemgetter(1),\n",
    "               reverse=True)\n",
    "# Only keep the first item (file name), in the same order.\n",
    "files = [file for (file, size) in files]"
   ]
  },
  {
   "cell_type": "code",
   "execution_count": 21,
   "metadata": {},
   "outputs": [
    {
     "data": {
      "text/plain": [
       "['1912.edges',\n",
       " '107.edges',\n",
       " '1684.edges',\n",
       " '3437.edges',\n",
       " '348.edges',\n",
       " '0.edges',\n",
       " '414.edges',\n",
       " '686.edges',\n",
       " '698.edges',\n",
       " '3980.edges']"
      ]
     },
     "execution_count": 21,
     "metadata": {},
     "output_type": "execute_result"
    }
   ],
   "source": [
    "files"
   ]
  },
  {
   "cell_type": "code",
   "execution_count": null,
   "metadata": {},
   "outputs": [],
   "source": []
  },
  {
   "cell_type": "code",
   "execution_count": 22,
   "metadata": {},
   "outputs": [
    {
     "name": "stdout",
     "output_type": "stream",
     "text": [
      "2290 2363\r\n",
      "2346 2025\r\n",
      "2140 2428\r\n",
      "2201 2506\r\n",
      "2425 2557\r\n"
     ]
    }
   ],
   "source": [
    "!head -n5 {files[0]}"
   ]
  },
  {
   "cell_type": "code",
   "execution_count": null,
   "metadata": {},
   "outputs": [],
   "source": []
  },
  {
   "cell_type": "code",
   "execution_count": null,
   "metadata": {},
   "outputs": [],
   "source": []
  },
  {
   "cell_type": "markdown",
   "metadata": {},
   "source": [
    "### Learning magic commands"
   ]
  },
  {
   "cell_type": "markdown",
   "metadata": {},
   "source": [
    "> 아래의 명령으로 매직명령들을 확인할 수 있다!"
   ]
  },
  {
   "cell_type": "code",
   "execution_count": 23,
   "metadata": {},
   "outputs": [
    {
     "data": {
      "application/json": {
       "cell": {
        "!": "OSMagics",
        "HTML": "Other",
        "SVG": "Other",
        "bash": "Other",
        "capture": "ExecutionMagics",
        "debug": "ExecutionMagics",
        "file": "Other",
        "html": "DisplayMagics",
        "javascript": "DisplayMagics",
        "js": "DisplayMagics",
        "latex": "DisplayMagics",
        "markdown": "DisplayMagics",
        "perl": "Other",
        "prun": "ExecutionMagics",
        "pypy": "Other",
        "python": "Other",
        "python2": "Other",
        "python3": "Other",
        "ruby": "Other",
        "script": "ScriptMagics",
        "sh": "Other",
        "svg": "DisplayMagics",
        "sx": "OSMagics",
        "system": "OSMagics",
        "time": "ExecutionMagics",
        "timeit": "ExecutionMagics",
        "writefile": "OSMagics"
       },
       "line": {
        "alias": "OSMagics",
        "alias_magic": "BasicMagics",
        "autoawait": "AsyncMagics",
        "autocall": "AutoMagics",
        "automagic": "AutoMagics",
        "autosave": "KernelMagics",
        "bookmark": "OSMagics",
        "cat": "Other",
        "cd": "OSMagics",
        "clear": "KernelMagics",
        "colors": "BasicMagics",
        "conda": "PackagingMagics",
        "config": "ConfigMagics",
        "connect_info": "KernelMagics",
        "cp": "Other",
        "debug": "ExecutionMagics",
        "dhist": "OSMagics",
        "dirs": "OSMagics",
        "doctest_mode": "BasicMagics",
        "ed": "Other",
        "edit": "KernelMagics",
        "env": "OSMagics",
        "gui": "BasicMagics",
        "hist": "Other",
        "history": "HistoryMagics",
        "killbgscripts": "ScriptMagics",
        "ldir": "Other",
        "less": "KernelMagics",
        "lf": "Other",
        "lk": "Other",
        "ll": "Other",
        "load": "CodeMagics",
        "load_ext": "ExtensionMagics",
        "loadpy": "CodeMagics",
        "logoff": "LoggingMagics",
        "logon": "LoggingMagics",
        "logstart": "LoggingMagics",
        "logstate": "LoggingMagics",
        "logstop": "LoggingMagics",
        "ls": "Other",
        "lsmagic": "BasicMagics",
        "lx": "Other",
        "macro": "ExecutionMagics",
        "magic": "BasicMagics",
        "man": "KernelMagics",
        "matplotlib": "PylabMagics",
        "mkdir": "Other",
        "more": "KernelMagics",
        "mv": "Other",
        "notebook": "BasicMagics",
        "page": "BasicMagics",
        "pastebin": "CodeMagics",
        "pdb": "ExecutionMagics",
        "pdef": "NamespaceMagics",
        "pdoc": "NamespaceMagics",
        "pfile": "NamespaceMagics",
        "pinfo": "NamespaceMagics",
        "pinfo2": "NamespaceMagics",
        "pip": "PackagingMagics",
        "popd": "OSMagics",
        "pprint": "BasicMagics",
        "precision": "BasicMagics",
        "prun": "ExecutionMagics",
        "psearch": "NamespaceMagics",
        "psource": "NamespaceMagics",
        "pushd": "OSMagics",
        "pwd": "OSMagics",
        "pycat": "OSMagics",
        "pylab": "PylabMagics",
        "qtconsole": "KernelMagics",
        "quickref": "BasicMagics",
        "recall": "HistoryMagics",
        "rehashx": "OSMagics",
        "reload_ext": "ExtensionMagics",
        "rep": "Other",
        "rerun": "HistoryMagics",
        "reset": "NamespaceMagics",
        "reset_selective": "NamespaceMagics",
        "rm": "Other",
        "rmdir": "Other",
        "run": "ExecutionMagics",
        "save": "CodeMagics",
        "sc": "OSMagics",
        "set_env": "OSMagics",
        "store": "StoreMagics",
        "sx": "OSMagics",
        "system": "OSMagics",
        "tb": "ExecutionMagics",
        "time": "ExecutionMagics",
        "timeit": "ExecutionMagics",
        "unalias": "OSMagics",
        "unload_ext": "ExtensionMagics",
        "who": "NamespaceMagics",
        "who_ls": "NamespaceMagics",
        "whos": "NamespaceMagics",
        "xdel": "NamespaceMagics",
        "xmode": "BasicMagics"
       }
      },
      "text/plain": [
       "Available line magics:\n",
       "%alias  %alias_magic  %autoawait  %autocall  %automagic  %autosave  %bookmark  %cat  %cd  %clear  %colors  %conda  %config  %connect_info  %cp  %debug  %dhist  %dirs  %doctest_mode  %ed  %edit  %env  %gui  %hist  %history  %killbgscripts  %ldir  %less  %lf  %lk  %ll  %load  %load_ext  %loadpy  %logoff  %logon  %logstart  %logstate  %logstop  %ls  %lsmagic  %lx  %macro  %magic  %man  %matplotlib  %mkdir  %more  %mv  %notebook  %page  %pastebin  %pdb  %pdef  %pdoc  %pfile  %pinfo  %pinfo2  %pip  %popd  %pprint  %precision  %prun  %psearch  %psource  %pushd  %pwd  %pycat  %pylab  %qtconsole  %quickref  %recall  %rehashx  %reload_ext  %rep  %rerun  %reset  %reset_selective  %rm  %rmdir  %run  %save  %sc  %set_env  %store  %sx  %system  %tb  %time  %timeit  %unalias  %unload_ext  %who  %who_ls  %whos  %xdel  %xmode\n",
       "\n",
       "Available cell magics:\n",
       "%%!  %%HTML  %%SVG  %%bash  %%capture  %%debug  %%file  %%html  %%javascript  %%js  %%latex  %%markdown  %%perl  %%prun  %%pypy  %%python  %%python2  %%python3  %%ruby  %%script  %%sh  %%svg  %%sx  %%system  %%time  %%timeit  %%writefile\n",
       "\n",
       "Automagic is ON, % prefix IS NOT needed for line magics."
      ]
     },
     "execution_count": 23,
     "metadata": {},
     "output_type": "execute_result"
    }
   ],
   "source": [
    "%lsmagic"
   ]
  },
  {
   "cell_type": "markdown",
   "metadata": {},
   "source": [
    "> 매직명령의 뒤에 ?를 추가하여 매직명령에 대한 정보를 알 수 있다. 만약 history라는 매직명령을 알아보려면 어떻게 하면 되는가?"
   ]
  },
  {
   "cell_type": "code",
   "execution_count": 24,
   "metadata": {},
   "outputs": [],
   "source": [
    "## history 매직명령"
   ]
  },
  {
   "cell_type": "code",
   "execution_count": 25,
   "metadata": {},
   "outputs": [],
   "source": [
    "## history 매직명령을 이용하여 마지막으로 사용한 5개의 명령이력을 찾아보아라 (hint: -l)"
   ]
  },
  {
   "cell_type": "markdown",
   "metadata": {},
   "source": [
    "> dhist는 지금까지 방문한 디렉토리를 보여줌"
   ]
  },
  {
   "cell_type": "code",
   "execution_count": 26,
   "metadata": {},
   "outputs": [
    {
     "name": "stdout",
     "output_type": "stream",
     "text": [
      "Directory history (kept in _dh)\n",
      "0: /Users/leewoongsup/Dropbox/Class/2022_class/Spring/데이터과학/CODE\n",
      "1: /Users/leewoongsup/Dropbox/Class/2022_class/Spring/데이터과학/CODE/facebook\n"
     ]
    }
   ],
   "source": [
    "%dhist"
   ]
  },
  {
   "cell_type": "markdown",
   "metadata": {
    "collapsed": true
   },
   "source": [
    "## QQ 디렉토리를 하나 더 만들고 방문하여 dhist목록이 바뀌는 것을 확인해 보아라"
   ]
  },
  {
   "cell_type": "code",
   "execution_count": null,
   "metadata": {},
   "outputs": [],
   "source": []
  },
  {
   "cell_type": "markdown",
   "metadata": {},
   "source": [
    "> 기본적으로 아이파이썬에서는 그전의 계산 결과를 _변수에 저장한다"
   ]
  },
  {
   "cell_type": "code",
   "execution_count": null,
   "metadata": {},
   "outputs": [],
   "source": []
  },
  {
   "cell_type": "code",
   "execution_count": 27,
   "metadata": {},
   "outputs": [
    {
     "data": {
      "text/plain": [
       "1440"
      ]
     },
     "execution_count": 27,
     "metadata": {},
     "output_type": "execute_result"
    }
   ],
   "source": [
    "# how many minutes in a day?\n",
    "24 * 60"
   ]
  },
  {
   "cell_type": "code",
   "execution_count": 28,
   "metadata": {},
   "outputs": [
    {
     "data": {
      "text/plain": [
       "525600"
      ]
     },
     "execution_count": 28,
     "metadata": {},
     "output_type": "execute_result"
    }
   ],
   "source": [
    "# and in a year?\n",
    "_ * 365"
   ]
  },
  {
   "cell_type": "code",
   "execution_count": 29,
   "metadata": {},
   "outputs": [
    {
     "data": {
      "text/plain": [
       "525600"
      ]
     },
     "execution_count": 29,
     "metadata": {},
     "output_type": "execute_result"
    }
   ],
   "source": [
    "_"
   ]
  },
  {
   "cell_type": "markdown",
   "metadata": {},
   "source": [
    "> 지금까지는 %가 붙어 있으면 하나의 라인에만 영향을 주었음\n",
    "\n",
    "> 하지만 %%가 붙어있으면 전체 셀에 영향을 줌 (셀 매직)\n",
    "\n",
    "> 아래의 capture는 표준 출력이나 코드의 오류출력을 파이썬 변수에 넣을 수 있게 한 것임"
   ]
  },
  {
   "cell_type": "code",
   "execution_count": 30,
   "metadata": {},
   "outputs": [],
   "source": [
    "%%capture output\n",
    "%ls\n"
   ]
  },
  {
   "cell_type": "code",
   "execution_count": 31,
   "metadata": {},
   "outputs": [
    {
     "data": {
      "text/plain": [
       "'0.circles     1684.edges    348.circles   414.edges     \\x1b[34mtemptemp\\x1b[m\\x1b[m/\\r\\n0.edges       1912.circles  348.edges     686.circles\\r\\n107.circles   1912.edges    3980.circles  686.edges\\r\\n107.edges     3437.circles  3980.edges    698.circles\\r\\n1684.circles  3437.edges    414.circles   698.edges\\r\\n'"
      ]
     },
     "execution_count": 31,
     "metadata": {},
     "output_type": "execute_result"
    }
   ],
   "source": [
    "output.stdout"
   ]
  },
  {
   "cell_type": "code",
   "execution_count": null,
   "metadata": {},
   "outputs": [],
   "source": []
  },
  {
   "cell_type": "markdown",
   "metadata": {},
   "source": [
    "> bash는 노트북에서 여러줄의 배시코드를 실행하게 함\n",
    "\n",
    "> 아래의 코드는 윈도우에서 잘 실행되지 않을 수 있음\n",
    "\n",
    "> 아래에서 현재 디렉토리는 무엇인가?"
   ]
  },
  {
   "cell_type": "code",
   "execution_count": 32,
   "metadata": {},
   "outputs": [
    {
     "name": "stdout",
     "output_type": "stream",
     "text": [
      "_HEY\n",
      "facebook\n",
      "facebook.zip\n",
      "facebook.zip.1\n",
      "images\n",
      "jupyter_basic.ipynb\n",
      "minibook-2nd-code-master\n",
      "minibook-2nd-code-master.zip\n",
      "nyc_taxi.zip\n",
      "python_basic.ipynb\n",
      "test_1.ipynb\n"
     ]
    }
   ],
   "source": [
    "%%bash\n",
    "cd ..\n",
    "touch _HEY\n",
    "ls\n",
    "rm _HEY\n",
    "cd facebook"
   ]
  },
  {
   "cell_type": "markdown",
   "metadata": {},
   "source": [
    "> script는 시스템에 설치된 프로그램 실행. 하스켈을 시행하는 코드는 다음과 같음"
   ]
  },
  {
   "cell_type": "markdown",
   "metadata": {},
   "source": [
    "> writefile 셀 매직은 새파일을 작성할 수 있도록 함"
   ]
  },
  {
   "cell_type": "code",
   "execution_count": 33,
   "metadata": {},
   "outputs": [
    {
     "name": "stdout",
     "output_type": "stream",
     "text": [
      "Writing myfile.txt\n"
     ]
    }
   ],
   "source": [
    "%%writefile myfile.txt\n",
    "Hello world!"
   ]
  },
  {
   "cell_type": "code",
   "execution_count": 34,
   "metadata": {},
   "outputs": [
    {
     "name": "stdout",
     "output_type": "stream",
     "text": [
      "Hello world!\n",
      "\u001b[K\u001b[?1l\u001b>.txt (END)\u001b[m\u001b[K\u0007"
     ]
    }
   ],
   "source": [
    "!more myfile.txt"
   ]
  },
  {
   "cell_type": "code",
   "execution_count": 35,
   "metadata": {},
   "outputs": [
    {
     "name": "stdout",
     "output_type": "stream",
     "text": [
      "circle0 71      215     54      61      298     229     81      253     193     97      264     29      132     110     163     259     183     334     245     222\n",
      "circle1 173\n",
      "circle2 155     99      327     140     116     147     144     150     270\n",
      "circle3 51      83      237\n",
      "circle4 125     344     295     257     55      122     223     59      268     280     84      156     258     236     250     239     69\n",
      "circle5 23\n",
      "circle6 337     289     93      17      111     52      137     343     192     35      326     310     214     32      115     321     209     312     41      20\n",
      "circle7 225     46\n",
      "circle8 282\n",
      "circle9 336     204     74      206     292     146     154     164     279     73\n",
      "circle10        42      14      216     2\n",
      "circle11        324     265     54      161     298     76      165     199     203     13      66      113     97      252     313     238     158     240     331     332     134     218     118     235     311     151     308     212     70      211\n",
      "circle12        278\n",
      "circle13        138     131     68      143     86\n",
      "\u001b[K\u001b[?1l\u001b>les\u001b[m\u001b[K\u0007"
     ]
    }
   ],
   "source": [
    "!more 0.circles"
   ]
  },
  {
   "cell_type": "code",
   "execution_count": null,
   "metadata": {},
   "outputs": [],
   "source": []
  },
  {
   "cell_type": "markdown",
   "metadata": {},
   "source": [
    "> 윈도우에서는 rm대신에 del을 사용함"
   ]
  },
  {
   "cell_type": "code",
   "execution_count": 36,
   "metadata": {},
   "outputs": [],
   "source": [
    "!rm myfile.txt"
   ]
  },
  {
   "cell_type": "code",
   "execution_count": 37,
   "metadata": {},
   "outputs": [
    {
     "name": "stdout",
     "output_type": "stream",
     "text": [
      "0.circles    1684.circles 3437.circles 3980.circles 686.circles  \u001b[34mtemptemp\u001b[m\u001b[m\r\n",
      "0.edges      1684.edges   3437.edges   3980.edges   686.edges\r\n",
      "107.circles  1912.circles 348.circles  414.circles  698.circles\r\n",
      "107.edges    1912.edges   348.edges    414.edges    698.edges\r\n"
     ]
    }
   ],
   "source": [
    "!ls"
   ]
  },
  {
   "cell_type": "markdown",
   "metadata": {},
   "source": [
    "### Mastering tab completion\n",
    "- 탭완성 정복하기"
   ]
  },
  {
   "cell_type": "code",
   "execution_count": 38,
   "metadata": {},
   "outputs": [
    {
     "name": "stdout",
     "output_type": "stream",
     "text": [
      "(bookmark:fbdata) -> /Users/leewoongsup/Dropbox/Class/2022_class/Spring/데이터과학/CODE/facebook\n",
      "/Users/leewoongsup/Dropbox/Class/2022_class/Spring/데이터과학/CODE/facebook\n",
      "0.circles     1684.edges    348.circles   414.edges     \u001b[34mtemptemp\u001b[m\u001b[m/\r\n",
      "0.edges       1912.circles  348.edges     686.circles\r\n",
      "107.circles   1912.edges    3980.circles  686.edges\r\n",
      "107.edges     3437.circles  3980.edges    698.circles\r\n",
      "1684.circles  3437.edges    414.circles   698.edges\r\n"
     ]
    }
   ],
   "source": [
    "%cd fbdata\n",
    "%ls"
   ]
  },
  {
   "cell_type": "markdown",
   "metadata": {},
   "source": [
    "> 아래에서 tab을 눌러보자. 무슨일이 발생하는가?"
   ]
  },
  {
   "cell_type": "code",
   "execution_count": 39,
   "metadata": {},
   "outputs": [
    {
     "name": "stdout",
     "output_type": "stream",
     "text": [
      "circle0\t1043\t1045\t1030\t1252\t1254\t1368\t1197\t955\t1111\t1384\r\n",
      "circle1\t1410\t1144\t950\t1385\t1174\t1087\t563\t1684\t1676\t1555\t1549\t389\t1013\t1251\t1031\t1421\r\n",
      "circle2\t1469\t1504\t1727\t1183\t1052\t1807\t913\t1263\t1690\t1035\t1531\t1699\t1444\t1738\t1745\t1760\t1429\t987\t1542\r\n",
      "circle3\t1320\t1616\t1025\t976\t651\t1237\t1223\t566\t1881\t1080\t0\t1142\t517\t1155\t1408\t563\t1692\t1684\t914\t348\t915\t420\t363\t1487\t606\t1766\t1549\t366\t1113\t1679\t1882\t428\t58\t1114\t1574\t1332\t1387\t1767\t1179\r\n",
      "circle4\t1177\t1896\t1053\t1138\t1057\t1403\t979\t1016\t1664\t1607\r\n"
     ]
    }
   ],
   "source": [
    "!head -n5 107.circles"
   ]
  },
  {
   "cell_type": "code",
   "execution_count": 40,
   "metadata": {},
   "outputs": [
    {
     "name": "stdout",
     "output_type": "stream",
     "text": [
      "/Users/leewoongsup/Dropbox/Class/2022_class/Spring/데이터과학/CODE\n"
     ]
    }
   ],
   "source": [
    "%cd .."
   ]
  },
  {
   "cell_type": "code",
   "execution_count": null,
   "metadata": {},
   "outputs": [],
   "source": []
  },
  {
   "cell_type": "code",
   "execution_count": null,
   "metadata": {},
   "outputs": [],
   "source": []
  },
  {
   "cell_type": "markdown",
   "metadata": {},
   "source": [
    "### 마크다운으로 노트북에서 대화형 문서 작성\n",
    "- 아래의 코드를 직접 작성해보자!!\n",
    "![IPython console](images/markdown-both.png)"
   ]
  },
  {
   "cell_type": "markdown",
   "metadata": {},
   "source": [
    "> 만약에 하이퍼링크를 추가하려면 어떻게 해야 하는가???"
   ]
  },
  {
   "cell_type": "markdown",
   "metadata": {},
   "source": [
    "### Writing interactive documents in the Notebook with Markdown"
   ]
  },
  {
   "cell_type": "markdown",
   "metadata": {},
   "source": [
    "### Creating interactive widgets in the Notebook\n",
    "- 아이파이썬에서는 다양한 대화형 그래픽 요소를 만들 수 있음. \n",
    "- 버튼, 슬라이더, 드랍다운, 비디오, 오디오등을 추가 가능함\n",
    "- 유튜브 비디오를 추가해보자!!"
   ]
  },
  {
   "cell_type": "code",
   "execution_count": 41,
   "metadata": {},
   "outputs": [
    {
     "data": {
      "image/jpeg": "[encoded data removed]",
      "text/html": [
       "\n",
       "        <iframe\n",
       "            width=\"400\"\n",
       "            height=\"300\"\n",
       "            src=\"https://www.youtube.com/embed/j9YpkSX7NNM\"\n",
       "            frameborder=\"0\"\n",
       "            allowfullscreen\n",
       "        ></iframe>\n",
       "        "
      ],
      "text/plain": [
       "<IPython.lib.display.YouTubeVideo at 0x10f747580>"
      ]
     },
     "execution_count": 41,
     "metadata": {},
     "output_type": "execute_result"
    }
   ],
   "source": [
    "from IPython.display import YouTubeVideo\n",
    "YouTubeVideo('j9YpkSX7NNM')"
   ]
  },
  {
   "cell_type": "markdown",
   "metadata": {},
   "source": [
    "> 다른 비디오를 추가해보자!!"
   ]
  },
  {
   "cell_type": "markdown",
   "metadata": {},
   "source": [
    "> 아래와 같은 방법으로 widget을 추가할 수 있다. "
   ]
  },
  {
   "cell_type": "code",
   "execution_count": 42,
   "metadata": {},
   "outputs": [
    {
     "name": "stdout",
     "output_type": "stream",
     "text": [
      "Requirement already satisfied: ipywidgets in /usr/local/lib/python3.8/site-packages (7.6.5)\n",
      "Requirement already satisfied: ipython-genutils~=0.2.0 in /usr/local/lib/python3.8/site-packages (from ipywidgets) (0.2.0)\n",
      "Requirement already satisfied: ipykernel>=4.5.1 in /usr/local/lib/python3.8/site-packages (from ipywidgets) (5.3.4)\n",
      "Requirement already satisfied: ipython>=4.0.0; python_version >= \"3.3\" in /usr/local/lib/python3.8/site-packages (from ipywidgets) (7.18.1)\n",
      "Requirement already satisfied: jupyterlab-widgets>=1.0.0; python_version >= \"3.6\" in /usr/local/lib/python3.8/site-packages (from ipywidgets) (1.0.2)\n",
      "Requirement already satisfied: nbformat>=4.2.0 in /usr/local/lib/python3.8/site-packages (from ipywidgets) (5.0.8)\n",
      "Requirement already satisfied: widgetsnbextension~=3.5.0 in /usr/local/lib/python3.8/site-packages (from ipywidgets) (3.5.2)\n",
      "Requirement already satisfied: traitlets>=4.3.1 in /usr/local/lib/python3.8/site-packages (from ipywidgets) (5.0.5)\n",
      "Requirement already satisfied: appnope; platform_system == \"Darwin\" in /usr/local/lib/python3.8/site-packages (from ipykernel>=4.5.1->ipywidgets) (0.1.0)\n",
      "Requirement already satisfied: tornado>=4.2 in /usr/local/lib/python3.8/site-packages (from ipykernel>=4.5.1->ipywidgets) (6.0.4)\n",
      "Requirement already satisfied: jupyter-client in /usr/local/lib/python3.8/site-packages (from ipykernel>=4.5.1->ipywidgets) (6.1.7)\n",
      "Requirement already satisfied: prompt-toolkit!=3.0.0,!=3.0.1,<3.1.0,>=2.0.0 in /usr/local/lib/python3.8/site-packages (from ipython>=4.0.0; python_version >= \"3.3\"->ipywidgets) (3.0.8)\n",
      "Requirement already satisfied: backcall in /usr/local/lib/python3.8/site-packages (from ipython>=4.0.0; python_version >= \"3.3\"->ipywidgets) (0.2.0)\n",
      "Requirement already satisfied: jedi>=0.10 in /usr/local/lib/python3.8/site-packages (from ipython>=4.0.0; python_version >= \"3.3\"->ipywidgets) (0.17.2)\n",
      "Requirement already satisfied: pickleshare in /usr/local/lib/python3.8/site-packages (from ipython>=4.0.0; python_version >= \"3.3\"->ipywidgets) (0.7.5)\n",
      "Requirement already satisfied: pexpect>4.3; sys_platform != \"win32\" in /usr/local/lib/python3.8/site-packages (from ipython>=4.0.0; python_version >= \"3.3\"->ipywidgets) (4.8.0)\n",
      "Requirement already satisfied: pygments in /usr/local/lib/python3.8/site-packages (from ipython>=4.0.0; python_version >= \"3.3\"->ipywidgets) (2.7.1)\n",
      "Requirement already satisfied: decorator in /usr/local/lib/python3.8/site-packages (from ipython>=4.0.0; python_version >= \"3.3\"->ipywidgets) (4.4.2)\n",
      "Requirement already satisfied: setuptools>=18.5 in /usr/local/lib/python3.8/site-packages (from ipython>=4.0.0; python_version >= \"3.3\"->ipywidgets) (50.3.0)\n",
      "Requirement already satisfied: jupyter-core in /usr/local/lib/python3.8/site-packages (from nbformat>=4.2.0->ipywidgets) (4.6.3)\n",
      "Requirement already satisfied: jsonschema!=2.5.0,>=2.4 in /usr/local/lib/python3.8/site-packages (from nbformat>=4.2.0->ipywidgets) (3.2.0)\n",
      "Requirement already satisfied: notebook>=4.4.1 in /usr/local/lib/python3.8/site-packages (from widgetsnbextension~=3.5.0->ipywidgets) (6.1.4)\n",
      "Requirement already satisfied: python-dateutil>=2.1 in /usr/local/lib/python3.8/site-packages (from jupyter-client->ipykernel>=4.5.1->ipywidgets) (2.8.1)\n",
      "Requirement already satisfied: pyzmq>=13 in /usr/local/lib/python3.8/site-packages (from jupyter-client->ipykernel>=4.5.1->ipywidgets) (19.0.2)\n",
      "Requirement already satisfied: wcwidth in /usr/local/lib/python3.8/site-packages (from prompt-toolkit!=3.0.0,!=3.0.1,<3.1.0,>=2.0.0->ipython>=4.0.0; python_version >= \"3.3\"->ipywidgets) (0.2.5)\n",
      "Requirement already satisfied: parso<0.8.0,>=0.7.0 in /usr/local/lib/python3.8/site-packages (from jedi>=0.10->ipython>=4.0.0; python_version >= \"3.3\"->ipywidgets) (0.7.1)\n",
      "Requirement already satisfied: ptyprocess>=0.5 in /usr/local/lib/python3.8/site-packages (from pexpect>4.3; sys_platform != \"win32\"->ipython>=4.0.0; python_version >= \"3.3\"->ipywidgets) (0.6.0)\n",
      "Requirement already satisfied: pyrsistent>=0.14.0 in /usr/local/lib/python3.8/site-packages (from jsonschema!=2.5.0,>=2.4->nbformat>=4.2.0->ipywidgets) (0.17.3)\n",
      "Requirement already satisfied: attrs>=17.4.0 in /usr/local/lib/python3.8/site-packages (from jsonschema!=2.5.0,>=2.4->nbformat>=4.2.0->ipywidgets) (20.2.0)\n",
      "Requirement already satisfied: six>=1.11.0 in /usr/local/lib/python3.8/site-packages (from jsonschema!=2.5.0,>=2.4->nbformat>=4.2.0->ipywidgets) (1.15.0)\n",
      "Requirement already satisfied: prometheus-client in /usr/local/lib/python3.8/site-packages (from notebook>=4.4.1->widgetsnbextension~=3.5.0->ipywidgets) (0.8.0)\n",
      "Requirement already satisfied: argon2-cffi in /usr/local/lib/python3.8/site-packages (from notebook>=4.4.1->widgetsnbextension~=3.5.0->ipywidgets) (20.1.0)\n",
      "Requirement already satisfied: terminado>=0.8.3 in /usr/local/lib/python3.8/site-packages (from notebook>=4.4.1->widgetsnbextension~=3.5.0->ipywidgets) (0.9.1)\n",
      "Requirement already satisfied: nbconvert in /usr/local/lib/python3.8/site-packages (from notebook>=4.4.1->widgetsnbextension~=3.5.0->ipywidgets) (6.0.7)\n",
      "Requirement already satisfied: Send2Trash in /usr/local/lib/python3.8/site-packages (from notebook>=4.4.1->widgetsnbextension~=3.5.0->ipywidgets) (1.5.0)\n",
      "Requirement already satisfied: jinja2 in /usr/local/lib/python3.8/site-packages (from notebook>=4.4.1->widgetsnbextension~=3.5.0->ipywidgets) (2.11.2)\n",
      "Requirement already satisfied: cffi>=1.0.0 in /usr/local/lib/python3.8/site-packages (from argon2-cffi->notebook>=4.4.1->widgetsnbextension~=3.5.0->ipywidgets) (1.14.3)\n",
      "Requirement already satisfied: bleach in /usr/local/lib/python3.8/site-packages (from nbconvert->notebook>=4.4.1->widgetsnbextension~=3.5.0->ipywidgets) (3.2.1)\n",
      "Requirement already satisfied: nbclient<0.6.0,>=0.5.0 in /usr/local/lib/python3.8/site-packages (from nbconvert->notebook>=4.4.1->widgetsnbextension~=3.5.0->ipywidgets) (0.5.1)\n",
      "Requirement already satisfied: mistune<2,>=0.8.1 in /usr/local/lib/python3.8/site-packages (from nbconvert->notebook>=4.4.1->widgetsnbextension~=3.5.0->ipywidgets) (0.8.4)\n",
      "Requirement already satisfied: entrypoints>=0.2.2 in /usr/local/lib/python3.8/site-packages (from nbconvert->notebook>=4.4.1->widgetsnbextension~=3.5.0->ipywidgets) (0.3)\n",
      "Requirement already satisfied: pandocfilters>=1.4.1 in /usr/local/lib/python3.8/site-packages (from nbconvert->notebook>=4.4.1->widgetsnbextension~=3.5.0->ipywidgets) (1.4.2)\n",
      "Requirement already satisfied: jupyterlab-pygments in /usr/local/lib/python3.8/site-packages (from nbconvert->notebook>=4.4.1->widgetsnbextension~=3.5.0->ipywidgets) (0.1.2)\n",
      "Requirement already satisfied: defusedxml in /usr/local/lib/python3.8/site-packages (from nbconvert->notebook>=4.4.1->widgetsnbextension~=3.5.0->ipywidgets) (0.6.0)\n",
      "Requirement already satisfied: testpath in /usr/local/lib/python3.8/site-packages (from nbconvert->notebook>=4.4.1->widgetsnbextension~=3.5.0->ipywidgets) (0.4.4)\n",
      "Requirement already satisfied: MarkupSafe>=0.23 in /usr/local/lib/python3.8/site-packages (from jinja2->notebook>=4.4.1->widgetsnbextension~=3.5.0->ipywidgets) (1.1.1)\n",
      "Requirement already satisfied: pycparser in /usr/local/lib/python3.8/site-packages (from cffi>=1.0.0->argon2-cffi->notebook>=4.4.1->widgetsnbextension~=3.5.0->ipywidgets) (2.20)\n",
      "Requirement already satisfied: packaging in /usr/local/lib/python3.8/site-packages (from bleach->nbconvert->notebook>=4.4.1->widgetsnbextension~=3.5.0->ipywidgets) (20.4)\n",
      "Requirement already satisfied: webencodings in /usr/local/lib/python3.8/site-packages (from bleach->nbconvert->notebook>=4.4.1->widgetsnbextension~=3.5.0->ipywidgets) (0.5.1)\n",
      "Requirement already satisfied: nest-asyncio in /usr/local/lib/python3.8/site-packages (from nbclient<0.6.0,>=0.5.0->nbconvert->notebook>=4.4.1->widgetsnbextension~=3.5.0->ipywidgets) (1.4.1)\n",
      "Requirement already satisfied: async-generator in /usr/local/lib/python3.8/site-packages (from nbclient<0.6.0,>=0.5.0->nbconvert->notebook>=4.4.1->widgetsnbextension~=3.5.0->ipywidgets) (1.10)\n",
      "Requirement already satisfied: pyparsing>=2.0.2 in /usr/local/lib/python3.8/site-packages (from packaging->bleach->nbconvert->notebook>=4.4.1->widgetsnbextension~=3.5.0->ipywidgets) (2.4.7)\n",
      "Note: you may need to restart the kernel to use updated packages.\n"
     ]
    }
   ],
   "source": [
    "%pip install ipywidgets"
   ]
  },
  {
   "cell_type": "code",
   "execution_count": null,
   "metadata": {},
   "outputs": [],
   "source": []
  },
  {
   "cell_type": "code",
   "execution_count": null,
   "metadata": {},
   "outputs": [],
   "source": []
  },
  {
   "cell_type": "code",
   "execution_count": 43,
   "metadata": {},
   "outputs": [],
   "source": [
    "from ipywidgets import interact, interactive, fixed, interact_manual\n",
    "import ipywidgets as widgets\n"
   ]
  },
  {
   "cell_type": "code",
   "execution_count": 44,
   "metadata": {},
   "outputs": [
    {
     "name": "stdout",
     "output_type": "stream",
     "text": [
      "Enabling notebook extension jupyter-js-widgets/extension...\r\n",
      "      - Validating: \u001b[32mOK\u001b[0m\r\n"
     ]
    }
   ],
   "source": [
    "!jupyter nbextension enable --py widgetsnbextension\n"
   ]
  },
  {
   "cell_type": "code",
   "execution_count": 45,
   "metadata": {},
   "outputs": [
    {
     "data": {
      "application/vnd.jupyter.widget-view+json": {
       "model_id": "633264ed948845cea2c7ddcaeb526c4b",
       "version_major": 2,
       "version_minor": 0
      },
      "text/plain": [
       "interactive(children=(IntSlider(value=5, description='x', max=10), Output()), _dom_classes=('widget-interact',…"
      ]
     },
     "metadata": {},
     "output_type": "display_data"
    }
   ],
   "source": [
    "from ipywidgets import interact  # IPython.html.widgets before IPython 4.0\n",
    "@interact(x=(0, 10))\n",
    "def square(x):\n",
    "    return(\"The square of %d is %d.\" % (x, x**2))"
   ]
  },
  {
   "cell_type": "markdown",
   "metadata": {},
   "source": [
    "> 주피터 노트북으로 피아노 만들어보기\n",
    "> - 아래의 dir은 바꿔야 함 -> 어떻게 바꿔야 할까?"
   ]
  },
  {
   "cell_type": "code",
   "execution_count": null,
   "metadata": {},
   "outputs": [],
   "source": []
  },
  {
   "cell_type": "code",
   "execution_count": 48,
   "metadata": {},
   "outputs": [
    {
     "name": "stdout",
     "output_type": "stream",
     "text": [
      "Archive:  SynthesizedPianoNotes.zip\r\n",
      " extracting: Piano14.mp3             \r\n",
      " extracting: Piano18.mp3             \r\n",
      " extracting: Piano112.mp3            \r\n",
      " extracting: Piano118.mp3            \r\n",
      " extracting: Piano113.mp3            \r\n",
      " extracting: Piano114.mp3            \r\n",
      " extracting: Piano123.mp3            \r\n",
      " extracting: Piano119.mp3            \r\n",
      " extracting: Piano11.mp3             \r\n",
      " extracting: Piano122.mp3            \r\n",
      " extracting: Piano16.mp3             \r\n",
      " extracting: Piano111.mp3            \r\n",
      " extracting: Piano117.mp3            \r\n",
      " extracting: Piano121.mp3            \r\n",
      " extracting: Piano120.mp3            \r\n",
      " extracting: Piano19.mp3             \r\n",
      " extracting: Piano116.mp3            \r\n",
      " extracting: Piano13.mp3             \r\n",
      " extracting: Piano124.mp3            \r\n",
      " extracting: Piano15.mp3             \r\n",
      " extracting: Piano12.mp3             \r\n",
      " extracting: Piano17.mp3             \r\n",
      " extracting: Piano115.mp3            \r\n",
      " extracting: Piano125.mp3            \r\n",
      " extracting: Piano110.mp3            \r\n"
     ]
    }
   ],
   "source": [
    "!unzip SynthesizedPianoNotes.zip"
   ]
  },
  {
   "cell_type": "code",
   "execution_count": 58,
   "metadata": {},
   "outputs": [
    {
     "data": {
      "application/vnd.jupyter.widget-view+json": {
       "model_id": "53c9b402c041424b905196f904689d35",
       "version_major": 2,
       "version_minor": 0
      },
      "text/plain": [
       "Box(children=(IntSlider(value=0, max=1), Box(children=(Button(description='C', style=ButtonStyle()), Button(de…"
      ]
     },
     "metadata": {},
     "output_type": "display_data"
    }
   ],
   "source": [
    "import numpy as np\n",
    "import os\n",
    "from IPython.display import Audio, display, clear_output\n",
    "from IPython.html import widgets\n",
    "from functools import partial\n",
    "\n",
    "dir = ''   # 수정할 부분\n",
    "\n",
    "# This is the list of notes.\n",
    "notes = 'C,C#,D,D#,E,F,F#,G,G#,A,A#,B,C'.split(',')\n",
    "\n",
    "def play(note, octave=0):\n",
    "    \"\"\"This function displays an HTML Audio element\n",
    "    that plays automatically when it appears.\"\"\"\n",
    "    f = os.path.join(dir, \n",
    "         \"piano{i}.mp3\".format(i=note+12*octave))\n",
    "    clear_output()\n",
    "    display(Audio(filename=f, autoplay=True))\n",
    "    \n",
    "piano = widgets.Box()\n",
    "\n",
    "octave_slider = widgets.IntSlider()\n",
    "octave_slider.max = 1\n",
    "octave_slider\n",
    "\n",
    "buttons = []\n",
    "for i, note in enumerate(notes):\n",
    "    button = widgets.Button(description=note)\n",
    "    \n",
    "    def on_button_clicked(i, _):\n",
    "        play(i+1, octave_slider.value)\n",
    "        \n",
    "    button.on_click(partial(on_button_clicked, i))\n",
    "    \n",
    "    button.set_state({'width': '30px', \n",
    "                    'height': '60px',\n",
    "                    'padding': '0',\n",
    "                    'color': ('black', \n",
    "                              'white')['#' in note],\n",
    "                    'background': ('white', 'black')['#' in note],\n",
    "                    'border': '1px solid black',\n",
    "                    'float': 'left'})\n",
    "    \n",
    "    buttons.append(button)\n",
    "    \n",
    "piano.children = buttons\n",
    "\n",
    "container = widgets.Box()\n",
    "container.children = [octave_slider,\n",
    "                      piano]\n",
    "display(container)"
   ]
  },
  {
   "cell_type": "code",
   "execution_count": null,
   "metadata": {},
   "outputs": [],
   "source": []
  },
  {
   "cell_type": "code",
   "execution_count": null,
   "metadata": {},
   "outputs": [],
   "source": []
  },
  {
   "cell_type": "code",
   "execution_count": null,
   "metadata": {},
   "outputs": [],
   "source": []
  },
  {
   "cell_type": "markdown",
   "metadata": {},
   "source": [
    "### Running Python scripts from IPython\n",
    "- 파이썬 스크립트를 아이파이썬에서 running 가능하다"
   ]
  },
  {
   "cell_type": "code",
   "execution_count": 59,
   "metadata": {},
   "outputs": [
    {
     "name": "stdout",
     "output_type": "stream",
     "text": [
      "(bookmark:fbdata) -> /Users/leewoongsup/Dropbox/Class/2022_class/Spring/데이터과학/CODE/facebook\n",
      "/Users/leewoongsup/Dropbox/Class/2022_class/Spring/데이터과학/CODE/facebook\n",
      "/Users/leewoongsup/Dropbox/Class/2022_class/Spring/데이터과학/CODE\n"
     ]
    }
   ],
   "source": [
    "%cd fbdata\n",
    "%cd .."
   ]
  },
  {
   "cell_type": "markdown",
   "metadata": {},
   "source": [
    "> 아래와 같이 egos.py라는 파이썬 파일을 생성한다"
   ]
  },
  {
   "cell_type": "code",
   "execution_count": 62,
   "metadata": {},
   "outputs": [
    {
     "name": "stdout",
     "output_type": "stream",
     "text": [
      "Overwriting egos.py\n"
     ]
    }
   ],
   "source": [
    "%%writefile egos.py\n",
    "import sys\n",
    "import os\n",
    "# We retrieve the folder as the first positional argument\n",
    "# to the command-line call\n",
    "if len(sys.argv) > 1:\n",
    "    folder1 = sys.argv[1]\n",
    "# We list all files in the specified folder\n",
    "files = os.listdir(folder1)\n",
    "print(files)\n",
    "# ids contains the list of idenfitiers\n",
    "identifiers = [int(file.split('.')[0]) for file in files]\n",
    "# Finally, we remove duplicates with set(), and sort the list\n",
    "# with sorted().\n",
    "ids = sorted(set(identifiers))"
   ]
  },
  {
   "cell_type": "markdown",
   "metadata": {},
   "source": [
    "> 매직명령인 run을 이용하여 egos.py를 실행가능하다"
   ]
  },
  {
   "cell_type": "code",
   "execution_count": 63,
   "metadata": {},
   "outputs": [
    {
     "name": "stdout",
     "output_type": "stream",
     "text": [
      "['686.edges', '348.edges', '414.circles', '3437.edges', '3437.circles', '1912.edges', '1912.circles', '348.circles', '1684.edges', '0.edges', '686.circles', '698.edges', '3980.edges', '414.edges', '107.circles', '1684.circles', '107.edges', '3980.circles', '0.circles', '698.circles']\n"
     ]
    }
   ],
   "source": [
    "%run egos.py facebook"
   ]
  },
  {
   "cell_type": "code",
   "execution_count": 64,
   "metadata": {},
   "outputs": [
    {
     "data": {
      "text/plain": [
       "[0, 107, 348, 414, 686, 698, 1684, 1912, 3437, 3980]"
      ]
     },
     "execution_count": 64,
     "metadata": {},
     "output_type": "execute_result"
    }
   ],
   "source": [
    "ids"
   ]
  },
  {
   "cell_type": "markdown",
   "metadata": {},
   "source": [
    "### Introspecting Python objects\n",
    "- 파이썬 객체에 대한 세부적인 정보 출력이 가능함\n",
    "- 아래의 예제를 통해서 NetworkX의 Graph 클래스를 살펴보자"
   ]
  },
  {
   "cell_type": "code",
   "execution_count": 67,
   "metadata": {},
   "outputs": [
    {
     "name": "stdout",
     "output_type": "stream",
     "text": [
      "Collecting networkx\n",
      "  Downloading networkx-2.7.1-py3-none-any.whl (2.0 MB)\n",
      "\u001b[K     |████████████████████████████████| 2.0 MB 4.4 MB/s eta 0:00:01\n",
      "\u001b[?25hInstalling collected packages: networkx\n",
      "Successfully installed networkx-2.7.1\n",
      "Note: you may need to restart the kernel to use updated packages.\n"
     ]
    }
   ],
   "source": [
    "%pip install networkx"
   ]
  },
  {
   "cell_type": "code",
   "execution_count": 68,
   "metadata": {},
   "outputs": [],
   "source": [
    "import networkx"
   ]
  },
  {
   "cell_type": "code",
   "execution_count": 69,
   "metadata": {},
   "outputs": [],
   "source": [
    "networkx.Graph?"
   ]
  },
  {
   "cell_type": "markdown",
   "metadata": {},
   "source": [
    "> ??를 2개 사용하면 더 자세한 정보를 확인할 수 있음"
   ]
  },
  {
   "cell_type": "code",
   "execution_count": 70,
   "metadata": {},
   "outputs": [],
   "source": [
    "networkx.Graph??"
   ]
  },
  {
   "cell_type": "markdown",
   "metadata": {},
   "source": [
    "> 아래의 명령은 무엇을 하는 명령인가?"
   ]
  },
  {
   "cell_type": "code",
   "execution_count": 71,
   "metadata": {},
   "outputs": [
    {
     "name": "stdout",
     "output_type": "stream",
     "text": [
      "\u001b[0;31mClass constructor information:\n",
      "\u001b[0m \u001b[0mnetworkx\u001b[0m\u001b[0;34m.\u001b[0m\u001b[0mGraph\u001b[0m\u001b[0;34m(\u001b[0m\u001b[0mincoming_graph_data\u001b[0m\u001b[0;34m=\u001b[0m\u001b[0;32mNone\u001b[0m\u001b[0;34m,\u001b[0m \u001b[0;34m**\u001b[0m\u001b[0mattr\u001b[0m\u001b[0;34m)\u001b[0m\u001b[0;34m\u001b[0m\u001b[0;34m\u001b[0m\u001b[0m\n",
      " "
     ]
    }
   ],
   "source": [
    "%pdef networkx.Graph"
   ]
  },
  {
   "cell_type": "code",
   "execution_count": 72,
   "metadata": {},
   "outputs": [],
   "source": [
    "%psource networkx.Graph"
   ]
  },
  {
   "cell_type": "code",
   "execution_count": null,
   "metadata": {
    "collapsed": true
   },
   "outputs": [],
   "source": []
  },
  {
   "cell_type": "code",
   "execution_count": null,
   "metadata": {
    "collapsed": true
   },
   "outputs": [],
   "source": []
  },
  {
   "cell_type": "code",
   "execution_count": null,
   "metadata": {
    "collapsed": true
   },
   "outputs": [],
   "source": []
  },
  {
   "cell_type": "code",
   "execution_count": null,
   "metadata": {
    "collapsed": true
   },
   "outputs": [],
   "source": []
  },
  {
   "cell_type": "code",
   "execution_count": null,
   "metadata": {
    "collapsed": true
   },
   "outputs": [],
   "source": []
  },
  {
   "cell_type": "code",
   "execution_count": null,
   "metadata": {
    "collapsed": true
   },
   "outputs": [],
   "source": []
  },
  {
   "cell_type": "code",
   "execution_count": null,
   "metadata": {
    "collapsed": true
   },
   "outputs": [],
   "source": []
  }
 ],
 "metadata": {
  "kernelspec": {
   "display_name": "Python 3",
   "language": "python",
   "name": "python3"
  },
  "language_info": {
   "codemirror_mode": {
    "name": "ipython",
    "version": 3
   },
   "file_extension": ".py",
   "mimetype": "text/x-python",
   "name": "python",
   "nbconvert_exporter": "python",
   "pygments_lexer": "ipython3",
   "version": "3.8.6"
  }
 },
 "nbformat": 4,
 "nbformat_minor": 1
}
