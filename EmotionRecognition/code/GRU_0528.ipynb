{
 "cells": [
  {
   "cell_type": "code",
   "execution_count": 1,
   "id": "e45ba93b-cd39-438c-a43b-1cdbbc065c3d",
   "metadata": {},
   "outputs": [],
   "source": [
    "import neurokit2 as nk\n",
    "import numpy as np\n",
    "import pandas as pd\n",
    "import matplotlib.pyplot as plt\n",
    "from matplotlib.patches import Ellipse\n",
    "from sklearn.preprocessing import MinMaxScaler\n",
    "import seaborn as sns\n",
    "from scipy.signal import find_peaks\n",
    "from scipy import signal\n",
    "from scipy.integrate import trapz\n",
    "from scipy.interpolate import interp1d\n",
    "import seaborn as sns\n",
    "import heartpy as hp\n",
    "import os\n",
    "import pickle\n",
    "import warnings\n",
    "warnings.simplefilter('ignore', np.RankWarning)"
   ]
  },
  {
   "cell_type": "code",
   "execution_count": 2,
   "id": "ab15d00f-b50c-4bd3-ac8b-3b43f0ec97eb",
   "metadata": {},
   "outputs": [],
   "source": [
    "def plt_performance(history, path='./', filename=''):\n",
    "    epoch = list(range(0,len(history.history['loss'])))\n",
    "    \n",
    "    fig, (his_accuracy, his_loss) = plt.subplots(nrows=2,ncols=1,figsize=(10,8),sharex=True)\n",
    "    his_loss.plot(epoch, history.history['loss'], label='Training loss')\n",
    "    his_loss.plot(epoch, history.history['val_loss'], label='Validation loss')\n",
    "    his_loss.set_xlabel(\"Epochs\", fontsize=14)\n",
    "    his_loss.set_ylabel(\"Loss\", fontsize=14)\n",
    "    his_loss.set_title(\"Loss\", fontsize=14)\n",
    "    his_loss.legend(loc='best')\n",
    "    \n",
    "    his_accuracy.plot(epoch, history.history['acc'], label='Training accuracy')\n",
    "    his_accuracy.plot(epoch, history.history['val_acc'], label='Validation accuracy')\n",
    "    his_accuracy.set_xlabel(\"Epochs\", fontsize=14)\n",
    "    his_accuracy.set_ylabel(\"Accuracy\", fontsize=14)\n",
    "    his_accuracy.set_title(\"Accuracy\", fontsize=14)\n",
    "    his_accuracy.legend(loc='best')\n",
    "    \n",
    "    fig.tight_layout()\n",
    "    if filename == '':\n",
    "        plt.savefig(f'{path}/performance.png', bbox_inches='tight')\n",
    "    else:\n",
    "        plt.savefig(f'{path}/{filename}.png', bbox_inches='tight')\n",
    "        \n",
    "\"\"\"\n",
    "Pre-processing method\n",
    "\"\"\"\n",
    "\n",
    "def preprocessing(PPG_data):\n",
    "    \"\"\"\n",
    "    Fast Emotion Recognition reference\n",
    "    \"\"\"\n",
    "\n",
    "    index = 0\n",
    "    x = list(range(0,len(PPG_data[0])))\n",
    "    \n",
    "    for PPG in PPG_data:\n",
    "        poly = np.polyfit(x, PPG, deg=50)\n",
    "        polied = np.polyval(poly, x)\n",
    "        detrended = PPG - polied\n",
    "        PPG_data[index] = detrended\n",
    "        index += 1\n",
    "        \n",
    "    return PPG_data\n",
    "\n",
    "\n",
    "# def preprocessing(ppg_data, view = False, participant = ''):\n",
    "#     \"\"\"\n",
    "#     Analysis PPG signal reference\n",
    "#     \"\"\"\n",
    "    \n",
    "#     # moving average function\n",
    "#     m_avg = lambda t, x, w : (np.asarray([t[i] for i in range(w, len(x) - w)]),\n",
    "#                           np.convolve(x, np.ones((2*w + 1, )) / (2*w + 1),\n",
    "#                                       mode = 'valid'))\n",
    "\n",
    "#     fs = len(ppg_data)/(60)  # sample rate\n",
    "\n",
    "#     # moving average\n",
    "#     w_size = int(fs*.5)  # width of moving window\n",
    "#     times = list(range(0,len(ppg_data)))\n",
    "#     mt, ms = m_avg(times, ppg_data, w_size)\n",
    "\n",
    "#     sign = (ppg_data[w_size:-w_size]-ms)\n",
    "\n",
    "#     analytical_signal = np.abs(signal.hilbert(sign))\n",
    "\n",
    "#     fs = len(sign) / (max(mt) - min(mt))\n",
    "#     w_size = int(fs)\n",
    "#     mt_new, mov_avg = m_avg(mt, analytical_signal, w_size)\n",
    "\n",
    "#     signal_pure = sign[w_size : -w_size] / mov_avg\n",
    "    \n",
    "#     if view:\n",
    "#         plt.ioff()\n",
    "        \n",
    "#         fig, (ax1, ax2, ax3) = plt.subplots(nrows = 3, ncols = 1, figsize = (10, 8), sharex=True)\n",
    "#         ax1.plot(times, ppg_data, \"b-\", label=\"Original\")\n",
    "#         ax1.legend(loc='best')\n",
    "#         ax1.set_title(\"participants\"+str(participant)+\" Raw\", fontsize=14)#, fontweight=\"bold\")\n",
    "\n",
    "#         ax2.plot(mt, sign, 'r-', label=\"Pure signal\")\n",
    "#         ax2.plot(mt_new, mov_avg, 'b-', label='Modulation', alpha=.5)\n",
    "#         ax2.legend(loc='best')\n",
    "#         ax2.set_title(\"Raw -> filtered\", fontsize=14)#, fontweight=\"bold\")\n",
    "\n",
    "#         ax3.plot(mt_new, signal_pure, \"g-\", label=\"Demodulated\")\n",
    "#         ax3.set_xlim(0, mt[-1])\n",
    "#         ax3.set_title(\"Raw -> filtered -> demodulated\", fontsize=14)#, fontweight=\"bold\")\n",
    "\n",
    "#         ax3.set_xlabel(\"Time (sec)\", fontsize=14) # common axis label\n",
    "#         ax3.legend(loc='best')\n",
    "\n",
    "#         fig.tight_layout()\n",
    "#         plt.savefig(f'./plot_img/{participant}.png', bbox_inches='tight')\n",
    "        \n",
    "#     return signal_pure\n",
    "\n",
    "    \n",
    "def get_peaks(ppg_processed):\n",
    "    diff_sig_2 = np.diff(ppg_processed) ## do\n",
    "    peaks_2, _ = find_peaks(diff_sig_2, distance=100*(30/60), prominence=0.01)\n",
    "    result = []\n",
    "    peaks = []\n",
    "    \n",
    "    for i in range(len(peaks_2)):\n",
    "        if diff_sig_2[peaks_2][i] > 40:\n",
    "            result.append(peaks_2[i])\n",
    "            peaks.append(diff_sig_2[peaks_2][i])\n",
    "            \n",
    "    return result, peaks, diff_sig_2"
   ]
  },
  {
   "cell_type": "code",
   "execution_count": 3,
   "id": "e3cd5d2f-2aa5-47fc-93fb-1ec3f79d5e2e",
   "metadata": {},
   "outputs": [
    {
     "name": "stdout",
     "output_type": "stream",
     "text": [
      "['s01.dat', 's02.dat', 's04.dat', 's05.dat', 's07.dat', 's08.dat', 's09.dat', 's10.dat', 's11.dat', 's12.dat', 's13.dat', 's14.dat', 's15.dat', 's16.dat', 's17.dat', 's18.dat', 's19.dat', 's20.dat', 's21.dat', 's22.dat']\n"
     ]
    },
    {
     "data": {
      "text/plain": [
       "(800, 7680)"
      ]
     },
     "execution_count": 3,
     "metadata": {},
     "output_type": "execute_result"
    }
   ],
   "source": [
    "dir_list_ = os.listdir(\"./data\")\n",
    "dir_list_.sort()\n",
    "count = 0\n",
    "dir_list = []\n",
    "for i in range(22):\n",
    "    dir_list.append(dir_list_[i])\n",
    "    \n",
    "#### pop unavailable data\n",
    "dir_list.pop(5)\n",
    "dir_list.pop(2)\n",
    "\n",
    "print(dir_list)\n",
    "df_PPG = pd.DataFrame(columns=['participant','video_number','ppg','valence','arousal'])\n",
    "Valence_data = []\n",
    "Arousal_data = []\n",
    "PPG_data = []\n",
    "\n",
    "file_num = 0\n",
    "for file in dir_list:\n",
    "    dat_file = f'./data/{file}'\n",
    "    with open(dat_file, 'rb') as f:\n",
    "        Channel_data = pickle.load(f,encoding='latin1')\n",
    "    data = Channel_data[\"data\"]\n",
    "    labels = Channel_data[\"labels\"]\n",
    "    for video_num in range(40):\n",
    "        dataP = data[video_num,38]\n",
    "        dataP = dataP[384:]\n",
    "        \n",
    "        label = labels[video_num]\n",
    "        if label[0] < 5:\n",
    "            Valence = 0\n",
    "        if label[0] >= 5:\n",
    "            Valence = 1\n",
    "        if label[1] < 5:\n",
    "            Arousal = 0\n",
    "        if label[1] >= 5:\n",
    "            Arousal = 1\n",
    "        instance = [(file_num, video_num, dataP, Valence, Arousal)]\n",
    "        new_instance = pd.DataFrame(instance, columns=['participant','video_number','ppg','valence','arousal'])\n",
    "        df_PPG = pd.concat([df_PPG, new_instance], ignore_index = True)\n",
    "        PPG_data.append(dataP)\n",
    "        Valence_data.append(Valence)\n",
    "        Arousal_data.append(Arousal)\n",
    "    file_num += 1\n",
    "    \n",
    "PPG_shape = np.array(PPG_data)\n",
    "PPG_shape.shape"
   ]
  },
  {
   "cell_type": "code",
   "execution_count": 4,
   "id": "2b64f592-a8e8-4719-807a-cc8d74ac9257",
   "metadata": {},
   "outputs": [
    {
     "name": "stderr",
     "output_type": "stream",
     "text": [
      "/home/sselab/anaconda3/envs/EmotionRecognition/lib/python3.8/site-packages/numpy/lib/polynomial.py:627: RuntimeWarning: overflow encountered in multiply\n",
      "  scale = NX.sqrt((lhs*lhs).sum(axis=0))\n",
      "/home/sselab/anaconda3/envs/EmotionRecognition/lib/python3.8/site-packages/numpy/core/_methods.py:47: RuntimeWarning: overflow encountered in reduce\n",
      "  return umr_sum(a, axis, dtype, out, keepdims, initial, where)\n"
     ]
    }
   ],
   "source": [
    "PPG_data = df_PPG['ppg']\n",
    "\n",
    "preprocessed = preprocessing(PPG_data)"
   ]
  },
  {
   "cell_type": "raw",
   "id": "35e4f0f6-9f33-4644-b714-e0ea8fb188af",
   "metadata": {},
   "source": [
    "preprocessed = []\n",
    "\n",
    "for PPG in PPG_data:\n",
    "    preprocessed_d = preprocessing(PPG,view=False)\n",
    "    preprocessed.append(preprocessed_d)"
   ]
  },
  {
   "cell_type": "code",
   "execution_count": 5,
   "id": "5fe11f89-2d29-4322-a2f9-fd2048e6e6d4",
   "metadata": {},
   "outputs": [
    {
     "data": {
      "text/plain": [
       "(800, 7680, 1)"
      ]
     },
     "execution_count": 5,
     "metadata": {},
     "output_type": "execute_result"
    }
   ],
   "source": [
    "# Concatenate PPG data of each person to use min-max normalization method \n",
    "i = 1\n",
    "new_PPG = []\n",
    "tmp_PPG = np.empty(0)\n",
    "for PPG in preprocessed:\n",
    "    if i % 40 != 0:\n",
    "        tmp_PPG = np.concatenate([tmp_PPG, PPG])\n",
    "    else:\n",
    "        tmp_PPG = np.concatenate([tmp_PPG, PPG])\n",
    "        new_PPG.append(tmp_PPG)\n",
    "        tmp_PPG = np.empty(0)\n",
    "    i += 1\n",
    "    \n",
    "    \n",
    "# Normalize personal PPG data and Split into per video\n",
    "new_PPG = np.array(new_PPG)\n",
    "new_PPG.shape[0]\n",
    "new_PPG = new_PPG.reshape(new_PPG.shape[0],new_PPG.shape[1],1)\n",
    "\n",
    "normalized = []\n",
    "\n",
    "for PPG in new_PPG:\n",
    "    # Normalized personal PPG\n",
    "    scaler = MinMaxScaler()\n",
    "    # norm = scaler.fit_transform(PPG) * 1000\n",
    "    norm = scaler.fit_transform(PPG)\n",
    "    \n",
    "    # Split into per video\n",
    "    for i in range(40):\n",
    "        norm_video = norm[i*7680 : i*7680+7680]\n",
    "        normalized.append(norm_video)\n",
    "\n",
    "normalized = np.array(normalized)\n",
    "normalized.shape"
   ]
  },
  {
   "cell_type": "code",
   "execution_count": 6,
   "id": "4c9f1d61-68cd-4536-8f3c-7127fc60c737",
   "metadata": {},
   "outputs": [
    {
     "name": "stdout",
     "output_type": "stream",
     "text": [
      "40000\n"
     ]
    }
   ],
   "source": [
    "timestep = 1280\n",
    "segmented = []\n",
    "valence_data = []\n",
    "arousal_data = []\n",
    "\n",
    "################################################\n",
    "# for index in range(len(preprocessed) - timestep): \n",
    "#     segmented.append(preprocessed[index: index + timestep])\n",
    "idx = 0\n",
    "for PPG in normalized:\n",
    "    for index in range(0, len(PPG) - timestep, 128):\n",
    "        segmented.append(PPG[index : index + timestep,:])\n",
    "    valence_data.append(Valence_data[idx])\n",
    "    idx += 1\n",
    "print(len(segmented))"
   ]
  },
  {
   "cell_type": "code",
   "execution_count": 7,
   "id": "0eb819b7-c2fa-4836-a4c5-fb32a5d795a8",
   "metadata": {},
   "outputs": [],
   "source": [
    "import tensorflow as tf\n",
    "tf.config.experimental_run_functions_eagerly(True)\n",
    "from tensorflow import keras\n",
    "from tensorflow.keras import layers, callbacks\n",
    "# from tensorflow.keras import Sequential\n",
    "from tensorflow.keras.optimizers import RMSprop, Adam\n",
    "from tensorflow.keras.layers import Dense, Flatten, Dropout,BatchNormalization\n",
    "from tensorflow.keras.models import Sequential\n",
    "from sklearn.preprocessing import MinMaxScaler\n",
    "from sklearn.preprocessing import StandardScaler\n",
    "from sklearn.model_selection import train_test_split\n",
    "from tensorflow.keras.layers import LSTM, GRU"
   ]
  },
  {
   "cell_type": "code",
   "execution_count": 8,
   "id": "e89dd61e-5555-4ef9-97ae-2fd6361f2291",
   "metadata": {},
   "outputs": [
    {
     "name": "stdout",
     "output_type": "stream",
     "text": [
      "1 Physical GPUs, 1 Logical GPUs\n"
     ]
    }
   ],
   "source": [
    "gpus = tf.config.experimental.list_physical_devices('GPU')\n",
    "if gpus:\n",
    "  # Restrict TensorFlow to only allocate 2 GB of memory on the first GPU\n",
    "  try:\n",
    "    tf.config.experimental.set_virtual_device_configuration(\n",
    "        gpus[0],\n",
    "        [tf.config.experimental.VirtualDeviceConfiguration(memory_limit=10000)]) # limit in megabytes\n",
    "    logical_gpus = tf.config.experimental.list_logical_devices('GPU')\n",
    "    print(len(gpus), \"Physical GPUs,\", len(logical_gpus), \"Logical GPUs\")\n",
    "  except RuntimeError as e:\n",
    "    # Virtual devices must be set before GPUs have been initialized\n",
    "    print(e)"
   ]
  },
  {
   "cell_type": "code",
   "execution_count": 9,
   "id": "5c9a190c-498c-4bcc-8970-96c7b6f109fa",
   "metadata": {},
   "outputs": [],
   "source": [
    "train_x = segmented\n",
    "train_valence = valence_data\n",
    "train_arousal = arousal_data"
   ]
  },
  {
   "cell_type": "code",
   "execution_count": 10,
   "id": "44429b90-649a-4013-886b-c61438545740",
   "metadata": {},
   "outputs": [
    {
     "name": "stdout",
     "output_type": "stream",
     "text": [
      "X_train shape : (40000, 1280, 1), Y_train shape : (800, 1)\n"
     ]
    }
   ],
   "source": [
    "x_train_data = np.array(train_x).astype(np.float32)\n",
    "y_train_data = np.array(train_valence).astype(np.float32)\n",
    "\n",
    "X_train = x_train_data.reshape((x_train_data.shape[0], x_train_data.shape[1],1))\n",
    "Y_train = y_train_data.reshape((y_train_data.shape[0],1))\n",
    "\n",
    "print(f\"X_train shape : {X_train.shape}, Y_train shape : {Y_train.shape}\")"
   ]
  },
  {
   "cell_type": "code",
   "execution_count": 11,
   "id": "374ebd26-5add-4d93-9665-679202e3ef0e",
   "metadata": {},
   "outputs": [],
   "source": [
    "# Set Hyperparameters of the model\n",
    "learning_rate = 0.00001\n",
    "epochs = 10\n",
    "batch_size=256"
   ]
  },
  {
   "cell_type": "raw",
   "id": "25c18d17-28bd-4f24-89c6-6e8cc3ef007b",
   "metadata": {},
   "source": [
    "from tensorflow.keras.layers import LSTM, GRU\n",
    "\n",
    "\n",
    "# one GRU layers with three dense layers-> IT WORKS !\n",
    "model = Sequential()\n",
    "model.add(GRU(units=128,\n",
    "              dropout=0.25,\n",
    "              recurrent_dropout=0.25,\n",
    "              return_sequences=False,\n",
    "              input_shape=(40,X_train.shape[2])))\n",
    "model.add(BatchNormalization())\n",
    "\n",
    "# Dense net\n",
    "model.add(Dense(512, activation='relu'))\n",
    "model.add(Dropout(0.3))\n",
    "model.add(Dense(256, activation='relu'))\n",
    "model.add(Dropout(0.3))\n",
    "model.add(Dense(128, activation='relu'))\n",
    "model.add(Dropout(0.3))\n",
    "model.add(Dense(1, activation='sigmoid'))\n",
    "\n",
    "callback_list = [tf.keras.callbacks.ModelCheckpoint(filepath='BinaryClassification_Dense3-callback.h5', monitor='val_accuracy', save_best_only=True),\n",
    "                tf.keras.callbacks.EarlyStopping(patience=10)]\n",
    "\n",
    "model.compile(loss='binary_crossentropy', optimizer=Adam(lr=learning_rate), metrics=['acc'])\n",
    "model.summary()"
   ]
  },
  {
   "cell_type": "raw",
   "id": "c90ad343-bd3d-49b5-a10c-7d9e1216ab96",
   "metadata": {},
   "source": [
    "history=model.fit(X_train,\n",
    "                  Y_train,\n",
    "                  epochs=epochs,\n",
    "                  batch_size=batch_size,\n",
    "                  validation_split=0.2,\n",
    "                  callbacks=callback_list,\n",
    "                  shuffle=True,\n",
    "                  verbose=1)"
   ]
  },
  {
   "cell_type": "raw",
   "id": "1088ecea-013c-4e5e-ae0e-9c45f8f2b532",
   "metadata": {},
   "source": [
    "plt_performance(history,path='./plot_performance',filename='GRU_0527')"
   ]
  },
  {
   "cell_type": "code",
   "execution_count": 12,
   "id": "6b8757ba-87af-4a13-bc69-568178a590cf",
   "metadata": {},
   "outputs": [
    {
     "name": "stdout",
     "output_type": "stream",
     "text": [
      "Model: \"sequential\"\n",
      "_________________________________________________________________\n",
      "Layer (type)                 Output Shape              Param #   \n",
      "=================================================================\n",
      "gru (GRU)                    (None, 128)               50304     \n",
      "_________________________________________________________________\n",
      "batch_normalization (BatchNo (None, 128)               512       \n",
      "_________________________________________________________________\n",
      "dense (Dense)                (None, 512)               66048     \n",
      "_________________________________________________________________\n",
      "batch_normalization_1 (Batch (None, 512)               2048      \n",
      "_________________________________________________________________\n",
      "dropout (Dropout)            (None, 512)               0         \n",
      "_________________________________________________________________\n",
      "dense_1 (Dense)              (None, 256)               131328    \n",
      "_________________________________________________________________\n",
      "batch_normalization_2 (Batch (None, 256)               1024      \n",
      "_________________________________________________________________\n",
      "dropout_1 (Dropout)          (None, 256)               0         \n",
      "_________________________________________________________________\n",
      "dense_2 (Dense)              (None, 128)               32896     \n",
      "_________________________________________________________________\n",
      "dropout_2 (Dropout)          (None, 128)               0         \n",
      "_________________________________________________________________\n",
      "dense_3 (Dense)              (None, 1)                 129       \n",
      "=================================================================\n",
      "Total params: 284,289\n",
      "Trainable params: 282,497\n",
      "Non-trainable params: 1,792\n",
      "_________________________________________________________________\n"
     ]
    }
   ],
   "source": [
    "# from tensorflow.keras.layers import LSTM, GRU\n",
    "\n",
    "\n",
    "# one GRU layers with three dense layers-> IT WORKS !\n",
    "model2 = Sequential()\n",
    "model2.add(GRU(units=128,\n",
    "              dropout=0.3,\n",
    "              # recurrent_dropout=0.25,\n",
    "              return_sequences=False,\n",
    "              input_shape=(1280,1)))\n",
    "model2.add(BatchNormalization())\n",
    "\n",
    "# Dense net\n",
    "model2.add(Dense(512, activation='relu'))\n",
    "model2.add(BatchNormalization())\n",
    "model2.add(Dropout(0.3))\n",
    "model2.add(Dense(256, activation='relu'))\n",
    "model2.add(BatchNormalization())\n",
    "model2.add(Dropout(0.3))\n",
    "model2.add(Dense(128, activation='relu'))\n",
    "model2.add(Dropout(0.3))\n",
    "model2.add(Dense(1, activation='sigmoid'))\n",
    "\n",
    "callback_list = [tf.keras.callbacks.ModelCheckpoint(filepath='BinaryClassification_Dense3-callback.h5', monitor='val_accuracy', save_best_only=True),\n",
    "                tf.keras.callbacks.EarlyStopping(patience=10)]\n",
    "\n",
    "model2.compile(loss='binary_crossentropy', optimizer=Adam(lr=learning_rate), metrics=['acc'])\n",
    "model2.summary()"
   ]
  },
  {
   "cell_type": "code",
   "execution_count": 13,
   "id": "7dfdc08e-2ef1-4ff0-922b-ab54ca70cb5c",
   "metadata": {},
   "outputs": [
    {
     "name": "stdout",
     "output_type": "stream",
     "text": [
      "Epoch 1/10\n",
      "125/125 [==============================] - ETA: 0s - loss: 0.9353 - acc: 0.4793WARNING:tensorflow:Can save best model only with val_accuracy available, skipping.\n",
      "125/125 [==============================] - 10s 78ms/step - loss: 0.9353 - acc: 0.4793 - val_loss: 0.7070 - val_acc: 0.0000e+00\n",
      "Epoch 2/10\n",
      "125/125 [==============================] - ETA: 0s - loss: 0.4778 - acc: 0.7782WARNING:tensorflow:Can save best model only with val_accuracy available, skipping.\n",
      "125/125 [==============================] - 10s 81ms/step - loss: 0.4778 - acc: 0.7782 - val_loss: 0.4239 - val_acc: 1.0000\n",
      "Epoch 3/10\n",
      "125/125 [==============================] - ETA: 0s - loss: 0.2864 - acc: 0.9067WARNING:tensorflow:Can save best model only with val_accuracy available, skipping.\n",
      "125/125 [==============================] - 11s 86ms/step - loss: 0.2864 - acc: 0.9067 - val_loss: 0.1764 - val_acc: 1.0000\n",
      "Epoch 4/10\n",
      "125/125 [==============================] - ETA: 0s - loss: 0.2044 - acc: 0.9493WARNING:tensorflow:Can save best model only with val_accuracy available, skipping.\n",
      "125/125 [==============================] - 11s 87ms/step - loss: 0.2044 - acc: 0.9493 - val_loss: 0.0735 - val_acc: 1.0000\n",
      "Epoch 5/10\n",
      "125/125 [==============================] - ETA: 0s - loss: 0.1629 - acc: 0.9643WARNING:tensorflow:Can save best model only with val_accuracy available, skipping.\n",
      "125/125 [==============================] - 11s 88ms/step - loss: 0.1629 - acc: 0.9643 - val_loss: 0.0379 - val_acc: 1.0000\n",
      "Epoch 6/10\n",
      "125/125 [==============================] - ETA: 0s - loss: 0.1365 - acc: 0.9729WARNING:tensorflow:Can save best model only with val_accuracy available, skipping.\n",
      "125/125 [==============================] - 11s 89ms/step - loss: 0.1365 - acc: 0.9729 - val_loss: 0.0220 - val_acc: 1.0000\n",
      "Epoch 7/10\n",
      "125/125 [==============================] - ETA: 0s - loss: 0.1238 - acc: 0.9766WARNING:tensorflow:Can save best model only with val_accuracy available, skipping.\n",
      "125/125 [==============================] - 12s 92ms/step - loss: 0.1238 - acc: 0.9766 - val_loss: 0.0159 - val_acc: 1.0000\n",
      "Epoch 8/10\n",
      "125/125 [==============================] - ETA: 0s - loss: 0.1124 - acc: 0.9800WARNING:tensorflow:Can save best model only with val_accuracy available, skipping.\n",
      "125/125 [==============================] - 12s 96ms/step - loss: 0.1124 - acc: 0.9800 - val_loss: 0.0123 - val_acc: 1.0000\n",
      "Epoch 9/10\n",
      "125/125 [==============================] - ETA: 0s - loss: 0.1047 - acc: 0.9820WARNING:tensorflow:Can save best model only with val_accuracy available, skipping.\n",
      "125/125 [==============================] - 12s 93ms/step - loss: 0.1047 - acc: 0.9820 - val_loss: 0.0098 - val_acc: 1.0000\n",
      "Epoch 10/10\n",
      "125/125 [==============================] - ETA: 0s - loss: 0.1014 - acc: 0.9822WARNING:tensorflow:Can save best model only with val_accuracy available, skipping.\n",
      "125/125 [==============================] - 12s 93ms/step - loss: 0.1014 - acc: 0.9822 - val_loss: 0.0086 - val_acc: 1.0000\n"
     ]
    }
   ],
   "source": [
    "history2=model2.fit(X_train,\n",
    "                  Y_train,\n",
    "                  epochs=epochs,\n",
    "                  batch_size=batch_size,\n",
    "                  validation_split=0.2,\n",
    "                  callbacks=callback_list,\n",
    "                  # shuffle=True,\n",
    "                  verbose=1)"
   ]
  },
  {
   "cell_type": "code",
   "execution_count": 14,
   "id": "f27bc2b9-b159-4794-8943-bb144e0cbbb1",
   "metadata": {},
   "outputs": [
    {
     "data": {
      "image/png": "[encoded data removed]",
      "text/plain": [
       "<Figure size 720x576 with 2 Axes>"
      ]
     },
     "metadata": {
      "needs_background": "light"
     },
     "output_type": "display_data"
    }
   ],
   "source": [
    "plt_performance(history2,path='./plot_performance',filename='GRU_0527(2)')"
   ]
  },
  {
   "cell_type": "code",
   "execution_count": null,
   "id": "1e5c93fe-4e59-41cb-8673-cb39cbe570d7",
   "metadata": {},
   "outputs": [],
   "source": []
  }
 ],
 "metadata": {
  "kernelspec": {
   "display_name": "Python 3",
   "language": "python",
   "name": "python3"
  },
  "language_info": {
   "codemirror_mode": {
    "name": "ipython",
    "version": 3
   },
   "file_extension": ".py",
   "mimetype": "text/x-python",
   "name": "python",
   "nbconvert_exporter": "python",
   "pygments_lexer": "ipython3",
   "version": "3.8.13"
  }
 },
 "nbformat": 4,
 "nbformat_minor": 5
}
