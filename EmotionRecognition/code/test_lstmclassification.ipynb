{
 "cells": [
  {
   "cell_type": "code",
   "execution_count": 3,
   "id": "93c56f0b-2304-4c90-aa46-d4d5eaba3393",
   "metadata": {},
   "outputs": [],
   "source": [
    "import numpy\n",
    "from tensorflow.keras.datasets import imdb\n",
    "from tensorflow.keras.models import Sequential\n",
    "from tensorflow.keras.layers import Dense\n",
    "from tensorflow.keras.layers import LSTM\n",
    "from tensorflow.keras.layers import Embedding\n",
    "from tensorflow.keras.preprocessing import sequence\n",
    "# fix random seed for reproducibility\n",
    "import tensorflow as tf\n",
    "numpy.random.seed(7)"
   ]
  },
  {
   "cell_type": "code",
   "execution_count": 4,
   "id": "5ca237f3-f8c4-45d7-a01a-38c82098d8af",
   "metadata": {},
   "outputs": [
    {
     "name": "stdout",
     "output_type": "stream",
     "text": [
      "1 Physical GPUs, 1 Logical GPUs\n"
     ]
    }
   ],
   "source": [
    "gpus = tf.config.experimental.list_physical_devices('GPU')\n",
    "if gpus:\n",
    "  # Restrict TensorFlow to only allocate 2 GB of memory on the first GPU\n",
    "  try:\n",
    "    tf.config.experimental.set_virtual_device_configuration(\n",
    "        gpus[0],\n",
    "        [tf.config.experimental.VirtualDeviceConfiguration(memory_limit=2000)]) # limit in megabytes\n",
    "    logical_gpus = tf.config.experimental.list_logical_devices('GPU')\n",
    "    print(len(gpus), \"Physical GPUs,\", len(logical_gpus), \"Logical GPUs\")\n",
    "  except RuntimeError as e:\n",
    "    # Virtual devices must be set before GPUs have been initialized\n",
    "    print(e)"
   ]
  },
  {
   "cell_type": "code",
   "execution_count": 5,
   "id": "9dca4739-a091-450e-bbca-f95b85452351",
   "metadata": {},
   "outputs": [
    {
     "name": "stderr",
     "output_type": "stream",
     "text": [
      "/home/sselab/anaconda3/envs/EmotionRecognition/lib/python3.8/site-packages/tensorflow/python/keras/datasets/imdb.py:155: VisibleDeprecationWarning: Creating an ndarray from ragged nested sequences (which is a list-or-tuple of lists-or-tuples-or ndarrays with different lengths or shapes) is deprecated. If you meant to do this, you must specify 'dtype=object' when creating the ndarray\n",
      "  x_train, y_train = np.array(xs[:idx]), np.array(labels[:idx])\n",
      "/home/sselab/anaconda3/envs/EmotionRecognition/lib/python3.8/site-packages/tensorflow/python/keras/datasets/imdb.py:156: VisibleDeprecationWarning: Creating an ndarray from ragged nested sequences (which is a list-or-tuple of lists-or-tuples-or ndarrays with different lengths or shapes) is deprecated. If you meant to do this, you must specify 'dtype=object' when creating the ndarray\n",
      "  x_test, y_test = np.array(xs[idx:]), np.array(labels[idx:])\n"
     ]
    }
   ],
   "source": [
    "# load the dataset but only keep the top n words, zero the rest\n",
    "top_words = 5000\n",
    "(X_train, y_train), (X_test, y_test) = imdb.load_data(num_words=top_words)"
   ]
  },
  {
   "cell_type": "code",
   "execution_count": 6,
   "id": "2484d366-7d49-4c97-82a7-38b5104b0bfb",
   "metadata": {},
   "outputs": [],
   "source": [
    "\n",
    "# truncate and pad input sequences\n",
    "max_review_length = 500\n",
    "X_train = sequence.pad_sequences(X_train, maxlen=max_review_length)\n",
    "X_test = sequence.pad_sequences(X_test, maxlen=max_review_length)"
   ]
  },
  {
   "cell_type": "code",
   "execution_count": 7,
   "id": "c4baf2b3-0dbd-4d2a-87ee-a3ee1ee5f656",
   "metadata": {},
   "outputs": [
    {
     "data": {
      "text/plain": [
       "(25000,)"
      ]
     },
     "execution_count": 7,
     "metadata": {},
     "output_type": "execute_result"
    }
   ],
   "source": [
    "y_train.shape"
   ]
  },
  {
   "cell_type": "code",
   "execution_count": 16,
   "id": "f2646cb3-17fb-4527-aba8-fb097b9be637",
   "metadata": {},
   "outputs": [
    {
     "data": {
      "text/plain": [
       "array([ 687,   23,    4,    2,    2,    6, 3693,   42,   38,   39,  121,\n",
       "         59,  456,   10,   10,    7,  265,   12,  575,  111,  153,  159,\n",
       "         59,   16, 1447,   21,   25,  586,  482,   39,    4,   96,   59,\n",
       "        716,   12,    4,  172,   65,    9,  579,   11,    2,    4, 1615,\n",
       "          5,    2,    7,    2,   17,   13,    2,   12,   19,    6,  464,\n",
       "         31,  314,   11,    2,    6,  719,  605,   11,    8,  202,   27,\n",
       "        310,    4, 3772, 3501,    8, 2722,   58,   10,   10,  537, 2116,\n",
       "        180,   40,   14,  413,  173,    7,  263,  112,   37,  152,  377,\n",
       "          4,  537,  263,  846,  579,  178,   54,   75,   71,  476,   36,\n",
       "        413,  263, 2504,  182,    5,   17,   75, 2306,  922,   36,  279,\n",
       "        131, 2895,   17, 2867,   42,   17,   35,  921,    2,  192,    5,\n",
       "       1219, 3890,   19,    2,  217, 4122, 1710,  537,    2, 1236,    5,\n",
       "        736,   10,   10,   61,  403,    9,    2,   40,   61, 4494,    5,\n",
       "         27, 4494,  159,   90,  263, 2311, 4319,  309,    8,  178,    5,\n",
       "         82, 4319,    4,   65,   15,    2,  145,  143,    2,   12,    2,\n",
       "        537,  746,  537,  537,   15,    2,    4,    2,  594,    7,    2,\n",
       "         94,    2, 3987,    2,   11,    2,    4,  538,    7, 1795,  246,\n",
       "          2,    9,    2,   11,  635,   14,    9,   51,  408,   12,   94,\n",
       "        318, 1382,   12,   47,    6, 2683,  936,    5,    2,    2,   19,\n",
       "         49,    7,    4, 1885,    2, 1118,   25,   80,  126,  842,   10,\n",
       "         10,    2,    2, 4726,   27, 4494,   11, 1550, 3633,  159,   27,\n",
       "        341,   29, 2733,   19, 4185,  173,    7,   90,    2,    8,   30,\n",
       "         11,    4, 1784,   86, 1117,    8, 3261,   46,   11,    2,   21,\n",
       "         29,    9, 2841,   23,    4, 1010,    2,  793,    6,    2, 1386,\n",
       "       1830,   10,   10,  246,   50,    9,    6, 2750, 1944,  746,   90,\n",
       "         29,    2,    8,  124,    4,  882,    4,  882,  496,   27,    2,\n",
       "       2213,  537,  121,  127, 1219,  130,    5,   29,  494,    8,  124,\n",
       "          4,  882,  496,    4,  341,    7,   27,  846,   10,   10,   29,\n",
       "          9, 1906,    8,   97,    6,  236,    2, 1311,    8,    4,    2,\n",
       "          7,   31,    7,    2,   91,    2, 3987,   70,    4,  882,   30,\n",
       "        579,   42,    9,   12,   32,   11,  537,   10,   10,   11,   14,\n",
       "         65,   44,  537,   75,    2, 1775, 3353,    2, 1846,    4,    2,\n",
       "          7,  154,    5,    4,  518,   53,    2,    2,    7, 3211,  882,\n",
       "         11,  399,   38,   75,  257, 3807,   19,    2,   17,   29,  456,\n",
       "          4,   65,    7,   27,  205,  113,   10,   10,    2,    4,    2,\n",
       "          2,    9,  242,    4,   91, 1202,    2,    5, 2070,  307,   22,\n",
       "          7,    2,  126,   93,   40,    2,   13,  188, 1076, 3222,   19,\n",
       "          4,    2,    7, 2348,  537,   23,   53,  537,   21,   82,   40,\n",
       "          2,   13,    2,   14,  280,   13,  219,    4,    2,  431,  758,\n",
       "        859,    4,  953, 1052,    2,    7,    2,    5,   94,   40,   25,\n",
       "        238,   60,    2,    4,    2,  804,    2,    7,    4,    2,  132,\n",
       "          8,   67,    6,   22,   15,    9,  283,    8,    2,   14,   31,\n",
       "          9,  242,  955,   48,   25,  279,    2,   23,   12, 1685,  195,\n",
       "         25,  238,   60,  796,    2,    4,  671,    7, 2804,    5,    4,\n",
       "        559,  154,  888,    7,  726,   50,   26,   49,    2,   15,  566,\n",
       "         30,  579,   21,   64, 2574], dtype=int32)"
      ]
     },
     "execution_count": 16,
     "metadata": {},
     "output_type": "execute_result"
    }
   ],
   "source": [
    "X_train.shape\n",
    "X_train[3]\n"
   ]
  },
  {
   "cell_type": "code",
   "execution_count": 9,
   "id": "1767fade-fa6f-42f4-aef4-4521ce02c151",
   "metadata": {},
   "outputs": [
    {
     "name": "stdout",
     "output_type": "stream",
     "text": [
      "Model: \"sequential\"\n",
      "_________________________________________________________________\n",
      "Layer (type)                 Output Shape              Param #   \n",
      "=================================================================\n",
      "embedding (Embedding)        (None, 500, 32)           160000    \n",
      "_________________________________________________________________\n",
      "lstm (LSTM)                  (None, 100)               53200     \n",
      "_________________________________________________________________\n",
      "dense (Dense)                (None, 1)                 101       \n",
      "=================================================================\n",
      "Total params: 213,301\n",
      "Trainable params: 213,301\n",
      "Non-trainable params: 0\n",
      "_________________________________________________________________\n",
      "None\n",
      "Epoch 1/3\n",
      "391/391 [==============================] - 25s 63ms/step - loss: 0.4492 - accuracy: 0.7813 - val_loss: 0.3466 - val_accuracy: 0.8639\n",
      "Epoch 2/3\n",
      "391/391 [==============================] - 25s 63ms/step - loss: 0.2817 - accuracy: 0.8882 - val_loss: 0.3589 - val_accuracy: 0.8638\n",
      "Epoch 3/3\n",
      "391/391 [==============================] - 23s 58ms/step - loss: 0.2491 - accuracy: 0.9032 - val_loss: 0.3200 - val_accuracy: 0.8704\n"
     ]
    },
    {
     "data": {
      "text/plain": [
       "<tensorflow.python.keras.callbacks.History at 0x7f440ef7c580>"
      ]
     },
     "execution_count": 9,
     "metadata": {},
     "output_type": "execute_result"
    }
   ],
   "source": [
    "embedding_vecor_length = 32\n",
    "model = Sequential()\n",
    "model.add(Embedding(top_words, embedding_vecor_length, input_length=max_review_length))\n",
    "model.add(LSTM(100))\n",
    "model.add(Dense(1, activation='sigmoid'))\n",
    "model.compile(loss='binary_crossentropy', optimizer='adam', metrics=['accuracy'])\n",
    "print(model.summary())\n",
    "model.fit(X_train, y_train, validation_data=(X_test, y_test), epochs=3, batch_size=64)"
   ]
  },
  {
   "cell_type": "code",
   "execution_count": 10,
   "id": "ef84b18d-ace1-4c93-873e-7479845cb1f1",
   "metadata": {},
   "outputs": [
    {
     "name": "stdout",
     "output_type": "stream",
     "text": [
      "Accuracy: 87.04%\n"
     ]
    }
   ],
   "source": [
    "\n",
    "# Final evaluation of the model\n",
    "scores = model.evaluate(X_test, y_test, verbose=0)\n",
    "print(\"Accuracy: %.2f%%\" % (scores[1]*100))"
   ]
  },
  {
   "cell_type": "code",
   "execution_count": null,
   "id": "1a882baa-279b-45b7-9928-cd43404488f1",
   "metadata": {},
   "outputs": [],
   "source": []
  }
 ],
 "metadata": {
  "kernelspec": {
   "display_name": "Python 3",
   "language": "python",
   "name": "python3"
  },
  "language_info": {
   "codemirror_mode": {
    "name": "ipython",
    "version": 3
   },
   "file_extension": ".py",
   "mimetype": "text/x-python",
   "name": "python",
   "nbconvert_exporter": "python",
   "pygments_lexer": "ipython3",
   "version": "3.8.13"
  }
 },
 "nbformat": 4,
 "nbformat_minor": 5
}
