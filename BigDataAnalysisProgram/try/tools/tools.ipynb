{
 "cells": [
  {
   "cell_type": "code",
   "execution_count": 1,
   "metadata": {},
   "outputs": [
    {
     "data": {
      "text/plain": [
       "'c:\\\\Users\\\\OrthopedicLAB\\\\Desktop\\\\Workspace\\\\orthopedics\\\\BigDataAnalysisProgram\\\\tools'"
      ]
     },
     "execution_count": 1,
     "metadata": {},
     "output_type": "execute_result"
    }
   ],
   "source": [
    "pwd"
   ]
  },
  {
   "cell_type": "code",
   "execution_count": 2,
   "metadata": {},
   "outputs": [],
   "source": [
    "import time\n",
    "import plotly.express as px\n",
    "import pandas as pd\n",
    "import numpy as np\n",
    "import datetime\n",
    "import re\n",
    "import os\n",
    "import io\n",
    "\n",
    "\"\"\"\n",
    "1. Test file -> df_viewer.loc[:15] <remove the line>\n",
    "2. dcc.Dropdown(id='dpdn-data-selection', multi=False, value=dir_list[-1], \n",
    "    -> need to change multiple selection mode and make function can merge the selected year of dataframes\n",
    "3. auto width of data-viewer cells\n",
    "4. Do I need to set default columns for data selection part? Then what columns would I do?\n",
    "5. need to change the component of columns selection dropdown to using scroll method <layout>\n",
    "    -> It's not comfortable to read the data like it would have too long scroll bar when I select all columns\n",
    "\"\"\"\n",
    "\n",
    "main_dataframe = []\n",
    "global data_path\n",
    "data_path = '../raw_data'\n",
    "dir_list = os.listdir(data_path)\n",
    "dir_list.sort()\n",
    "\n",
    "\n",
    "\"\"\"Data load methods\"\"\"\n",
    "\n",
    "def load_data(file_name, data_path, format, to_csv=False, cmd_visiable=False):\n",
    "    if format == 'sas':\n",
    "        file_name = file_name.replace('.sas7bdat','')\n",
    "        df = pd.read_sas(f'{data_path}/{file_name}.sas7bdat', encoding='iso-8859-1', format='sas7bdat')\n",
    "    \n",
    "\n",
    "    if cmd_visiable:\n",
    "        print(file_name)\n",
    "        print(\"data loaded successfully\")\n",
    "        print(\"*** print 5 rows of data ***\\n\")\n",
    "        print(df.head())\n",
    "        print(\"*** column list ***\\n\")\n",
    "        \n",
    "    if to_csv==True:\n",
    "        df.to_csv(f'{data_path}/csv/{file_name}.csv', index=False)\n",
    "        print(\"data has been saved to csv in csv directory\")\n",
    "    \n",
    "    return df\n",
    "\n",
    "# def merge_DXA(main_df): ## need to be class(merge function)\n",
    "#     main_df['year'].unique()\n"
   ]
  },
  {
   "cell_type": "code",
   "execution_count": 3,
   "metadata": {},
   "outputs": [
    {
     "name": "stdout",
     "output_type": "stream",
     "text": [
      "hn09_all.sas7bdat hn09_dxa.sas7bdat\n"
     ]
    }
   ],
   "source": [
    "data_path = '../raw_data'\n",
    "dir_list = os.listdir(data_path)\n",
    "dir_list.sort()\n",
    "file_all = dir_list[3]\n",
    "main_dataframe = load_data(file_all, data_path, 'sas')\n",
    "# main_dataframe = main_dataframe.iloc[-20:]\n",
    "main_dataframe = main_dataframe.astype({'year':'int32'}).astype({'year':'str'})\n",
    "\n",
    "data_path2 = '../dxa_data'\n",
    "dir_list2 = os.listdir(data_path2)\n",
    "file_dxa = dir_list2[3]\n",
    "dxa_dataframe = load_data(file_name=file_dxa, data_path=data_path2, format='sas', to_csv=False, cmd_visiable=False)\n",
    "dxa_dataframe.rename(columns = {'ID':'id'}, inplace = True)\n",
    "dxa_dataframe = dxa_dataframe.astype({'year':'int32'}).astype({'year':'str'})\n",
    "\n",
    "print(dir_list[1], dir_list2[1])\n",
    "\n",
    "mergedDf = main_dataframe.merge(dxa_dataframe,on='id', suffixes=('', '_DROP')).filter(regex='^(?!.*_DROP)')"
   ]
  },
  {
   "cell_type": "code",
   "execution_count": 4,
   "metadata": {},
   "outputs": [
    {
     "name": "stdout",
     "output_type": "stream",
     "text": [
      "8518 2757\n",
      "8518 2757\n"
     ]
    }
   ],
   "source": [
    "print(len(main_dataframe),len(dxa_dataframe))\n",
    "print(len(main_dataframe['id'].unique()),len(dxa_dataframe['id'].unique()))"
   ]
  },
  {
   "cell_type": "code",
   "execution_count": null,
   "metadata": {},
   "outputs": [],
   "source": []
  },
  {
   "cell_type": "code",
   "execution_count": 9,
   "metadata": {},
   "outputs": [
    {
     "name": "stdout",
     "output_type": "stream",
     "text": [
      "11\n",
      "['hn08_all.sas7bdat', 'hn09_all.sas7bdat', 'hn10_all.sas7bdat', 'hn11_all.sas7bdat', 'hn12_all.sas7bdat', 'hn13_all.sas7bdat', 'hn14_all.sas7bdat', 'hn15_all.sas7bdat', 'hn16_all.sas7bdat', 'hn17_all.sas7bdat', 'hn18_all.sas7bdat', 'hn19_all.sas7bdat', 'hn20_all.sas7bdat']\n"
     ]
    }
   ],
   "source": [
    "d = list(main_dataframe['year'].unique())\n",
    "for i in d:\n",
    "    i = i.replace(\"20\",\"\")\n",
    "    print(i)\n",
    "print(dir_list)"
   ]
  },
  {
   "cell_type": "code",
   "execution_count": null,
   "metadata": {},
   "outputs": [],
   "source": []
  },
  {
   "cell_type": "code",
   "execution_count": 10,
   "metadata": {},
   "outputs": [],
   "source": [
    "from tools import merge_DXA"
   ]
  },
  {
   "cell_type": "code",
   "execution_count": 15,
   "metadata": {},
   "outputs": [
    {
     "name": "stdout",
     "output_type": "stream",
     "text": [
      "['2011']\n",
      "11\n",
      "hn11_dxa.sas7bdat\n",
      "Index(['mod_d', 'ID', 'ID_fam', 'year', 'region', 'town_t', 'apt_t', 'psu',\n",
      "       'sex', 'age',\n",
      "       ...\n",
      "       'DW_Rlg_MS', 'DW_Rlg_pFT', 'DW_SBT_FT', 'DW_SBT_LN', 'DW_SBT_MS',\n",
      "       'DW_SBT_pFT', 'DW_WBT_FT', 'DW_WBT_LN', 'DW_WBT_MS', 'DW_WBT_pFT'],\n",
      "      dtype='object', length=149)\n",
      "yeas\n"
     ]
    }
   ],
   "source": [
    "d = merge_DXA(main_dataframe, data_path2)"
   ]
  },
  {
   "cell_type": "code",
   "execution_count": 16,
   "metadata": {},
   "outputs": [
    {
     "name": "stdout",
     "output_type": "stream",
     "text": [
      "           mod_d          id  year    ID_fam  region  town_t  apt_t   psu  \\\n",
      "0     2022.03.08  A371970301  2011  A3719703     1.0     1.0    1.0  A371   \n",
      "1     2022.03.08  A371970302  2011  A3719703     1.0     1.0    1.0  A371   \n",
      "2     2022.03.08  A371971101  2011  A3719711     1.0     1.0    1.0  A371   \n",
      "3     2022.03.08  A371971102  2011  A3719711     1.0     1.0    1.0  A371   \n",
      "4     2022.03.08  A371971103  2011  A3719711     1.0     1.0    1.0  A371   \n",
      "...          ...         ...   ...       ...     ...     ...    ...   ...   \n",
      "2752  2022.03.08  O359840901  2011  O3598409    15.0     1.0    1.0  O359   \n",
      "2753  2022.03.08  O359859801  2011  O3598598    15.0     1.0    1.0  O359   \n",
      "2754  2022.03.08  O359859802  2011  O3598598    15.0     1.0    1.0  O359   \n",
      "2755  2022.03.08  O359920901  2011  O3599209    15.0     1.0    1.0  O359   \n",
      "2756  2022.03.08  O359920902  2011  O3599209    15.0     1.0    1.0  O359   \n",
      "\n",
      "      sex   age  ...     DW_Rlg_MS  DW_Rlg_pFT    DW_SBT_FT    DW_SBT_LN  \\\n",
      "0     1.0  64.0  ...  12829.777540   22.163133  21164.23142  55837.81076   \n",
      "1     2.0  59.0  ...   8788.658829   31.286455  20843.43828  33945.05830   \n",
      "2     2.0  52.0  ...   9253.197667   31.746817  20385.83355  36897.03439   \n",
      "3     2.0  27.0  ...  10811.093360   31.050519  25728.54252  41154.16988   \n",
      "4     1.0  31.0  ...  13444.232390   24.588840  24994.54587  52593.66240   \n",
      "...   ...   ...  ...           ...         ...          ...          ...   \n",
      "2752  2.0  60.0  ...   8557.627548   32.466055  16812.84099  31276.40752   \n",
      "2753  1.0  68.0  ...  10662.509590   14.518038  11891.41417  50537.32061   \n",
      "2754  2.0  61.0  ...  10484.810330   37.134370  24210.57884  38298.27663   \n",
      "2755  1.0  65.0  ...  10747.840540   20.653609  15916.00295  49112.16685   \n",
      "2756  2.0  58.0  ...   8558.304662   36.416440  16735.95417  32575.18957   \n",
      "\n",
      "        DW_SBT_MS  DW_SBT_pFT    DW_WBT_FT    DW_WBT_LN    DW_WBT_MS  \\\n",
      "0     77002.04219   27.485286  22192.30713  60684.06197  82876.36909   \n",
      "1     54788.49658   38.043457  21658.90655  37827.44393  59486.35048   \n",
      "2     57282.86794   35.588011  21225.41042  40768.43113  61993.84156   \n",
      "3     66882.71241   38.468151  26697.99308  45358.51373  72056.50681   \n",
      "4     77588.20827   32.214361  25984.47595  57013.39307  82997.86902   \n",
      "...           ...         ...          ...          ...          ...   \n",
      "2752  48089.24851   34.961746  17517.34159  34366.15804  51883.49963   \n",
      "2753  62428.73478   19.047982  12845.82847  54632.52653  67478.35501   \n",
      "2754  62508.85547   38.731438  24950.32242  41723.03459  66673.35701   \n",
      "2755  65028.16980   24.475551  16825.74191  53243.75483  70069.49674   \n",
      "2756  49311.14375   33.939497  17566.68608  36113.95943  53680.64552   \n",
      "\n",
      "      DW_WBT_pFT  \n",
      "0      26.777605  \n",
      "1      36.409876  \n",
      "2      34.237934  \n",
      "3      37.051467  \n",
      "4      31.307401  \n",
      "...          ...  \n",
      "2752   33.762837  \n",
      "2753   19.036962  \n",
      "2754   37.421728  \n",
      "2755   24.012934  \n",
      "2756   32.724432  \n",
      "\n",
      "[2757 rows x 930 columns]\n"
     ]
    }
   ],
   "source": [
    "print(d)"
   ]
  },
  {
   "cell_type": "code",
   "execution_count": null,
   "metadata": {},
   "outputs": [],
   "source": []
  }
 ],
 "metadata": {
  "kernelspec": {
   "display_name": "Python 3.10.4 ('orthopedics')",
   "language": "python",
   "name": "python3"
  },
  "language_info": {
   "codemirror_mode": {
    "name": "ipython",
    "version": 3
   },
   "file_extension": ".py",
   "mimetype": "text/x-python",
   "name": "python",
   "nbconvert_exporter": "python",
   "pygments_lexer": "ipython3",
   "version": "3.10.4"
  },
  "orig_nbformat": 4,
  "vscode": {
   "interpreter": {
    "hash": "b2a038e00d73f963d2bae06a1ba505e3b6b9dfc9b98e84f3be52dace093baf2d"
   }
  }
 },
 "nbformat": 4,
 "nbformat_minor": 2
}
