{
 "cells": [
  {
   "cell_type": "code",
   "execution_count": null,
   "id": "6b08edda-e8e0-47e7-a0b4-a9217d829385",
   "metadata": {},
   "outputs": [],
   "source": [
    "import matplotlib.pyplot as plt\n",
    "import matplotlib.image as img\n",
    "import numpy as np\n",
    "import cv2"
   ]
  },
  {
   "cell_type": "markdown",
   "id": "aac5ad65-e5a7-41d2-ab43-234acad48c9e",
   "metadata": {},
   "source": [
    "## Arithmetic operator"
   ]
  },
  {
   "cell_type": "code",
   "execution_count": null,
   "id": "43b980d8-3bc9-4647-8a6c-e041cfb25f5e",
   "metadata": {},
   "outputs": [],
   "source": [
    "image = img.imread(\"Lenna.png\")\n",
    "\n",
    "# image = image[:,:,:]\n",
    "\n",
    "plt.imshow(image_brighter)"
   ]
  },
  {
   "cell_type": "markdown",
   "id": "8b8d4428-46ac-42d1-949c-5223831190fe",
   "metadata": {},
   "source": []
  },
  {
   "cell_type": "code",
   "execution_count": null,
   "id": "f478a42e-bd93-43b4-a881-a4781867868b",
   "metadata": {},
   "outputs": [],
   "source": [
    "image = img.imread(\"Lenna.png\")\n",
    "image2 = image[:,:,:] * 1.5\n",
    "\n",
    "plt.imshow(image2)\n",
    "plt.show()"
   ]
  },
  {
   "cell_type": "markdown",
   "id": "05568721-b973-4898-b0a2-07b04125a4be",
   "metadata": {},
   "source": [
    "## Histogram Equalizer"
   ]
  },
  {
   "cell_type": "code",
   "execution_count": null,
   "id": "e5118b17-39c4-43b3-8fe6-efa6d83adfac",
   "metadata": {},
   "outputs": [],
   "source": [
    "image_array = img.imread(\"image1.jpeg\")\n",
    "image_gray = image_array[:,:,0]\n",
    "\n",
    "hist_sum = [np.shape(np.where(image_gray<=i)) [1] for i in range(256)]\n",
    "\n",
    "hist = [hist_sum[i] - hist_sum[i-1] for i in range(1,256)]\n",
    "\n",
    "plt.plot(hist_sum)\n",
    "plt.show()\n",
    "\n",
    "plt.plot(hist)\n",
    "plt.show()"
   ]
  },
  {
   "cell_type": "code",
   "execution_count": null,
   "id": "8a1c4d57-f7c4-47ea-8fcb-13a774297130",
   "metadata": {},
   "outputs": [],
   "source": [
    "image_eq = np.zeros_like(image_gray)\n",
    "\n",
    "for i in range(image_gray.shape[0]):\n",
    "    for j in range(image_gray.shape[1]):\n",
    "        image_eq[i,j] = hist_sum[image_gray[i,j]] / (image_gray.shape[0]*image_gray.shape[1]) * 255\n",
    "\n",
    "hist_sum = [np.shape(np.where(image_eq<=i)) [1] for i in range(256)]\n",
    "hist = [hist_sum[i] - hist_sum[i-1] for i in range(1,256)]\n",
    "\n",
    "plt.imshow(image_gray, cmap='gray')\n",
    "plt.show()\n",
    "\n",
    "plt.imshow(image_eq, cmap='gray')\n",
    "plt.show()\n",
    "\n",
    "plt.plot(hist)\n",
    "plt.show()"
   ]
  },
  {
   "cell_type": "markdown",
   "id": "cdf63e0a-63b2-4243-9a01-fee1c19c709a",
   "metadata": {},
   "source": [
    "## Stretch"
   ]
  },
  {
   "cell_type": "code",
   "execution_count": null,
   "id": "0e8a69b7-86e6-4cf9-81fc-340eaf8f0dde",
   "metadata": {},
   "outputs": [],
   "source": []
  },
  {
   "cell_type": "code",
   "execution_count": null,
   "id": "db5e7cdd-e4de-4d1d-a49c-f1e237265b37",
   "metadata": {},
   "outputs": [],
   "source": []
  },
  {
   "cell_type": "markdown",
   "id": "50798513-e022-4833-8241-fabdd5960fe1",
   "metadata": {},
   "source": [
    "## Binary"
   ]
  },
  {
   "cell_type": "code",
   "execution_count": null,
   "id": "c7687a34-5dd8-4ae9-9140-2ee80e95c30c",
   "metadata": {},
   "outputs": [],
   "source": [
    "image = img.imread(\"Lenna.png\")\n",
    "image = image[:,:,:3]\n",
    "image = image[:,:,0]\n",
    "\n",
    "threshold = 200\n",
    "\n",
    "height, width = image.shape\n",
    "for i in range(height):\n",
    "    for j in range(width):\n",
    "        # if image[i,j,:] < threshold:\n",
    "        #     image[i,j,:] = 0\n",
    "        # else:\n",
    "        #     image[i,j,:] = 1"
   ]
  },
  {
   "cell_type": "code",
   "execution_count": null,
   "id": "5cb06198-b5af-47e4-8630-c0883643dae8",
   "metadata": {},
   "outputs": [],
   "source": []
  },
  {
   "cell_type": "code",
   "execution_count": null,
   "id": "dc47e807-fdf6-4f82-95e8-5006bceb5c10",
   "metadata": {},
   "outputs": [],
   "source": [
    "## "
   ]
  }
 ],
 "metadata": {
  "kernelspec": {
   "display_name": "Python 3 (ipykernel)",
   "language": "python",
   "name": "python3"
  },
  "language_info": {
   "codemirror_mode": {
    "name": "ipython",
    "version": 3
   },
   "file_extension": ".py",
   "mimetype": "text/x-python",
   "name": "python",
   "nbconvert_exporter": "python",
   "pygments_lexer": "ipython3",
   "version": "3.10.4"
  }
 },
 "nbformat": 4,
 "nbformat_minor": 5
}
