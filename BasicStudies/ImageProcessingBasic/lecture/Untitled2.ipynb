{
 "cells": [
  {
   "cell_type": "code",
   "execution_count": 4,
   "id": "2d90e645-87a9-4e66-bc0e-a4ece5b724b5",
   "metadata": {},
   "outputs": [],
   "source": [
    "import os\n",
    "import cv2\n",
    "import matplotlib.pyplot as plt\n",
    "import numpy as np\n",
    "\n",
    "H = 400\n",
    "R = 100\n",
    "\n",
    "w_square = 255*np.ones([H, H, 3], dtype='int8')\n",
    "\n",
    "def clac_dist_to_center(x, y, a, b):\n",
    "    return np.sqrt((x-a)**2 + (y-b)**2)\n",
    "\n",
    "def paint_black(x, y, image):\n",
    "    image[x, y, 0] = 0\n",
    "    image[x, y, 1] = 0\n",
    "    image[x, y, 2] = 0\n",
    "    return image\n",
    "\n",
    "def paint_red(x, y, image):\n",
    "    image[x, y, 0] = 255\n",
    "    image[x, y, 1] = 0\n",
    "    image[x, y, 2] = 0\n",
    "\n",
    "def paint_blue(x,y,image):\n",
    "    image[x,y,0] = 0\n",
    "    image[x,y,1] = 0\n",
    "    image[x,y,2] = 255\n",
    "\n",
    "\n",
    "for x in range(H):\n",
    "    for y in range(H):\n",
    "        if clac_dist_to_center(x, y, H/2, H/2) <= R:\n",
    "            w_square = paint_black(x,y, w_square)\n",
    "\n",
    "            "
   ]
  },
  {
   "cell_type": "code",
   "execution_count": 5,
   "id": "166f17de-19f8-40c4-96ee-7bf50df6486f",
   "metadata": {},
   "outputs": [],
   "source": [
    "x = 40\n",
    "y = 50\n",
    "for i in range(H):\n",
    "    for j in range(H):\n",
    "        if clac_dist_to_center(i-y,j-x,R/2,R/2) <= R: \n",
    "            paint_blue(i,j, w_square)\n",
    "\n",
    "x= 100\n",
    "y = 200\n",
    "\n",
    "for i in range(H):\n",
    "    for j in range(H):\n",
    "        if (y - R <= i < y + R) & (x - R <= j < x + R):\n",
    "            paint_red(i,j, w_square)\n",
    "\n"
   ]
  },
  {
   "cell_type": "code",
   "execution_count": 6,
   "id": "b9fd42b6-a566-46b0-82c3-189065ef7ef8",
   "metadata": {},
   "outputs": [
    {
     "data": {
      "image/png": "[encoded data removed]",
      "text/plain": [
       "<Figure size 432x288 with 1 Axes>"
      ]
     },
     "metadata": {
      "needs_background": "light"
     },
     "output_type": "display_data"
    }
   ],
   "source": [
    "plt.imshow(w_square)\n",
    "plt.show()"
   ]
  },
  {
   "cell_type": "code",
   "execution_count": null,
   "id": "f4a97837-f4d5-461b-beb1-ebc6c2c8d768",
   "metadata": {},
   "outputs": [],
   "source": []
  }
 ],
 "metadata": {
  "kernelspec": {
   "display_name": "Python 3 (ipykernel)",
   "language": "python",
   "name": "python3"
  },
  "language_info": {
   "codemirror_mode": {
    "name": "ipython",
    "version": 3
   },
   "file_extension": ".py",
   "mimetype": "text/x-python",
   "name": "python",
   "nbconvert_exporter": "python",
   "pygments_lexer": "ipython3",
   "version": "3.10.4"
  }
 },
 "nbformat": 4,
 "nbformat_minor": 5
}
