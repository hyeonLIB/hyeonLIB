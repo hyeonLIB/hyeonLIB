{
 "cells": [
  {
   "cell_type": "code",
   "execution_count": 1,
   "id": "faa56e86-75fd-4439-a428-f9203999bd8e",
   "metadata": {},
   "outputs": [],
   "source": [
    "import neurokit2 as nk\n",
    "import numpy as np\n",
    "import pandas as pd\n",
    "import matplotlib.pyplot as plt\n",
    "from matplotlib.patches import Ellipse\n",
    "from sklearn.preprocessing import MinMaxScaler\n",
    "import seaborn as sns\n",
    "from scipy.signal import find_peaks\n",
    "from scipy import signal\n",
    "from scipy.integrate import trapz\n",
    "from scipy.interpolate import interp1d\n",
    "import seaborn as sns\n",
    "import heartpy as hp\n",
    "import os\n",
    "import pickle\n",
    "import warnings\n",
    "warnings.simplefilter('ignore', np.RankWarning)"
   ]
  },
  {
   "cell_type": "code",
   "execution_count": 2,
   "id": "74f48d80-e7d0-45d5-a191-2eaf18cfeb16",
   "metadata": {},
   "outputs": [],
   "source": [
    "def plt_performance(history, path='./', filename=''):\n",
    "    epoch = list(range(0,len(history.history['loss'])))\n",
    "    \n",
    "    fig, (his_accuracy, his_loss) = plt.subplots(nrows=2,ncols=1,figsize=(10,8),sharex=True)\n",
    "    his_loss.plot(epoch, history.history['loss'], label='Training loss')\n",
    "    his_loss.plot(epoch, history.history['val_loss'], label='Validation loss')\n",
    "    his_loss.set_xlabel(\"Epochs\", fontsize=14)\n",
    "    his_loss.set_ylabel(\"Loss\", fontsize=14)\n",
    "    his_loss.set_title(\"Loss\", fontsize=14)\n",
    "    his_loss.legend(loc='best')\n",
    "    \n",
    "    his_accuracy.plot(epoch, history.history['accuracy'], label='Training accuracy')\n",
    "    his_accuracy.plot(epoch, history.history['val_accuracy'], label='Validation accuracy')\n",
    "    his_accuracy.set_xlabel(\"Epochs\", fontsize=14)\n",
    "    his_accuracy.set_ylabel(\"Accuracy\", fontsize=14)\n",
    "    his_accuracy.set_title(\"Accuracy\", fontsize=14)\n",
    "    his_accuracy.legend(loc='best')\n",
    "    \n",
    "    fig.tight_layout()\n",
    "    if filename == '':\n",
    "        plt.savefig(f'{path}/performance.png', bbox_inches='tight')\n",
    "    else:\n",
    "        plt.savefig(f'{path}/{filename}.png', bbox_inches='tight')\n",
    "        \n",
    "def preprocessing(PPG_data):\n",
    "    index = 0\n",
    "    x = list(range(0,len(PPG_data[0])))\n",
    "    for PPG in PPG_data:\n",
    "        poly = np.polyfit(x, PPG, deg=50)\n",
    "        polied = np.polyval(poly, x)\n",
    "        detrended = PPG - polied\n",
    "        PPG_data[index] = detrended\n",
    "        index += 1\n",
    "        \n",
    "        \n",
    "    return PPG_data\n",
    "    \n",
    "def get_peaks(ppg_processed):\n",
    "    diff_sig_2 = np.diff(ppg_processed) ## do\n",
    "    peaks_2, _ = find_peaks(diff_sig_2, distance=100*(30/60), prominence=0.01)\n",
    "    result = []\n",
    "    peaks = []\n",
    "    for i in range(len(peaks_2)):\n",
    "        if diff_sig_2[peaks_2][i] > 40:\n",
    "            result.append(peaks_2[i])\n",
    "            peaks.append(diff_sig_2[peaks_2][i])\n",
    "            \n",
    "    return result, peaks, diff_sig_2"
   ]
  },
  {
   "cell_type": "code",
   "execution_count": 3,
   "id": "d74a7acb-18ab-48e7-bb8c-8ecb7ee47b1c",
   "metadata": {},
   "outputs": [
    {
     "name": "stdout",
     "output_type": "stream",
     "text": [
      "['s01.dat', 's02.dat', 's03.dat', 's04.dat', 's05.dat', 's07.dat', 's08.dat', 's09.dat', 's10.dat', 's11.dat', 's12.dat', 's13.dat', 's14.dat', 's15.dat', 's16.dat', 's17.dat', 's18.dat', 's19.dat', 's20.dat', 's21.dat', 's22.dat']\n"
     ]
    },
    {
     "data": {
      "text/plain": [
       "(840, 7680)"
      ]
     },
     "execution_count": 3,
     "metadata": {},
     "output_type": "execute_result"
    }
   ],
   "source": [
    "dir_list_ = os.listdir(\"./data\")\n",
    "dir_list_.sort()\n",
    "count = 0\n",
    "dir_list = []\n",
    "for i in range(22):\n",
    "    dir_list.append(dir_list_[i])\n",
    "    \n",
    "#### pop unavailable data\n",
    "dir_list.pop(5)\n",
    "    \n",
    "print(dir_list)\n",
    "df_PPG = pd.DataFrame(columns=['participant','video_number','ppg','valence','arousal'])\n",
    "Valence_data = []\n",
    "Arousal_data = []\n",
    "PPG_data = []\n",
    "\n",
    "file_num = 0\n",
    "for file in dir_list:\n",
    "    dat_file = f'./data/{file}'\n",
    "    with open(dat_file, 'rb') as f:\n",
    "        Channel_data = pickle.load(f,encoding='latin1')\n",
    "    data = Channel_data[\"data\"]\n",
    "    labels = Channel_data[\"labels\"]\n",
    "    for video_num in range(40):\n",
    "        dataP = data[video_num,38]\n",
    "        dataP = dataP[384:]\n",
    "        \n",
    "        label = labels[video_num]\n",
    "        if label[0] < 5:\n",
    "            Valence = 0\n",
    "        if label[0] >= 5:\n",
    "            Valence = 1\n",
    "        if label[1] < 5:\n",
    "            Arousal = 0\n",
    "        if label[1] >= 5:\n",
    "            Arousal = 1\n",
    "        instance = [(file_num, video_num, dataP, Valence, Arousal)]\n",
    "        new_instance = pd.DataFrame(instance, columns=['participant','video_number','ppg','valence','arousal'])\n",
    "        df_PPG = pd.concat([df_PPG, new_instance], ignore_index = True)\n",
    "        PPG_data.append(dataP)\n",
    "        Valence_data.append(Valence)\n",
    "        Arousal_data.append(Arousal)\n",
    "    file_num += 1\n",
    "    \n",
    "PPG_shape = np.array(PPG_data)\n",
    "PPG_shape.shape"
   ]
  },
  {
   "cell_type": "raw",
   "id": "4a60a7cd-79f7-4f25-8576-d846de19cef7",
   "metadata": {},
   "source": [
    "PPG_data = df_PPG['ppg']\n",
    "\n",
    "preprocessed = []\n",
    "\n",
    "i = 1\n",
    "new_PPG = []\n",
    "tmp_PPG = []\n",
    "for PPG in PPG_data:\n",
    "    if i % 40 != 0:\n",
    "        tmp_PPG = tmp_PPG + PPG\n",
    "    else:\n",
    "        new_PPG.append(tmp_PPG)\n",
    "        tmp_PPG = []\n",
    "        tmp_PPG + PPG\n",
    "    # preprocessed_d = preprocessing(PPG,view=False)\n",
    "    # preprocessed.append(preprocessed_d)\n",
    "    # PPG = PPG.reshape(7680,1)\n",
    "    # scaler = MinMaxScaler()\n",
    "    # norm = scaler.fit_transform(PPG) * 1000\n",
    "print(len(new_PPG))"
   ]
  },
  {
   "cell_type": "markdown",
   "id": "1bb79267-ea77-4cd5-af51-71bd8e374ce1",
   "metadata": {},
   "source": [
    "## Load & Preprocess PPG data"
   ]
  },
  {
   "cell_type": "code",
   "execution_count": 4,
   "id": "6a3168ed-ede4-40dc-8a9c-0403d0ca24eb",
   "metadata": {},
   "outputs": [
    {
     "name": "stderr",
     "output_type": "stream",
     "text": [
      "/home/sselab/anaconda3/envs/EmotionRecognition/lib/python3.8/site-packages/numpy/lib/polynomial.py:627: RuntimeWarning: overflow encountered in multiply\n",
      "  scale = NX.sqrt((lhs*lhs).sum(axis=0))\n",
      "/home/sselab/anaconda3/envs/EmotionRecognition/lib/python3.8/site-packages/numpy/core/_methods.py:47: RuntimeWarning: overflow encountered in reduce\n",
      "  return umr_sum(a, axis, dtype, out, keepdims, initial, where)\n"
     ]
    }
   ],
   "source": [
    "PPG_data = df_PPG['ppg']\n",
    "\n",
    "preprocessed = preprocessing(PPG_data)"
   ]
  },
  {
   "cell_type": "markdown",
   "id": "b53df274-251a-4aa2-be38-d712d8b2cef5",
   "metadata": {},
   "source": [
    "## Normalize PPG data"
   ]
  },
  {
   "cell_type": "code",
   "execution_count": 5,
   "id": "a02c3fbd-a101-4af5-bdc5-8b326eb4ea5f",
   "metadata": {},
   "outputs": [
    {
     "data": {
      "text/plain": [
       "(840, 7680, 1)"
      ]
     },
     "execution_count": 5,
     "metadata": {},
     "output_type": "execute_result"
    }
   ],
   "source": [
    "# Concatenate PPG data of each person to use min-max normalization method \n",
    "i = 1\n",
    "new_PPG = []\n",
    "tmp_PPG = np.empty(0)\n",
    "for PPG in preprocessed:\n",
    "    if i % 40 != 0:\n",
    "        tmp_PPG = np.concatenate([tmp_PPG, PPG])Untitled2\n",
    "    else:\n",
    "        tmp_PPG = np.concatenate([tmp_PPG, PPG])\n",
    "        new_PPG.append(tmp_PPG)\n",
    "        tmp_PPG = np.empty(0)\n",
    "    i += 1\n",
    "    \n",
    "    \n",
    "# Normalize personal PPG data and Split into per video\n",
    "new_PPG = np.array(new_PPG)\n",
    "new_PPG.shape[0]\n",
    "new_PPG = new_PPG.reshape(new_PPG.shape[0],new_PPG.shape[1],1)\n",
    "\n",
    "normalized = []\n",
    "\n",
    "for PPG in new_PPG:\n",
    "    # Normalized personal PPG\n",
    "    scaler = MinMaxScaler()\n",
    "    norm = scaler.fit_transform(PPG) * 1000\n",
    "    \n",
    "    # Split into per video\n",
    "    for i in range(40):\n",
    "        norm_video = norm[i*7680 : i*7680+7680]\n",
    "        normalized.append(norm_video)\n",
    "\n",
    "normalized = np.array(normalized)\n",
    "normalized.shape"
   ]
  },
  {
   "cell_type": "code",
   "execution_count": 6,
   "id": "1ead3d5d-bd94-40fc-b295-ae96da5d925f",
   "metadata": {},
   "outputs": [],
   "source": [
    "import neurokit2.ppg.ppg_findpeaks as findpeaks"
   ]
  },
  {
   "cell_type": "raw",
   "id": "977d3986-1805-403e-bf1f-78173a422701",
   "metadata": {},
   "source": [
    "result, peaks, diff_sig_2 = get_peaks(preprocessed[0])"
   ]
  },
  {
   "cell_type": "code",
   "execution_count": 7,
   "id": "084bc4dc-51cb-4e42-b480-cfdd25e40207",
   "metadata": {},
   "outputs": [
    {
     "name": "stdout",
     "output_type": "stream",
     "text": [
      "{'PPG_Peaks': array([ 110,  235,  362,  483,  601,  721,  837,  953, 1075, 1190, 1311,\n",
      "       1430, 1534, 2008, 2094, 2199, 2313, 2432, 2818, 2951, 3067, 3191,\n",
      "       3315, 3436, 3550, 3665, 3783, 3894, 4005, 4121, 4241, 4358, 4484,\n",
      "       4604, 4723, 4846, 4962, 5082, 5203, 5318, 5442, 5811, 5929, 6044,\n",
      "       6167, 6558, 6681, 6779, 6895, 7004, 7110, 7218, 7321, 7550])}\n"
     ]
    },
    {
     "data": {
      "image/png": "[encoded data removed]",
      "text/plain": [
       "<Figure size 432x288 with 2 Axes>"
      ]
     },
     "metadata": {
      "needs_background": "light"
     },
     "output_type": "display_data"
    }
   ],
   "source": [
    "result = findpeaks(preprocessed[0], sampling_rate=128, show=True)\n",
    "print(result)"
   ]
  },
  {
   "cell_type": "code",
   "execution_count": 8,
   "id": "0dc97e0c-81ee-4198-8c5e-96328e822ecb",
   "metadata": {},
   "outputs": [
    {
     "name": "stdout",
     "output_type": "stream",
     "text": [
      "{'PPG_Peaks': array([ 110,  235,  362,  483,  601,  721,  837,  953, 1075, 1190, 1311,\n",
      "       1430, 1534, 2008, 2094, 2199, 2313, 2432, 2818, 2951, 3067, 3191,\n",
      "       3315, 3436, 3550, 3665, 3783, 3894, 4005, 4121, 4241, 4358, 4484,\n",
      "       4604, 4723, 4846, 4962, 5082, 5203, 5318, 5442, 5811, 5929, 6044,\n",
      "       6167, 6558, 6681, 6779, 6895, 7004, 7110, 7218, 7321, 7550])} 7680\n"
     ]
    }
   ],
   "source": [
    "print(result, len(preprocessed[0]))"
   ]
  },
  {
   "cell_type": "raw",
   "id": "795be124-0924-467d-b1bd-cdfb155c044c",
   "metadata": {},
   "source": [
    "segmented = []\n",
    "for PPG in preprocessed:\n",
    "    for index in result['PPG_Peaks']:\n",
    "        if index > 60:\n",
    "            segment = PPG[index-60:index+60]\n",
    "        else:\n",
    "            segment = PPG[0:index+60]\n",
    "            \n",
    "        if len(segment) == 120:\n",
    "            segmented.append(segment)"
   ]
  },
  {
   "cell_type": "raw",
   "id": "99968299-cdfd-4b65-9f4f-e44b0c1cea25",
   "metadata": {},
   "source": [
    "PPG = preprocessed[0]\n",
    "result = findpeaks(preprocessed[0], sampling_rate=128)\n",
    "print(len(PPG))\n",
    "a = result['PPG_Peaks']\n",
    "print(len(a))\n",
    "\n",
    "for i in range(0,22):\n",
    "    plt.figure(figsize=(70,35))\n",
    "    for PPG in preprocessed[i*40:(i*40)+40]:\n",
    "        result = findpeaks(PPG, sampling_rate=128)\n",
    "        a = result['PPG_Peaks']\n",
    "        for idx in a:\n",
    "            a = idx\n",
    "            seg = PPG[a-70:a+70]\n",
    "            times = list(range(0,len(seg)))\n",
    "            plt.plot(times, seg)\n",
    "    person_num = i\n",
    "    plt.savefig(f'segmented_data1seconds/{person_num}.png', bbox_inches='tight')\n",
    "    plt.show()\n",
    "    plt.close()\n",
    "    print(i,\"done\")"
   ]
  },
  {
   "cell_type": "raw",
   "id": "1d894974-8db1-4913-bba1-9e5a477efd1c",
   "metadata": {},
   "source": [
    "for i in range(0,22):\n",
    "    plt.figure(figsize=(70,35))\n",
    "    times = list(range(0,140))\n",
    "    \n",
    "    for PPG in normalized[i*40:(i*40)+40]:\n",
    "        result = findpeaks(PPG, sampling_rate=128)\n",
    "        a = result['PPG_Peaks']\n",
    "        for idx in a:\n",
    "            a = idx\n",
    "            if a > 70:\n",
    "                seg = PPG[a-70:a+70]\n",
    "                times = list(range(0,len(seg)))\n",
    "            else:\n",
    "                seg = PPG[0:a+70]\n",
    "                times = list(range(0,len(seg)))\n",
    "            if len(seg) == 140:\n",
    "                plt.plot(times, seg)\n",
    "    \n",
    "    person_num = i\n",
    "    plt.savefig(f'segmented_data1seconds/{person_num}.png', bbox_inches='tight')\n",
    "    plt.show()\n",
    "    plt.close()\n",
    "    print(i,\"done\")"
   ]
  },
  {
   "cell_type": "code",
   "execution_count": 10,
   "id": "174ab8ec-5843-40b0-9de0-b05872b5a110",
   "metadata": {},
   "outputs": [
    {
     "ename": "IndexError",
     "evalue": "index 0 is out of bounds for axis 0 with size 0",
     "output_type": "error",
     "traceback": [
      "\u001b[0;31m---------------------------------------------------------------------------\u001b[0m",
      "\u001b[0;31mIndexError\u001b[0m                                Traceback (most recent call last)",
      "Input \u001b[0;32mIn [10]\u001b[0m, in \u001b[0;36m<cell line: 5>\u001b[0;34m()\u001b[0m\n\u001b[1;32m      6\u001b[0m \u001b[38;5;28;01mfor\u001b[39;00m PPG \u001b[38;5;129;01min\u001b[39;00m normalized:\n\u001b[1;32m      8\u001b[0m     tmp \u001b[38;5;241m=\u001b[39m []\n\u001b[0;32m----> 9\u001b[0m     result \u001b[38;5;241m=\u001b[39m \u001b[43mfindpeaks\u001b[49m\u001b[43m(\u001b[49m\u001b[43mPPG\u001b[49m\u001b[43m,\u001b[49m\u001b[43m \u001b[49m\u001b[43msampling_rate\u001b[49m\u001b[38;5;241;43m=\u001b[39;49m\u001b[38;5;241;43m128\u001b[39;49m\u001b[43m)\u001b[49m\n\u001b[1;32m     10\u001b[0m     a \u001b[38;5;241m=\u001b[39m result[\u001b[38;5;124m'\u001b[39m\u001b[38;5;124mPPG_Peaks\u001b[39m\u001b[38;5;124m'\u001b[39m]\n\u001b[1;32m     11\u001b[0m     \u001b[38;5;28;01mfor\u001b[39;00m idx \u001b[38;5;129;01min\u001b[39;00m a:\n",
      "File \u001b[0;32m~/anaconda3/envs/EmotionRecognition/lib/python3.8/site-packages/neurokit2/ppg/ppg_findpeaks.py:59\u001b[0m, in \u001b[0;36mppg_findpeaks\u001b[0;34m(ppg_cleaned, sampling_rate, method, show)\u001b[0m\n\u001b[1;32m     57\u001b[0m method \u001b[38;5;241m=\u001b[39m method\u001b[38;5;241m.\u001b[39mlower()\n\u001b[1;32m     58\u001b[0m \u001b[38;5;28;01mif\u001b[39;00m method \u001b[38;5;129;01min\u001b[39;00m [\u001b[38;5;124m\"\u001b[39m\u001b[38;5;124melgendi\u001b[39m\u001b[38;5;124m\"\u001b[39m]:\n\u001b[0;32m---> 59\u001b[0m     peaks \u001b[38;5;241m=\u001b[39m \u001b[43m_ppg_findpeaks_elgendi\u001b[49m\u001b[43m(\u001b[49m\u001b[43mppg_cleaned\u001b[49m\u001b[43m,\u001b[49m\u001b[43m \u001b[49m\u001b[43msampling_rate\u001b[49m\u001b[43m,\u001b[49m\u001b[43m \u001b[49m\u001b[43mshow\u001b[49m\u001b[38;5;241;43m=\u001b[39;49m\u001b[43mshow\u001b[49m\u001b[43m)\u001b[49m\n\u001b[1;32m     60\u001b[0m \u001b[38;5;28;01melse\u001b[39;00m:\n\u001b[1;32m     61\u001b[0m     \u001b[38;5;28;01mraise\u001b[39;00m \u001b[38;5;167;01mValueError\u001b[39;00m(\u001b[38;5;124m\"\u001b[39m\u001b[38;5;124mNeurokit error: Please use one of the following\u001b[39m\u001b[38;5;124m\"\u001b[39m \u001b[38;5;124m\"\u001b[39m\u001b[38;5;124m methods: \u001b[39m\u001b[38;5;124m'\u001b[39m\u001b[38;5;124melgendi\u001b[39m\u001b[38;5;124m'\u001b[39m\u001b[38;5;124m.\u001b[39m\u001b[38;5;124m\"\u001b[39m)\n",
      "File \u001b[0;32m~/anaconda3/envs/EmotionRecognition/lib/python3.8/site-packages/neurokit2/ppg/ppg_findpeaks.py:110\u001b[0m, in \u001b[0;36m_ppg_findpeaks_elgendi\u001b[0;34m(signal, sampling_rate, peakwindow, beatwindow, beatoffset, mindelay, show)\u001b[0m\n\u001b[1;32m    108\u001b[0m end_waves \u001b[38;5;241m=\u001b[39m np\u001b[38;5;241m.\u001b[39mwhere(np\u001b[38;5;241m.\u001b[39mlogical_and(waves[\u001b[38;5;241m0\u001b[39m:\u001b[38;5;241m-\u001b[39m\u001b[38;5;241m1\u001b[39m], np\u001b[38;5;241m.\u001b[39mlogical_not(waves[\u001b[38;5;241m1\u001b[39m:])))[\u001b[38;5;241m0\u001b[39m]\n\u001b[1;32m    109\u001b[0m \u001b[38;5;66;03m# Throw out wave-ends that precede first wave-start.\u001b[39;00m\n\u001b[0;32m--> 110\u001b[0m end_waves \u001b[38;5;241m=\u001b[39m end_waves[end_waves \u001b[38;5;241m>\u001b[39m \u001b[43mbeg_waves\u001b[49m\u001b[43m[\u001b[49m\u001b[38;5;241;43m0\u001b[39;49m\u001b[43m]\u001b[49m]\n\u001b[1;32m    112\u001b[0m \u001b[38;5;66;03m# Identify systolic peaks within waves (ignore waves that are too short).\u001b[39;00m\n\u001b[1;32m    113\u001b[0m num_waves \u001b[38;5;241m=\u001b[39m \u001b[38;5;28mmin\u001b[39m(beg_waves\u001b[38;5;241m.\u001b[39msize, end_waves\u001b[38;5;241m.\u001b[39msize)\n",
      "\u001b[0;31mIndexError\u001b[0m: index 0 is out of bounds for axis 0 with size 0"
     ]
    }
   ],
   "source": [
    "segmented = []\n",
    "index = 0\n",
    "cal= 0\n",
    "\n",
    "for i in range(0,21):\n",
    "    for PPG in normalized:\n",
    "\n",
    "        tmp = []\n",
    "        result = findpeaks(PPG, sampling_rate=128)\n",
    "        a = result['PPG_Peaks']\n",
    "        for idx in a:\n",
    "            a = idx\n",
    "            if a > 70:\n",
    "                seg = PPG[a-70:a+70]\n",
    "                times = list(range(0,len(seg)))\n",
    "            else:\n",
    "                seg = PPG[0:a+70]\n",
    "                times = list(range(0,len(seg)))\n",
    "            if len(seg) == 140:\n",
    "                cal+=1\n",
    "                tmp.append(seg)\n",
    "\n",
    "        segmented.append(tmp)\n",
    "        index += 1"
   ]
  },
  {
   "cell_type": "code",
   "execution_count": null,
   "id": "6fdbd326-c471-49e4-9d56-1a85bccacc14",
   "metadata": {},
   "outputs": [],
   "source": [
    "\n",
    "\n",
    "normalized = []\n",
    "index = 0\n",
    "idx = 0\n",
    "tmp = []\n",
    "valence_data = []\n",
    "arousal_data = []\n",
    "for PPG in segmented:\n",
    "    for segment in PPG:\n",
    "        tmp.append(segment)\n",
    "    if index == 39:\n",
    "        tmp = np.array(tmp)\n",
    "        print(tmp.shape)\n",
    "        scaler = MinMaxScaler(feature_range=(0,1))\n",
    "        norm = scaler.fit_transform(tmp) * 1000\n",
    "        for i in norm:\n",
    "            normalized.append(i)\n",
    "            # valence_data.append(Valence_data[idx])\n",
    "            # arousal_data.append(Arousal_data[idx])\n",
    "        index = 0\n",
    "        tmp = []\n",
    "    index+=1\n",
    "    idx += 1"
   ]
  },
  {
   "cell_type": "code",
   "execution_count": null,
   "id": "d5a833fc-08cb-45d6-a33b-f907fba31047",
   "metadata": {},
   "outputs": [],
   "source": [
    "print(normalized[0])\n",
    "print(len(normalized[0]))"
   ]
  },
  {
   "cell_type": "code",
   "execution_count": null,
   "id": "0d7b5eb2-839d-462c-a107-e4ce2bea1009",
   "metadata": {},
   "outputs": [],
   "source": [
    "print(len(normalized))"
   ]
  },
  {
   "cell_type": "code",
   "execution_count": null,
   "id": "6e90113a-294a-4d21-8150-412334f56edd",
   "metadata": {},
   "outputs": [],
   "source": [
    "for i in range(0,22):\n",
    "    plt.figure(figsize=(70,35))\n",
    "    times = list(range(0,140))\n",
    "    \n",
    "    for PPG in normalized[i*40:(i*40)+40]:\n",
    "        plt.plot(times, PPG)\n",
    "    \n",
    "    person_num = i\n",
    "    plt.savefig(f'segmented_data1seconds/normalized/{person_num}.png', bbox_inches='tight')\n",
    "    plt.show()\n",
    "    plt.close()\n",
    "    print(i,\"done\")"
   ]
  },
  {
   "cell_type": "code",
   "execution_count": null,
   "id": "59ee2b26-fe20-4d6a-9af0-844759aaeb37",
   "metadata": {},
   "outputs": [],
   "source": [
    "train_x = normalized\n",
    "train_valence = valence_data\n",
    "train_arousal = arousal_data\n",
    "print(len(train_valence))"
   ]
  },
  {
   "cell_type": "code",
   "execution_count": null,
   "id": "b9f0614b-8770-4474-ab50-b88766a65009",
   "metadata": {},
   "outputs": [],
   "source": [
    "x_train_data = np.array(train_x).astype(np.float64)\n",
    "y_train_data = np.array(train_valence).astype(np.float64)\n",
    "print(x_train_data.shape, y_train_data.shape)\n",
    "\n",
    "# normalize train data\n",
    "# nsamples, nx, ny = x_train_data.shape\n",
    "# train_dataset = x_train_data.reshape((nsamples,nx*ny))\n",
    "# scaler = MinMaxScaler(feat\n",
    "# transform(x_train_data)\n",
    "\n",
    "X_train = x_train_data.reshape((x_train_data.shape[0], x_train_data.shape[1], 1))\n",
    "Y_train = y_train_data.reshape((y_train_data.shape[0],1))\n",
    "\n",
    "print(f\"X_train shape : {X_train.shape}, Y_train shape : {Y_train.shape}\")"
   ]
  },
  {
   "cell_type": "code",
   "execution_count": null,
   "id": "a025aa80-f5e3-4f38-9980-63b59eac3437",
   "metadata": {},
   "outputs": [],
   "source": [
    "# Set Hyperparameters of the model\n",
    "learning_rate = 0.0001\n",
    "epochs = 50\n",
    "batch_size=128"
   ]
  },
  {
   "cell_type": "code",
   "execution_count": null,
   "id": "917d20c5-d4f7-462b-a1e6-6150b55bbaa4",
   "metadata": {},
   "outputs": [],
   "source": [
    "import tensorflow as tf\n",
    "tf.config.experimental_run_functions_eagerly(True)\n",
    "from tensorflow import keras\n",
    "from tensorflow.keras import layers, callbacks\n",
    "# from tensorflow.keras import Sequential\n",
    "from tensorflow.keras.optimizers import RMSprop, Adam\n",
    "from tensorflow.keras.layers import Dense, Flatten, Dropout,BatchNormalization, Conv1D,MaxPooling1D\n",
    "from tensorflow.keras.models import Sequential\n",
    "from sklearn.preprocessing import MinMaxScaler\n",
    "from sklearn.preprocessing import StandardScaler\n",
    "from sklearn.model_selection import train_test_split"
   ]
  },
  {
   "cell_type": "code",
   "execution_count": null,
   "id": "207eda12-ab6b-434d-ae42-fb99703609a3",
   "metadata": {},
   "outputs": [],
   "source": [
    "gpus = tf.config.experimental.list_physical_devices('GPU')\n",
    "if gpus:\n",
    "  # Restrict TensorFlow to only allocate 2 GB of memory on the first GPU\n",
    "  try:\n",
    "    tf.config.experimental.set_virtual_device_configuration(\n",
    "        gpus[0],\n",
    "        [tf.config.experimental.VirtualDeviceConfiguration(memory_limit=3000)]) # limit in megabytes\n",
    "    logical_gpus = tf.config.experimental.list_logical_devices('GPU')\n",
    "    print(len(gpus), \"Physical GPUs,\", len(logical_gpus), \"Logical GPUs\")\n",
    "  except RuntimeError as e:\n",
    "    # Virtual devices must be set before GPUs have been initialized\n",
    "    print(e)"
   ]
  },
  {
   "cell_type": "raw",
   "id": "b075485b-7fc8-41c2-8b3f-8ba71b7cab4a",
   "metadata": {},
   "source": [
    "model = Sequential()\n",
    "model.add(Conv1D(filters = 10, kernel_size = 2, strides = 1, input_shape = (140, 1), activation = 'relu'))\n",
    "# model.add(BatchNormalization())\n",
    "model.add(MaxPooling1D(pool_size=2, strides=1, padding='valid'))#\n",
    "model.add(BatchNormalization())\n",
    "model.add(Conv1D(filters = 20, kernel_size = 2, strides = 1, activation = 'relu'))\n",
    "# model.add(BatchNormalization())\n",
    "model.add(MaxPooling1D(pool_size=2, strides=1, padding='valid'))#\n",
    "model.add(BatchNormalization())\n",
    "model.add(Flatten())\n",
    "model.add(Dense(700))\n",
    "model.add(Dropout(0.3))\n",
    "model.add(Dense(600))\n",
    "model.add(Dropout(0.3))\n",
    "model.add(Dense(1, activation='sigmoid'))\n",
    "\n",
    "model.compile(loss='binary_crossentropy', optimizer=Adam(lr=learning_rate), metrics=['acc'])\n",
    "\n",
    "model.summary()"
   ]
  },
  {
   "cell_type": "raw",
   "id": "30055702-ff87-467f-81c1-2f9ffe11aa66",
   "metadata": {},
   "source": [
    "from tensorflow.keras import optimizers\n",
    "from tensorflow.keras.layers import Activation\n",
    "def CNN_baseline2():\n",
    "    \n",
    "    model = Sequential()\n",
    "    \n",
    "    model.add(Conv1D(20, input_shape=(X_train.shape[1], X_train.shape[2]), kernel_size=2, strides=1, padding='same'))\n",
    "    model.add(Activation('relu'))\n",
    "    \n",
    "    model.add(Conv1D(40, kernel_size=2, strides=1, padding='same'))\n",
    "    model.add(Activation('relu'))\n",
    "    \n",
    "    model.add(Flatten())\n",
    "    \n",
    "    model.add(Dense(128))\n",
    "    model.add(Activation('relu'))\n",
    "    \n",
    "    model.add(Dense(64))\n",
    "    model.add(Activation('relu'))\n",
    "    \n",
    "    model.add(Dense(32))\n",
    "    model.add(Activation('relu'))\n",
    "    \n",
    "    model.add(Dense(1))\n",
    "    model.add(Activation('sigmoid'))\n",
    "    \n",
    "    adam = optimizers.Adam(lr = 0.001)\n",
    "    \n",
    "    model.compile(optimizer=adam, loss='binary_crossentropy', metrics=['acc'])\n",
    "    \n",
    "    model.summary()\n",
    "    \n",
    "    return model"
   ]
  },
  {
   "cell_type": "code",
   "execution_count": null,
   "id": "ea73a1d5-a86f-400f-a1e0-9a03ec5071c4",
   "metadata": {},
   "outputs": [],
   "source": [
    "import random\n",
    "from tensorflow.keras.initializers import glorot_uniform\n",
    "seed = 12345\n",
    "np.random.seed(seed)\n",
    "random.seed(seed)\n",
    "\n",
    "def create_model():\n",
    "    model = Sequential()\n",
    "    model.add(Conv1D(16, 2, activation = 'relu', input_shape=(X_train.shape[1], X_train.shape[2]), kernel_initializer = glorot_uniform(seed = seed)))\n",
    "    model.add(BatchNormalization())       \n",
    "    model.add(Flatten())\n",
    "    model.add(Dropout(0.5))\n",
    "    model.add(Dense(16, activation = 'relu', kernel_initializer = glorot_uniform(seed = seed)))\n",
    "    model.add(BatchNormalization())\n",
    "    model.add(Dropout(0.5))\n",
    "    model.add(Dense(1, activation = 'sigmoid', kernel_initializer = glorot_uniform(seed = seed)))\n",
    "    model.compile(loss = 'binary_crossentropy', optimizer = Adam(lr=0.0005), metrics = ['accuracy'])\n",
    "    #print(model.summary())\n",
    "\n",
    "    return model"
   ]
  },
  {
   "cell_type": "code",
   "execution_count": null,
   "id": "6e899315-bfcf-4964-a7fe-eb80e9c9bbf6",
   "metadata": {},
   "outputs": [],
   "source": [
    "model = create_model()"
   ]
  },
  {
   "cell_type": "code",
   "execution_count": null,
   "id": "74d10e93-5e96-4b06-91a8-b13bb6e31e1d",
   "metadata": {},
   "outputs": [],
   "source": [
    "history=model.fit(X_train,\n",
    "                  Y_train,\n",
    "                  epochs=epochs,\n",
    "                  batch_size=batch_size,\n",
    "                  validation_split=0.2,\n",
    "                  shuffle=True,\n",
    "                  verbose=1)"
   ]
  },
  {
   "cell_type": "code",
   "execution_count": null,
   "id": "05184671-ff6c-4101-a20b-ec91d86b77a7",
   "metadata": {},
   "outputs": [],
   "source": [
    "plt_performance(history,path='./plot_performance',filename='1DCNN_performance6')"
   ]
  },
  {
   "cell_type": "raw",
   "id": "ded6f641-4087-47cc-aaf9-36414f260a62",
   "metadata": {},
   "source": [
    "from tensorflow.keras.layers import LSTM, GRU\n",
    "\n",
    "\n",
    "# one GRU layers with three dense layers-> IT WORKS !\n",
    "model1 = Sequential()\n",
    "model1.add(GRU(units=256,\n",
    "              dropout=0.25,\n",
    "              recurrent_dropout=0.25,\n",
    "              return_sequences=False,\n",
    "              input_shape=X_train[0].shape))\n",
    "\n",
    "# Dense net\n",
    "model1.add(Dense(512, activation='relu'))\n",
    "model1.add(Dropout(0.2))\n",
    "model1.add(Dense(256, activation='relu'))\n",
    "model1.add(Dropout(0.2))\n",
    "model1.add(Dense(1, activation='sigmoid'))\n",
    "\n",
    "callback_list = [tf.keras.callbacks.ModelCheckpoint(filepath='BinaryClassification_Dense3-callback.h5', monitor='val_accuracy', save_best_only=True),\n",
    "                tf.keras.callbacks.EarlyStopping(patience=30)]\n",
    "\n",
    "model1.compile(loss='binary_crossentropy', optimizer=Adam(lr=0.001), metrics=['acc'])\n",
    "model1.summary()"
   ]
  },
  {
   "cell_type": "raw",
   "id": "29edc226-f1b0-4b58-88d5-f0b93c6c6874",
   "metadata": {},
   "source": [
    "history2=model1.fit(X_train,\n",
    "                  Y_train,\n",
    "                  epochs=epochs,\n",
    "                  batch_size=batch_size,\n",
    "                  validation_split=0.2,\n",
    "                  callbacks=callback_list,\n",
    "                  shuffle=True,\n",
    "                  verbose=1)"
   ]
  },
  {
   "cell_type": "raw",
   "id": "8fd22432-803d-49d3-9b5b-577884f24cd4",
   "metadata": {},
   "source": [
    "plt_performance(history2,path='./plot_performance',filename='GRU_performance4')"
   ]
  },
  {
   "cell_type": "code",
   "execution_count": null,
   "id": "6784f169-97d5-4e33-a7b2-3664fca5d313",
   "metadata": {},
   "outputs": [],
   "source": []
  }
 ],
 "metadata": {
  "kernelspec": {
   "display_name": "Python 3",
   "language": "python",
   "name": "python3"
  },
  "language_info": {
   "codemirror_mode": {
    "name": "ipython",
    "version": 3
   },
   "file_extension": ".py",
   "mimetype": "text/x-python",
   "name": "python",
   "nbconvert_exporter": "python",
   "pygments_lexer": "ipython3",
   "version": "3.8.13"
  }
 },
 "nbformat": 4,
 "nbformat_minor": 5
}
