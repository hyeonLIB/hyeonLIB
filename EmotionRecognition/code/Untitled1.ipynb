{
 "cells": [
  {
   "cell_type": "markdown",
   "metadata": {},
   "source": [
    "# IMPORT LIBRARIES"
   ]
  },
  {
   "cell_type": "code",
   "execution_count": 1,
   "metadata": {},
   "outputs": [],
   "source": [
    "import os\n",
    "import pickle\n",
    "\n",
    "import numpy as np\n",
    "import seaborn as sns\n",
    "import pandas as pd\n",
    "import scipy\n",
    "from matplotlib import pyplot as plt\n",
    "\n",
    "import tensorflow as tf\n",
    "from tensorflow import keras\n",
    "from tensorflow.keras import Sequential, layers, callbacks\n",
    "from tensorflow.keras.layers import Dense, LSTM, Dropout, GRU, Bidirectional\n",
    "from tensorflow.keras.optimizers import RMSprop, Adam\n",
    "\n",
    "from sklearn.preprocessing import MinMaxScaler\n",
    "from sklearn.preprocessing import StandardScaler\n",
    "from sklearn.model_selection import train_test_split\n",
    "\n",
    "from IPython.core.pylabtools import figsize"
   ]
  },
  {
   "cell_type": "markdown",
   "metadata": {},
   "source": [
    "## LOAD DATA(FEATURES_2)"
   ]
  },
  {
   "cell_type": "code",
   "execution_count": 7,
   "metadata": {},
   "outputs": [
    {
     "name": "stdout",
     "output_type": "stream",
     "text": [
      "4800 4800\n"
     ]
    }
   ],
   "source": [
    "Y_data = np.loadtxt(path+file_labels, delimiter=',', skiprows=1, usecols=range(1,3))\n",
    "\n",
    "\n",
    "dir_list_ = os.listdir(\"/tmp/elias/emotion_recognition/data\")\n",
    "dir_list_.sort()\n",
    "count = 0\n",
    "dir_list = []\n",
    "dir_list_.pop(0)\n",
    "\n",
    "for i in range(20):\n",
    "    dir_list.append(dir_list_[i])\n",
    "PPG_data = []\n",
    "\n",
    "for file in dir_list:\n",
    "    dat_file = '/tmp/elias/emotion_recognition/data/' + file\n",
    "    with open(dat_file, 'rb') as f:\n",
    "        Channel_data =pickle.load(f,encoding='latin1')\n",
    "    data = Channel_data[\"data\"]\n",
    "    labels = Channel_data[\"labels\"]\n",
    "    for num_video in range(40):\n",
    "        dataP = data[num_video,38]\n",
    "        PPG_data.append(dataP[384:])\n",
    "\n"
   ]
  },
  {
   "cell_type": "code",
   "execution_count": null,
   "metadata": {},
   "outputs": [],
   "source": [
    "        \n",
    "        \n",
    "# time step\n",
    "# window = 6\n",
    "# window = 240\n",
    "\n",
    "count = 0\n",
    "train_data = []\n",
    "label=[]\n",
    "\n",
    "# # There's something wrong in label\n",
    "# for PPG in X_data:\n",
    "#     for i in range(window,len(X_data)+window):\n",
    "#         label.append(Y_data[count])\n",
    "#         train_data.append(X_data[i-window:i])\n",
    "#     count += 1\n",
    "    \n",
    "seq_length = 1280\n",
    "dataX=[]\n",
    "dataY=[]\n",
    "# seq_length = 240\n",
    "for i in range(0, int(len(X_data)/seq_length)):\n",
    "   _x = X_data[(i*seq_length):(i*seq_length) + seq_length]\n",
    "   dataX.append(_x)\n",
    "   _y = Y_data[(i*seq_length) + seq_length-1]\n",
    "   dataY.append(_y)\n",
    "    \n",
    "train_data = dataX\n",
    "label = dataY"
   ]
  },
  {
   "cell_type": "code",
   "execution_count": 8,
   "metadata": {},
   "outputs": [
    {
     "name": "stdout",
     "output_type": "stream",
     "text": [
      "800 6 12\n"
     ]
    }
   ],
   "source": [
    "x=train_data[0]\n",
    "print(len(train_data),len(x),len(x[0]))\n",
    "# for i in range(5000):\n",
    "#     k = labels_Vdata[i]\n",
    "#     if k[1] < 1:\n",
    "#         print(k)\n",
    "#     else:\n",
    "#         print(\"d\")"
   ]
  },
  {
   "cell_type": "markdown",
   "metadata": {},
   "source": [
    "## ASSIGN GPU memory"
   ]
  },
  {
   "cell_type": "code",
   "execution_count": 4,
   "metadata": {},
   "outputs": [
    {
     "name": "stdout",
     "output_type": "stream",
     "text": [
      "1 Physical GPUs, 1 Logical GPUs\n"
     ]
    },
    {
     "name": "stderr",
     "output_type": "stream",
     "text": [
      "2022-02-11 15:41:59.411757: I tensorflow/stream_executor/platform/default/dso_loader.cc:44] Successfully opened dynamic library libcuda.so.1\n",
      "2022-02-11 15:41:59.458757: I tensorflow/core/common_runtime/gpu/gpu_device.cc:1555] Found device 0 with properties: \n",
      "pciBusID: 0000:02:00.0 name: NVIDIA GeForce RTX 2080 Ti computeCapability: 7.5\n",
      "coreClock: 1.545GHz coreCount: 68 deviceMemorySize: 10.76GiB deviceMemoryBandwidth: 573.69GiB/s\n",
      "2022-02-11 15:41:59.459013: I tensorflow/stream_executor/platform/default/dso_loader.cc:44] Successfully opened dynamic library libcudart.so.10.1\n",
      "2022-02-11 15:41:59.461152: I tensorflow/stream_executor/platform/default/dso_loader.cc:44] Successfully opened dynamic library libcublas.so.10\n",
      "2022-02-11 15:41:59.462845: I tensorflow/stream_executor/platform/default/dso_loader.cc:44] Successfully opened dynamic library libcufft.so.10\n",
      "2022-02-11 15:41:59.463164: I tensorflow/stream_executor/platform/default/dso_loader.cc:44] Successfully opened dynamic library libcurand.so.10\n",
      "2022-02-11 15:41:59.465402: I tensorflow/stream_executor/platform/default/dso_loader.cc:44] Successfully opened dynamic library libcusolver.so.10\n",
      "2022-02-11 15:41:59.466450: I tensorflow/stream_executor/platform/default/dso_loader.cc:44] Successfully opened dynamic library libcusparse.so.10\n",
      "2022-02-11 15:41:59.470829: I tensorflow/stream_executor/platform/default/dso_loader.cc:44] Successfully opened dynamic library libcudnn.so.7\n",
      "2022-02-11 15:41:59.472316: I tensorflow/core/common_runtime/gpu/gpu_device.cc:1697] Adding visible gpu devices: 0\n",
      "2022-02-11 15:41:59.473691: I tensorflow/core/platform/cpu_feature_guard.cc:142] Your CPU supports instructions that this TensorFlow binary was not compiled to use: SSE4.1 SSE4.2 AVX AVX2 FMA\n",
      "2022-02-11 15:41:59.500288: I tensorflow/core/platform/profile_utils/cpu_utils.cc:94] CPU Frequency: 2099990000 Hz\n",
      "2022-02-11 15:41:59.502919: I tensorflow/compiler/xla/service/service.cc:168] XLA service 0x55ec3b3d1020 initialized for platform Host (this does not guarantee that XLA will be used). Devices:\n",
      "2022-02-11 15:41:59.502951: I tensorflow/compiler/xla/service/service.cc:176]   StreamExecutor device (0): Host, Default Version\n",
      "2022-02-11 15:41:59.504478: I tensorflow/core/common_runtime/gpu/gpu_device.cc:1555] Found device 0 with properties: \n",
      "pciBusID: 0000:02:00.0 name: NVIDIA GeForce RTX 2080 Ti computeCapability: 7.5\n",
      "coreClock: 1.545GHz coreCount: 68 deviceMemorySize: 10.76GiB deviceMemoryBandwidth: 573.69GiB/s\n",
      "2022-02-11 15:41:59.504543: I tensorflow/stream_executor/platform/default/dso_loader.cc:44] Successfully opened dynamic library libcudart.so.10.1\n",
      "2022-02-11 15:41:59.504578: I tensorflow/stream_executor/platform/default/dso_loader.cc:44] Successfully opened dynamic library libcublas.so.10\n",
      "2022-02-11 15:41:59.504609: I tensorflow/stream_executor/platform/default/dso_loader.cc:44] Successfully opened dynamic library libcufft.so.10\n",
      "2022-02-11 15:41:59.504640: I tensorflow/stream_executor/platform/default/dso_loader.cc:44] Successfully opened dynamic library libcurand.so.10\n",
      "2022-02-11 15:41:59.504672: I tensorflow/stream_executor/platform/default/dso_loader.cc:44] Successfully opened dynamic library libcusolver.so.10\n",
      "2022-02-11 15:41:59.504702: I tensorflow/stream_executor/platform/default/dso_loader.cc:44] Successfully opened dynamic library libcusparse.so.10\n",
      "2022-02-11 15:41:59.504734: I tensorflow/stream_executor/platform/default/dso_loader.cc:44] Successfully opened dynamic library libcudnn.so.7\n",
      "2022-02-11 15:41:59.507335: I tensorflow/core/common_runtime/gpu/gpu_device.cc:1697] Adding visible gpu devices: 0\n",
      "2022-02-11 15:41:59.507403: I tensorflow/stream_executor/platform/default/dso_loader.cc:44] Successfully opened dynamic library libcudart.so.10.1\n",
      "2022-02-11 15:41:59.723426: I tensorflow/core/common_runtime/gpu/gpu_device.cc:1096] Device interconnect StreamExecutor with strength 1 edge matrix:\n",
      "2022-02-11 15:41:59.723460: I tensorflow/core/common_runtime/gpu/gpu_device.cc:1102]      0 \n",
      "2022-02-11 15:41:59.723470: I tensorflow/core/common_runtime/gpu/gpu_device.cc:1115] 0:   N \n",
      "2022-02-11 15:41:59.726595: I tensorflow/core/common_runtime/gpu/gpu_device.cc:1241] Created TensorFlow device (/job:localhost/replica:0/task:0/device:GPU:0 with 4000 MB memory) -> physical GPU (device: 0, name: NVIDIA GeForce RTX 2080 Ti, pci bus id: 0000:02:00.0, compute capability: 7.5)\n",
      "2022-02-11 15:41:59.729495: I tensorflow/compiler/xla/service/service.cc:168] XLA service 0x55ec38737330 initialized for platform CUDA (this does not guarantee that XLA will be used). Devices:\n",
      "2022-02-11 15:41:59.729535: I tensorflow/compiler/xla/service/service.cc:176]   StreamExecutor device (0): NVIDIA GeForce RTX 2080 Ti, Compute Capability 7.5\n"
     ]
    }
   ],
   "source": [
    "gpus = tf.config.experimental.list_physical_devices('GPU')\n",
    "if gpus:\n",
    "  # Restrict TensorFlow to only allocate 2 GB of memory on the first GPU\n",
    "  try:\n",
    "    tf.config.experimental.set_virtual_device_configuration(\n",
    "        gpus[0],\n",
    "        [tf.config.experimental.VirtualDeviceConfiguration(memory_limit=4000)]) # limit in megabytes\n",
    "    logical_gpus = tf.config.experimental.list_logical_devices('GPU')\n",
    "    print(len(gpus), \"Physical GPUs,\", len(logical_gpus), \"Logical GPUs\")\n",
    "  except RuntimeError as e:\n",
    "    # Virtual devices must be set before GPUs have been initialized\n",
    "    print(e)"
   ]
  },
  {
   "cell_type": "markdown",
   "metadata": {},
   "source": [
    "## Reshape AND Normalize"
   ]
  },
  {
   "cell_type": "code",
   "execution_count": 11,
   "metadata": {},
   "outputs": [
    {
     "name": "stdout",
     "output_type": "stream",
     "text": [
      "(800, 6, 12) (800, 2)\n",
      "(800, 6, 12)\n",
      "(800, 2)\n"
     ]
    }
   ],
   "source": [
    "# import warnings\n",
    "# warnings.filterwarnings(\"ignore\", category=np.VisibleDeprecationWarning) \n",
    "\n",
    "x_train_data = np.array(train_data)\n",
    "y_train_data = np.array(label)\n",
    "print(np.array(train_data).shape , y_train_data.shape)\n",
    "\n",
    "# normalize data\n",
    "Train_nsamples, Train_nx, Train_ny = x_train_data.shape\n",
    "train_dataset = x_train_data.reshape((Train_nsamples,Train_nx*Train_ny))\n",
    "scaler = MinMaxScaler(feature_range=(-1, 1)) ##\n",
    "x_train_data = scaler.fit_transform(train_dataset)\n",
    "\n",
    "###\n",
    "X_train = x_train_data.reshape((Train_nsamples, Train_nx, Train_ny))\n",
    "Y_train = y_train_data.reshape((y_train_data.shape[0], 2))\n",
    "\n",
    "print(X_train.shape)\n",
    "print(Y_train.shape)"
   ]
  },
  {
   "cell_type": "markdown",
   "metadata": {},
   "source": [
    "# Build model"
   ]
  },
  {
   "cell_type": "markdown",
   "metadata": {},
   "source": [
    "  ## - Hypyer Parameters"
   ]
  },
  {
   "cell_type": "code",
   "execution_count": 12,
   "metadata": {},
   "outputs": [],
   "source": [
    "# Set Hyperparameters of the model\n",
    "learning_rate = 0.001\n",
    "epochs = 200\n",
    "batch_size=64"
   ]
  },
  {
   "cell_type": "markdown",
   "metadata": {},
   "source": [
    "  ## - Stack hidden Layers to the GRU model"
   ]
  },
  {
   "cell_type": "code",
   "execution_count": 13,
   "metadata": {},
   "outputs": [
    {
     "name": "stdout",
     "output_type": "stream",
     "text": [
      "Model: \"sequential\"\n",
      "_________________________________________________________________\n",
      "Layer (type)                 Output Shape              Param #   \n",
      "=================================================================\n",
      "gru (GRU)                    (None, 128)               54528     \n",
      "_________________________________________________________________\n",
      "dropout (Dropout)            (None, 128)               0         \n",
      "_________________________________________________________________\n",
      "dense (Dense)                (None, 256)               33024     \n",
      "_________________________________________________________________\n",
      "dropout_1 (Dropout)          (None, 256)               0         \n",
      "_________________________________________________________________\n",
      "dense_1 (Dense)              (None, 64)                16448     \n",
      "_________________________________________________________________\n",
      "dropout_2 (Dropout)          (None, 64)                0         \n",
      "_________________________________________________________________\n",
      "dense_2 (Dense)              (None, 2)                 130       \n",
      "=================================================================\n",
      "Total params: 104,130\n",
      "Trainable params: 104,130\n",
      "Non-trainable params: 0\n",
      "_________________________________________________________________\n"
     ]
    }
   ],
   "source": [
    "model = Sequential()\n",
    "model.add(GRU(units=128,\n",
    "              dropout=0.25,\n",
    "              recurrent_dropout=0.25,\n",
    "              return_sequences=False,\n",
    "              input_shape=X_train[0].shape))\n",
    "\n",
    "# Dense net\n",
    "model.add(Dropout(0.2))\n",
    "model.add(Dense(256, activation='relu'))\n",
    "model.add(Dropout(0.1))\n",
    "model.add(Dense(64, activation='relu'))\n",
    "model.add(Dropout(0.1))\n",
    "model.add(Dense(2, activation='sigmoid'))\n",
    "\n",
    "# Save highest accuracy\n",
    "callback_list = [tf.keras.callbacks.ModelCheckpoint(filepath='BinaryClassification_Dense3-callback.h5', monitor='val_accuracy', save_best_only=True),\n",
    "                tf.keras.callbacks.EarlyStopping(patience=120)]\n",
    "\n",
    "model.compile(loss='binary_crossentropy', optimizer=Adam(lr=learning_rate), metrics=['accuracy'])\n",
    "model.summary()"
   ]
  },
  {
   "cell_type": "code",
   "execution_count": 15,
   "metadata": {},
   "outputs": [
    {
     "name": "stdout",
     "output_type": "stream",
     "text": [
      "Train on 640 samples, validate on 160 samples\n",
      "Epoch 1/200\n",
      " 64/640 [==>...........................] - ETA: 15s - loss: 0.6915 - accuracy: 0.5234"
     ]
    },
    {
     "name": "stderr",
     "output_type": "stream",
     "text": [
      "2022-02-11 15:44:13.933699: I tensorflow/stream_executor/platform/default/dso_loader.cc:44] Successfully opened dynamic library libcublas.so.10\n"
     ]
    },
    {
     "name": "stdout",
     "output_type": "stream",
     "text": [
      "640/640 [==============================] - 2s 3ms/sample - loss: 0.6942 - accuracy: 0.5375 - val_loss: 0.6649 - val_accuracy: 0.6500\n",
      "Epoch 2/200\n",
      "640/640 [==============================] - 0s 283us/sample - loss: 0.6919 - accuracy: 0.5281 - val_loss: 0.6769 - val_accuracy: 0.6531\n",
      "Epoch 3/200\n",
      "640/640 [==============================] - 0s 197us/sample - loss: 0.6904 - accuracy: 0.5555 - val_loss: 0.6679 - val_accuracy: 0.6500\n",
      "Epoch 4/200\n",
      "640/640 [==============================] - 0s 215us/sample - loss: 0.6894 - accuracy: 0.5562 - val_loss: 0.6726 - val_accuracy: 0.6500\n",
      "Epoch 5/200\n",
      "640/640 [==============================] - 0s 223us/sample - loss: 0.6876 - accuracy: 0.5406 - val_loss: 0.6796 - val_accuracy: 0.6531\n",
      "Epoch 6/200\n",
      "640/640 [==============================] - 0s 204us/sample - loss: 0.6889 - accuracy: 0.5391 - val_loss: 0.6800 - val_accuracy: 0.6531\n",
      "Epoch 7/200\n",
      "640/640 [==============================] - 0s 217us/sample - loss: 0.6885 - accuracy: 0.5531 - val_loss: 0.6805 - val_accuracy: 0.6469\n",
      "Epoch 8/200\n",
      "640/640 [==============================] - 0s 204us/sample - loss: 0.6870 - accuracy: 0.5609 - val_loss: 0.6714 - val_accuracy: 0.5906\n",
      "Epoch 9/200\n",
      "640/640 [==============================] - 0s 221us/sample - loss: 0.6905 - accuracy: 0.5375 - val_loss: 0.6764 - val_accuracy: 0.6281\n",
      "Epoch 10/200\n",
      "640/640 [==============================] - 0s 210us/sample - loss: 0.6852 - accuracy: 0.5516 - val_loss: 0.6812 - val_accuracy: 0.6031\n",
      "Epoch 11/200\n",
      "640/640 [==============================] - 0s 232us/sample - loss: 0.6899 - accuracy: 0.5344 - val_loss: 0.6687 - val_accuracy: 0.6500\n",
      "Epoch 12/200\n",
      "640/640 [==============================] - 0s 236us/sample - loss: 0.6854 - accuracy: 0.5547 - val_loss: 0.6719 - val_accuracy: 0.6438\n",
      "Epoch 13/200\n",
      "640/640 [==============================] - 0s 230us/sample - loss: 0.6870 - accuracy: 0.5445 - val_loss: 0.6751 - val_accuracy: 0.6344\n",
      "Epoch 14/200\n",
      "640/640 [==============================] - 0s 232us/sample - loss: 0.6860 - accuracy: 0.5469 - val_loss: 0.6683 - val_accuracy: 0.6438\n",
      "Epoch 15/200\n",
      "640/640 [==============================] - 0s 229us/sample - loss: 0.6850 - accuracy: 0.5516 - val_loss: 0.6826 - val_accuracy: 0.5562\n",
      "Epoch 16/200\n",
      "640/640 [==============================] - 0s 259us/sample - loss: 0.6872 - accuracy: 0.5547 - val_loss: 0.6745 - val_accuracy: 0.6469\n",
      "Epoch 17/200\n",
      "640/640 [==============================] - 0s 254us/sample - loss: 0.6839 - accuracy: 0.5609 - val_loss: 0.6792 - val_accuracy: 0.6094\n",
      "Epoch 18/200\n",
      "640/640 [==============================] - 0s 238us/sample - loss: 0.6850 - accuracy: 0.5656 - val_loss: 0.6782 - val_accuracy: 0.6219\n",
      "Epoch 19/200\n",
      "640/640 [==============================] - 0s 260us/sample - loss: 0.6870 - accuracy: 0.5359 - val_loss: 0.6834 - val_accuracy: 0.5469\n",
      "Epoch 20/200\n",
      "640/640 [==============================] - 0s 233us/sample - loss: 0.6857 - accuracy: 0.5609 - val_loss: 0.6747 - val_accuracy: 0.5875\n",
      "Epoch 21/200\n",
      "640/640 [==============================] - 0s 236us/sample - loss: 0.6834 - accuracy: 0.5570 - val_loss: 0.6854 - val_accuracy: 0.5500\n",
      "Epoch 22/200\n",
      "640/640 [==============================] - 0s 269us/sample - loss: 0.6856 - accuracy: 0.5484 - val_loss: 0.6834 - val_accuracy: 0.5625\n",
      "Epoch 23/200\n",
      "640/640 [==============================] - 0s 254us/sample - loss: 0.6866 - accuracy: 0.5445 - val_loss: 0.6735 - val_accuracy: 0.6000\n",
      "Epoch 24/200\n",
      "640/640 [==============================] - 0s 223us/sample - loss: 0.6821 - accuracy: 0.5578 - val_loss: 0.6774 - val_accuracy: 0.6125\n",
      "Epoch 25/200\n",
      "640/640 [==============================] - 0s 257us/sample - loss: 0.6891 - accuracy: 0.5500 - val_loss: 0.6845 - val_accuracy: 0.5938\n",
      "Epoch 26/200\n",
      "640/640 [==============================] - 0s 248us/sample - loss: 0.6849 - accuracy: 0.5445 - val_loss: 0.6760 - val_accuracy: 0.6313\n",
      "Epoch 27/200\n",
      "640/640 [==============================] - 0s 220us/sample - loss: 0.6830 - accuracy: 0.5672 - val_loss: 0.6764 - val_accuracy: 0.6500\n",
      "Epoch 28/200\n",
      "640/640 [==============================] - 0s 244us/sample - loss: 0.6861 - accuracy: 0.5633 - val_loss: 0.6867 - val_accuracy: 0.5437\n",
      "Epoch 29/200\n",
      "640/640 [==============================] - 0s 241us/sample - loss: 0.6858 - accuracy: 0.5641 - val_loss: 0.6863 - val_accuracy: 0.5188\n",
      "Epoch 30/200\n",
      "640/640 [==============================] - 0s 252us/sample - loss: 0.6843 - accuracy: 0.5492 - val_loss: 0.6802 - val_accuracy: 0.5625\n",
      "Epoch 31/200\n",
      "640/640 [==============================] - 0s 239us/sample - loss: 0.6851 - accuracy: 0.5688 - val_loss: 0.6766 - val_accuracy: 0.5750\n",
      "Epoch 32/200\n",
      "640/640 [==============================] - 0s 251us/sample - loss: 0.6822 - accuracy: 0.5508 - val_loss: 0.6758 - val_accuracy: 0.5813\n",
      "Epoch 33/200\n",
      "640/640 [==============================] - 0s 233us/sample - loss: 0.6828 - accuracy: 0.5461 - val_loss: 0.6877 - val_accuracy: 0.5250\n",
      "Epoch 34/200\n",
      "640/640 [==============================] - 0s 224us/sample - loss: 0.6839 - accuracy: 0.5500 - val_loss: 0.6862 - val_accuracy: 0.5375\n",
      "Epoch 35/200\n",
      "640/640 [==============================] - 0s 254us/sample - loss: 0.6856 - accuracy: 0.5477 - val_loss: 0.6845 - val_accuracy: 0.5375\n",
      "Epoch 36/200\n",
      "640/640 [==============================] - 0s 273us/sample - loss: 0.6862 - accuracy: 0.5367 - val_loss: 0.6759 - val_accuracy: 0.5781\n",
      "Epoch 37/200\n",
      "640/640 [==============================] - 0s 226us/sample - loss: 0.6845 - accuracy: 0.5656 - val_loss: 0.6790 - val_accuracy: 0.6187\n",
      "Epoch 38/200\n",
      "640/640 [==============================] - 0s 266us/sample - loss: 0.6828 - accuracy: 0.5531 - val_loss: 0.6818 - val_accuracy: 0.6094\n",
      "Epoch 39/200\n",
      "640/640 [==============================] - 0s 230us/sample - loss: 0.6839 - accuracy: 0.5523 - val_loss: 0.6827 - val_accuracy: 0.6000\n",
      "Epoch 40/200\n",
      "640/640 [==============================] - 0s 233us/sample - loss: 0.6881 - accuracy: 0.5477 - val_loss: 0.6779 - val_accuracy: 0.6094\n",
      "Epoch 41/200\n",
      "640/640 [==============================] - 0s 252us/sample - loss: 0.6809 - accuracy: 0.5734 - val_loss: 0.6812 - val_accuracy: 0.5594\n",
      "Epoch 42/200\n",
      "640/640 [==============================] - 0s 245us/sample - loss: 0.6824 - accuracy: 0.5711 - val_loss: 0.6777 - val_accuracy: 0.6000\n",
      "Epoch 43/200\n",
      "640/640 [==============================] - 0s 239us/sample - loss: 0.6805 - accuracy: 0.5570 - val_loss: 0.6802 - val_accuracy: 0.5875\n",
      "Epoch 44/200\n",
      "640/640 [==============================] - 0s 236us/sample - loss: 0.6815 - accuracy: 0.5609 - val_loss: 0.6779 - val_accuracy: 0.6187\n",
      "Epoch 45/200\n",
      "640/640 [==============================] - 0s 234us/sample - loss: 0.6802 - accuracy: 0.5656 - val_loss: 0.6741 - val_accuracy: 0.6250\n",
      "Epoch 46/200\n",
      "640/640 [==============================] - 0s 223us/sample - loss: 0.6832 - accuracy: 0.5562 - val_loss: 0.6824 - val_accuracy: 0.5719\n",
      "Epoch 47/200\n",
      "640/640 [==============================] - 0s 215us/sample - loss: 0.6852 - accuracy: 0.5719 - val_loss: 0.6861 - val_accuracy: 0.5562\n",
      "Epoch 48/200\n",
      "640/640 [==============================] - 0s 229us/sample - loss: 0.6805 - accuracy: 0.5602 - val_loss: 0.6786 - val_accuracy: 0.5562\n",
      "Epoch 49/200\n",
      "640/640 [==============================] - 0s 249us/sample - loss: 0.6810 - accuracy: 0.5508 - val_loss: 0.6865 - val_accuracy: 0.5625\n",
      "Epoch 50/200\n",
      "640/640 [==============================] - 0s 225us/sample - loss: 0.6846 - accuracy: 0.5562 - val_loss: 0.6808 - val_accuracy: 0.5750\n",
      "Epoch 51/200\n",
      "640/640 [==============================] - 0s 252us/sample - loss: 0.6786 - accuracy: 0.5680 - val_loss: 0.6876 - val_accuracy: 0.5312\n",
      "Epoch 52/200\n",
      "640/640 [==============================] - 0s 242us/sample - loss: 0.6774 - accuracy: 0.5570 - val_loss: 0.6890 - val_accuracy: 0.5094\n",
      "Epoch 53/200\n",
      "640/640 [==============================] - 0s 243us/sample - loss: 0.6830 - accuracy: 0.5719 - val_loss: 0.6883 - val_accuracy: 0.5437\n",
      "Epoch 54/200\n",
      "640/640 [==============================] - 0s 234us/sample - loss: 0.6835 - accuracy: 0.5469 - val_loss: 0.6841 - val_accuracy: 0.5531\n",
      "Epoch 55/200\n",
      "640/640 [==============================] - 0s 269us/sample - loss: 0.6796 - accuracy: 0.5609 - val_loss: 0.6886 - val_accuracy: 0.5406\n",
      "Epoch 56/200\n",
      "640/640 [==============================] - 0s 264us/sample - loss: 0.6806 - accuracy: 0.5734 - val_loss: 0.6879 - val_accuracy: 0.5281\n",
      "Epoch 57/200\n",
      "640/640 [==============================] - 0s 228us/sample - loss: 0.6779 - accuracy: 0.5680 - val_loss: 0.6849 - val_accuracy: 0.5344\n",
      "Epoch 58/200\n",
      "640/640 [==============================] - 0s 259us/sample - loss: 0.6856 - accuracy: 0.5477 - val_loss: 0.6892 - val_accuracy: 0.5156\n",
      "Epoch 59/200\n",
      "640/640 [==============================] - 0s 224us/sample - loss: 0.6820 - accuracy: 0.5617 - val_loss: 0.6822 - val_accuracy: 0.5531\n",
      "Epoch 60/200\n",
      "640/640 [==============================] - 0s 227us/sample - loss: 0.6857 - accuracy: 0.5445 - val_loss: 0.6794 - val_accuracy: 0.5437\n",
      "Epoch 61/200\n",
      "640/640 [==============================] - 0s 286us/sample - loss: 0.6815 - accuracy: 0.5641 - val_loss: 0.6868 - val_accuracy: 0.5938\n",
      "Epoch 62/200\n",
      "640/640 [==============================] - 0s 227us/sample - loss: 0.6803 - accuracy: 0.5617 - val_loss: 0.6739 - val_accuracy: 0.6250\n",
      "Epoch 63/200\n",
      "640/640 [==============================] - 0s 249us/sample - loss: 0.6799 - accuracy: 0.5625 - val_loss: 0.6699 - val_accuracy: 0.6250\n",
      "Epoch 64/200\n",
      "640/640 [==============================] - 0s 241us/sample - loss: 0.6769 - accuracy: 0.5672 - val_loss: 0.6908 - val_accuracy: 0.5906\n",
      "Epoch 65/200\n",
      "640/640 [==============================] - 0s 247us/sample - loss: 0.6744 - accuracy: 0.5820 - val_loss: 0.6884 - val_accuracy: 0.5531\n",
      "Epoch 66/200\n",
      "640/640 [==============================] - 0s 284us/sample - loss: 0.6800 - accuracy: 0.5664 - val_loss: 0.6842 - val_accuracy: 0.5281\n",
      "Epoch 67/200\n",
      "640/640 [==============================] - 0s 263us/sample - loss: 0.6819 - accuracy: 0.5656 - val_loss: 0.6959 - val_accuracy: 0.5250\n",
      "Epoch 68/200\n",
      "640/640 [==============================] - 0s 226us/sample - loss: 0.6810 - accuracy: 0.5578 - val_loss: 0.6845 - val_accuracy: 0.5500\n",
      "Epoch 69/200\n",
      "640/640 [==============================] - 0s 220us/sample - loss: 0.6795 - accuracy: 0.5703 - val_loss: 0.6888 - val_accuracy: 0.5406\n",
      "Epoch 70/200\n",
      "640/640 [==============================] - 0s 242us/sample - loss: 0.6809 - accuracy: 0.5594 - val_loss: 0.6796 - val_accuracy: 0.6094\n",
      "Epoch 71/200\n",
      "640/640 [==============================] - 0s 234us/sample - loss: 0.6849 - accuracy: 0.5609 - val_loss: 0.6800 - val_accuracy: 0.5813\n",
      "Epoch 72/200\n",
      "640/640 [==============================] - 0s 231us/sample - loss: 0.6794 - accuracy: 0.5727 - val_loss: 0.6847 - val_accuracy: 0.5469\n",
      "Epoch 73/200\n",
      "640/640 [==============================] - 0s 225us/sample - loss: 0.6784 - accuracy: 0.5547 - val_loss: 0.6825 - val_accuracy: 0.5719\n",
      "Epoch 74/200\n",
      "640/640 [==============================] - 0s 229us/sample - loss: 0.6760 - accuracy: 0.5750 - val_loss: 0.6796 - val_accuracy: 0.5469\n",
      "Epoch 75/200\n",
      "640/640 [==============================] - 0s 219us/sample - loss: 0.6784 - accuracy: 0.5688 - val_loss: 0.6833 - val_accuracy: 0.5375\n",
      "Epoch 76/200\n",
      "640/640 [==============================] - 0s 217us/sample - loss: 0.6718 - accuracy: 0.5789 - val_loss: 0.6926 - val_accuracy: 0.5781\n",
      "Epoch 77/200\n",
      "640/640 [==============================] - 0s 228us/sample - loss: 0.6782 - accuracy: 0.5742 - val_loss: 0.6826 - val_accuracy: 0.5813\n",
      "Epoch 78/200\n",
      "640/640 [==============================] - 0s 232us/sample - loss: 0.6757 - accuracy: 0.5797 - val_loss: 0.6782 - val_accuracy: 0.5938\n",
      "Epoch 79/200\n",
      "640/640 [==============================] - 0s 216us/sample - loss: 0.6732 - accuracy: 0.5789 - val_loss: 0.6917 - val_accuracy: 0.5594\n",
      "Epoch 80/200\n",
      "640/640 [==============================] - 0s 263us/sample - loss: 0.6752 - accuracy: 0.5641 - val_loss: 0.6857 - val_accuracy: 0.5375\n",
      "Epoch 81/200\n",
      "640/640 [==============================] - 0s 236us/sample - loss: 0.6732 - accuracy: 0.5680 - val_loss: 0.6895 - val_accuracy: 0.5375\n",
      "Epoch 82/200\n",
      "640/640 [==============================] - 0s 280us/sample - loss: 0.6744 - accuracy: 0.5719 - val_loss: 0.6887 - val_accuracy: 0.5938\n",
      "Epoch 83/200\n",
      "640/640 [==============================] - 0s 243us/sample - loss: 0.6777 - accuracy: 0.5586 - val_loss: 0.6818 - val_accuracy: 0.5969\n",
      "Epoch 84/200\n",
      "640/640 [==============================] - 0s 241us/sample - loss: 0.6747 - accuracy: 0.5680 - val_loss: 0.6901 - val_accuracy: 0.5844\n",
      "Epoch 85/200\n",
      "640/640 [==============================] - 0s 282us/sample - loss: 0.6774 - accuracy: 0.5719 - val_loss: 0.6947 - val_accuracy: 0.5813\n",
      "Epoch 86/200\n",
      "640/640 [==============================] - 0s 286us/sample - loss: 0.6706 - accuracy: 0.5797 - val_loss: 0.6880 - val_accuracy: 0.5875\n",
      "Epoch 87/200\n",
      "640/640 [==============================] - 0s 238us/sample - loss: 0.6770 - accuracy: 0.5734 - val_loss: 0.6962 - val_accuracy: 0.5094\n",
      "Epoch 88/200\n",
      "640/640 [==============================] - 0s 260us/sample - loss: 0.6722 - accuracy: 0.5758 - val_loss: 0.6929 - val_accuracy: 0.5063\n",
      "Epoch 89/200\n",
      "640/640 [==============================] - 0s 234us/sample - loss: 0.6748 - accuracy: 0.5695 - val_loss: 0.6932 - val_accuracy: 0.5188\n",
      "Epoch 90/200\n",
      "640/640 [==============================] - 0s 246us/sample - loss: 0.6768 - accuracy: 0.5602 - val_loss: 0.6927 - val_accuracy: 0.5219\n",
      "Epoch 91/200\n",
      "640/640 [==============================] - 0s 243us/sample - loss: 0.6696 - accuracy: 0.5852 - val_loss: 0.6904 - val_accuracy: 0.5531\n",
      "Epoch 92/200\n",
      "640/640 [==============================] - 0s 235us/sample - loss: 0.6742 - accuracy: 0.5750 - val_loss: 0.6909 - val_accuracy: 0.5656\n",
      "Epoch 93/200\n",
      "640/640 [==============================] - 0s 230us/sample - loss: 0.6656 - accuracy: 0.5828 - val_loss: 0.7043 - val_accuracy: 0.5406\n",
      "Epoch 94/200\n",
      "640/640 [==============================] - 0s 235us/sample - loss: 0.6718 - accuracy: 0.5844 - val_loss: 0.7040 - val_accuracy: 0.5406\n",
      "Epoch 95/200\n",
      "640/640 [==============================] - 0s 225us/sample - loss: 0.6715 - accuracy: 0.5758 - val_loss: 0.6874 - val_accuracy: 0.5625\n",
      "Epoch 96/200\n",
      "640/640 [==============================] - 0s 245us/sample - loss: 0.6714 - accuracy: 0.5813 - val_loss: 0.7012 - val_accuracy: 0.5469\n",
      "Epoch 97/200\n",
      "640/640 [==============================] - 0s 238us/sample - loss: 0.6761 - accuracy: 0.5750 - val_loss: 0.6849 - val_accuracy: 0.5688\n",
      "Epoch 98/200\n",
      "640/640 [==============================] - 0s 224us/sample - loss: 0.6728 - accuracy: 0.5789 - val_loss: 0.7020 - val_accuracy: 0.5469\n",
      "Epoch 99/200\n",
      "640/640 [==============================] - 0s 221us/sample - loss: 0.6655 - accuracy: 0.5867 - val_loss: 0.6838 - val_accuracy: 0.5906\n",
      "Epoch 100/200\n",
      "640/640 [==============================] - 0s 219us/sample - loss: 0.6738 - accuracy: 0.5742 - val_loss: 0.6984 - val_accuracy: 0.5156\n",
      "Epoch 101/200\n",
      "640/640 [==============================] - 0s 246us/sample - loss: 0.6676 - accuracy: 0.5727 - val_loss: 0.6973 - val_accuracy: 0.5312\n",
      "Epoch 102/200\n",
      "640/640 [==============================] - 0s 267us/sample - loss: 0.6630 - accuracy: 0.5867 - val_loss: 0.6906 - val_accuracy: 0.5562\n",
      "Epoch 103/200\n",
      "640/640 [==============================] - 0s 213us/sample - loss: 0.6745 - accuracy: 0.5734 - val_loss: 0.7028 - val_accuracy: 0.5437\n",
      "Epoch 104/200\n",
      "640/640 [==============================] - 0s 229us/sample - loss: 0.6664 - accuracy: 0.5727 - val_loss: 0.7058 - val_accuracy: 0.4969\n",
      "Epoch 105/200\n",
      "640/640 [==============================] - 0s 237us/sample - loss: 0.6740 - accuracy: 0.5688 - val_loss: 0.7091 - val_accuracy: 0.4812\n",
      "Epoch 106/200\n",
      "640/640 [==============================] - 0s 238us/sample - loss: 0.6685 - accuracy: 0.5773 - val_loss: 0.7072 - val_accuracy: 0.5437\n",
      "Epoch 107/200\n",
      "640/640 [==============================] - 0s 248us/sample - loss: 0.6654 - accuracy: 0.5813 - val_loss: 0.6947 - val_accuracy: 0.5500\n",
      "Epoch 108/200\n",
      "640/640 [==============================] - 0s 248us/sample - loss: 0.6620 - accuracy: 0.5852 - val_loss: 0.7088 - val_accuracy: 0.5219\n",
      "Epoch 109/200\n",
      "640/640 [==============================] - 0s 263us/sample - loss: 0.6632 - accuracy: 0.5891 - val_loss: 0.7181 - val_accuracy: 0.5031\n",
      "Epoch 110/200\n",
      "640/640 [==============================] - 0s 250us/sample - loss: 0.6628 - accuracy: 0.5930 - val_loss: 0.7113 - val_accuracy: 0.5375\n",
      "Epoch 111/200\n",
      "640/640 [==============================] - 0s 236us/sample - loss: 0.6758 - accuracy: 0.5844 - val_loss: 0.6926 - val_accuracy: 0.5688\n",
      "Epoch 112/200\n",
      "640/640 [==============================] - 0s 207us/sample - loss: 0.6621 - accuracy: 0.5852 - val_loss: 0.7164 - val_accuracy: 0.4969\n",
      "Epoch 113/200\n",
      "640/640 [==============================] - 0s 211us/sample - loss: 0.6643 - accuracy: 0.5953 - val_loss: 0.7073 - val_accuracy: 0.5312\n",
      "Epoch 114/200\n",
      "640/640 [==============================] - 0s 235us/sample - loss: 0.6534 - accuracy: 0.6117 - val_loss: 0.7105 - val_accuracy: 0.5281\n",
      "Epoch 115/200\n",
      "640/640 [==============================] - 0s 246us/sample - loss: 0.6690 - accuracy: 0.5969 - val_loss: 0.6981 - val_accuracy: 0.5594\n",
      "Epoch 116/200\n",
      "640/640 [==============================] - 0s 228us/sample - loss: 0.6637 - accuracy: 0.5977 - val_loss: 0.7267 - val_accuracy: 0.4875\n",
      "Epoch 117/200\n",
      "640/640 [==============================] - 0s 267us/sample - loss: 0.6649 - accuracy: 0.5859 - val_loss: 0.7065 - val_accuracy: 0.5312\n",
      "Epoch 118/200\n",
      "640/640 [==============================] - 0s 261us/sample - loss: 0.6613 - accuracy: 0.5898 - val_loss: 0.7044 - val_accuracy: 0.5656\n",
      "Epoch 119/200\n",
      "640/640 [==============================] - 0s 228us/sample - loss: 0.6670 - accuracy: 0.6039 - val_loss: 0.7279 - val_accuracy: 0.4781\n",
      "Epoch 120/200\n",
      "640/640 [==============================] - 0s 242us/sample - loss: 0.6568 - accuracy: 0.6039 - val_loss: 0.7119 - val_accuracy: 0.5063\n",
      "Epoch 121/200\n",
      "640/640 [==============================] - 0s 239us/sample - loss: 0.6539 - accuracy: 0.6187 - val_loss: 0.7151 - val_accuracy: 0.5406\n"
     ]
    }
   ],
   "source": [
    "history = model.fit(X_train,\n",
    "                    Y_train,\n",
    "                    epochs=epochs,\n",
    "                    batch_size=batch_size,\n",
    "                    validation_split=0.2,\n",
    "                    callbacks=callback_list,\n",
    "                    verbose=1)"
   ]
  },
  {
   "cell_type": "code",
   "execution_count": 18,
   "metadata": {},
   "outputs": [
    {
     "data": {
      "image/png": "[encoded data removed]",
      "text/plain": [
       "<Figure size 432x288 with 1 Axes>"
      ]
     },
     "metadata": {
      "needs_background": "light"
     },
     "output_type": "display_data"
    },
    {
     "data": {
      "text/plain": [
       "<Figure size 432x288 with 0 Axes>"
      ]
     },
     "metadata": {},
     "output_type": "display_data"
    }
   ],
   "source": [
    "epoch = np.arange(1,121+1)\n",
    "plt.plot(epoch, history.history['loss'], label='Training loss')\n",
    "plt.plot(epoch, history.history['val_loss'], label='Validation loss')\n",
    "plt.xlabel('Epochs')\n",
    "plt.ylabel('Loss')\n",
    "plt.legend()\n",
    "plt.show()\n",
    "plt.savefig('BinaryClassification_Dense2_withfeat2-Loss')"
   ]
  },
  {
   "cell_type": "code",
   "execution_count": 19,
   "metadata": {},
   "outputs": [
    {
     "data": {
      "image/png": "[encoded data removed]",
      "text/plain": [
       "<Figure size 432x288 with 1 Axes>"
      ]
     },
     "metadata": {
      "needs_background": "light"
     },
     "output_type": "display_data"
    },
    {
     "data": {
      "text/plain": [
       "<Figure size 432x288 with 0 Axes>"
      ]
     },
     "metadata": {},
     "output_type": "display_data"
    }
   ],
   "source": [
    "epoch = np.arange(1,121+1)\n",
    "plt.plot(epoch, history.history['accuracy'], label='Training accuracy')\n",
    "plt.plot(epoch, history.history['val_accuracy'], label='Validation accuracy')\n",
    "plt.xlabel('Epochs')\n",
    "plt.ylabel('Accuracy')\n",
    "plt.legend()\n",
    "plt.show()\n",
    "plt.savefig('BinaryClassification_Dense2_withfeat2-Accuracy')"
   ]
  },
  {
   "cell_type": "code",
   "execution_count": 20,
   "metadata": {},
   "outputs": [],
   "source": [
    "model.save('BinaryClassification_Dense2_withfeat2.h5')"
   ]
  },
  {
   "cell_type": "raw",
   "metadata": {},
   "source": [
    "seq_length = 6\n",
    "dataX=[]\n",
    "dataY=[]\n",
    "# seq_length = 240\n",
    "for i in range(0, int(len(X_data)/seq_length)):\n",
    "   _x = X_data[(i*seq_length):(i*seq_length) + seq_length]\n",
    "   dataX.append(_x)\n",
    "   _y = Y_data[(i*seq_length) + seq_length-1]\n",
    "   dataY.append(_y)"
   ]
  }
 ],
 "metadata": {
  "kernelspec": {
   "display_name": "Python 3",
   "language": "python",
   "name": "python3"
  },
  "language_info": {
   "codemirror_mode": {
    "name": "ipython",
    "version": 3
   },
   "file_extension": ".py",
   "mimetype": "text/x-python",
   "name": "python",
   "nbconvert_exporter": "python",
   "pygments_lexer": "ipython3",
   "version": "3.8.13"
  }
 },
 "nbformat": 4,
 "nbformat_minor": 4
}
