{
 "cells": [
  {
   "cell_type": "code",
   "execution_count": 1,
   "id": "147fea89-e423-4e18-be54-cf65d694d682",
   "metadata": {},
   "outputs": [
    {
     "data": {
      "image/png": "[encoded data removed]",
      "text/plain": [
       "<Figure size 432x288 with 1 Axes>"
      ]
     },
     "metadata": {
      "needs_background": "light"
     },
     "output_type": "display_data"
    },
    {
     "data": {
      "image/png": "[encoded data removed]",
      "text/plain": [
       "<Figure size 432x288 with 1 Axes>"
      ]
     },
     "metadata": {
      "needs_background": "light"
     },
     "output_type": "display_data"
    }
   ],
   "source": [
    "# %%\n",
    "import numpy as np\n",
    "import matplotlib.pyplot as plt\n",
    "# %%\n",
    "\n",
    "X = 200\n",
    "r = 100\n",
    "\n",
    "cx = X/2\n",
    "cy = X/2\n",
    "w_square = 255*np.ones([X, X, 3], dtype='int8')\n",
    "plt.imshow(w_square)\n",
    "plt.show()\n",
    "\n",
    "\n",
    "def clac_dist_to_center(x, y, a, b):\n",
    "    return np.sqrt((x-a)**2 + (y-b)**2)\n",
    "\n",
    "\n",
    "def paint_red(x, y, image):\n",
    "    image[x, y, 0] = 255\n",
    "    image[x, y, 1] = 0\n",
    "    image[x, y, 2] = 0\n",
    "    return image\n",
    "\n",
    "def paint_blue(x,y,image):\n",
    "    image[x,y,0] = 0\n",
    "    image[x,y,1] = 0\n",
    "    image[x,y,2] = 255\n",
    "    return image\n",
    "\n",
    "for x in range(X):\n",
    "    for y in range(X):\n",
    "        if clac_dist_to_center(x, y, X/2, X/2) <= r:\n",
    "            if x < cx:\n",
    "                w_square = paint_red(x, y, w_square)\n",
    "            else:\n",
    "                 w_square = paint_blue(x, y, w_square)\n",
    "            if clac_dist_to_center(x,y,X/2, X/4) <= r/2 and x >= X/2:\n",
    "                w_square = paint_red(x,y,w_square)\n",
    "\n",
    "            if clac_dist_to_center(x,y,X/2, 3*X/4) <= r/2 and x <= X/2:\n",
    "                w_square = paint_blue(x,y,w_square)\n",
    "\n",
    "\n",
    "plt.imshow(w_square)\n",
    "plt.show()"
   ]
  },
  {
   "cell_type": "code",
   "execution_count": null,
   "id": "8a5d60dc-8d21-4d5f-8da6-722143adef08",
   "metadata": {},
   "outputs": [],
   "source": []
  }
 ],
 "metadata": {
  "kernelspec": {
   "display_name": "Python 3 (ipykernel)",
   "language": "python",
   "name": "python3"
  },
  "language_info": {
   "codemirror_mode": {
    "name": "ipython",
    "version": 3
   },
   "file_extension": ".py",
   "mimetype": "text/x-python",
   "name": "python",
   "nbconvert_exporter": "python",
   "pygments_lexer": "ipython3",
   "version": "3.10.4"
  }
 },
 "nbformat": 4,
 "nbformat_minor": 5
}
