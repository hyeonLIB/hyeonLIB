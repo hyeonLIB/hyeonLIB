{
 "cells": [
  {
   "cell_type": "code",
   "execution_count": 53,
   "id": "1d80d94d-6ac9-4809-8cc5-834022d30123",
   "metadata": {},
   "outputs": [
    {
     "data": {
      "image/png": "[encoded data removed]",
      "text/plain": [
       "<Figure size 432x288 with 1 Axes>"
      ]
     },
     "metadata": {
      "needs_background": "light"
     },
     "output_type": "display_data"
    }
   ],
   "source": [
    "import numpy as np\n",
    "import matplotlib.pyplot as plt\n",
    "import cv2\n",
    "\n",
    "H = 400\n",
    "r = 100\n",
    "\n",
    "cx = H/2\n",
    "cy = H/2\n",
    "w_square = 255*np.ones([H, H, 3], dtype='int8')\n",
    "\n",
    "# def\n",
    "\n",
    "def clac_dist_to_center(x, y, a, b):\n",
    "    return np.sqrt((x-a)**2 + (y-b)**2)\n",
    "\n",
    "def paint_black(x, y, image):\n",
    "    image[x, y, 0] = 0\n",
    "    image[x, y, 1] = 0\n",
    "    image[x, y, 2] = 0\n",
    "    # return image\n",
    "\n",
    "def paint_red(x, y, image):\n",
    "    image[x, y, 0] = 255\n",
    "    image[x, y, 1] = 0\n",
    "    image[x, y, 2] = 0\n",
    "    # return image\n",
    "\n",
    "def paint_blue(x,y,image):\n",
    "    image[x,y,0] = 0\n",
    "    image[x,y,1] = 0\n",
    "    image[x,y,2] = 255\n",
    "    # return image\n",
    "\n",
    "for x in range(H):\n",
    "    for y in range(H):\n",
    "        if clac_dist_to_center(x, y, H/2, H/2) <= r:\n",
    "            paint_black(x,y, w_square)\n",
    "            # w_square = paint_black(x,y, w_square)\n",
    "            # if x < cx:\n",
    "            #     w_square = paint_red(x, y, w_square)\n",
    "            # else:\n",
    "            #      w_square = paint_blue(x, y, w_square)\n",
    "            # if clac_dist_to_center(x,y,X/2, X/4) <= r/2 and x >= X/2:\n",
    "            #     w_square = paint_red(x,y,w_square)\n",
    "\n",
    "            # if clac_dist_to_center(x,y,X/2, 3*X/4) <= r/2 and x <= X/2:\n",
    "            #     w_square = paint_blue(x,y,w_square)\n",
    "\n",
    "\n",
    "plt.imshow(w_square)\n",
    "plt.show()"
   ]
  },
  {
   "cell_type": "code",
   "execution_count": 58,
   "id": "7e138436-662a-47ed-85d7-0d9e36916e91",
   "metadata": {},
   "outputs": [],
   "source": [
    "x = 200\n",
    "y = 200\n",
    "for i in range(H):\n",
    "    for j in range(H):\n",
    "        if clac_dist_to_center(i-y,j-x,r/2,r/2) <= r:\n",
    "            paint_blue(i,j, w_square)\n",
    "for i in range(H):\n",
    "    for j in range(H):\n",
    "        if (y - r <= i < y + r) & (x - r <= j < x + r):\n",
    "            paint_red(i,j, w_square)"
   ]
  },
  {
   "cell_type": "code",
   "execution_count": 59,
   "id": "2df050f5-39d2-4453-9d87-a48421b38201",
   "metadata": {},
   "outputs": [
    {
     "data": {
      "image/png": "[encoded data removed]",
      "text/plain": [
       "<Figure size 432x288 with 1 Axes>"
      ]
     },
     "metadata": {
      "needs_background": "light"
     },
     "output_type": "display_data"
    }
   ],
   "source": [
    "plt.imshow(w_square)\n",
    "plt.show()"
   ]
  },
  {
   "cell_type": "code",
   "execution_count": null,
   "id": "8ee12d03-9c41-4b70-9b45-4cf3ad474790",
   "metadata": {},
   "outputs": [],
   "source": []
  }
 ],
 "metadata": {
  "kernelspec": {
   "display_name": "Python 3 (ipykernel)",
   "language": "python",
   "name": "python3"
  },
  "language_info": {
   "codemirror_mode": {
    "name": "ipython",
    "version": 3
   },
   "file_extension": ".py",
   "mimetype": "text/x-python",
   "name": "python",
   "nbconvert_exporter": "python",
   "pygments_lexer": "ipython3",
   "version": "3.10.4"
  }
 },
 "nbformat": 4,
 "nbformat_minor": 5
}
